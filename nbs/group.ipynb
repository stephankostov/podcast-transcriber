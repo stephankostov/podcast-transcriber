{
 "cells": [
  {
   "cell_type": "code",
   "execution_count": 57,
   "metadata": {},
   "outputs": [],
   "source": [
    "#| default_exp group"
   ]
  },
  {
   "attachments": {},
   "cell_type": "markdown",
   "metadata": {},
   "source": [
    "# Group\n",
    "\n",
    "> Module for creating groups of the transcript, specifically for paragraphs, speakers, and topics."
   ]
  },
  {
   "attachments": {},
   "cell_type": "markdown",
   "metadata": {},
   "source": [
    "# Information"
   ]
  },
  {
   "attachments": {},
   "cell_type": "markdown",
   "metadata": {},
   "source": [
    "This module will provide the functionality of splitting our fully transcribed text into desired groups. The grouping hierarchy in order from smallest to largest:\n",
    "\n",
    "1. Sentences\n",
    "2. Paragraphs\n",
    "3. Speaker's Speech\n",
    "4. Topics\n",
    "\n",
    "We'll want to preserve consistency here, so the format of the functions should remain similar, and the inputs / outputs should the same. \n",
    "\n",
    "It would be good to preserve the timestamp information on the word-level as the output, so we keep these in all the groupings. The grouping methods will then deal with arrays of sentences, containing arrays of word objects. Since the topic, and paragraph splitting is done on sentence embeddings, we make all functions take in sentences as the input. The outputs will then be these sentences grouped together."
   ]
  },
  {
   "attachments": {},
   "cell_type": "markdown",
   "metadata": {},
   "source": [
    "# Groups"
   ]
  },
  {
   "attachments": {},
   "cell_type": "markdown",
   "metadata": {},
   "source": [
    "## Sentences"
   ]
  },
  {
   "attachments": {},
   "cell_type": "markdown",
   "metadata": {},
   "source": [
    "In order to group sentences, we first need to get a list of sentences. This is easily done, we simply split the words whenever there is a full stop (or '!'/'?'). \n",
    "\n",
    "There's one more condition though and that's the minimum length of the sentence. This is quite important, as we are making groups based on the similarity of embeddings. Small sentences containing short utterances could skew the split points disproportionately. So here we could either join sentences together, or remove them from the consideration. \n",
    "\n",
    "If we remove them from the consideration, we'd need some way of determining which group they go into ie. whether there's a cutoff before or after them. This might be a bit too complicated, as well as this it is possible that they contain information relavent to the consideration. So here we'll just join short sentences together."
   ]
  },
  {
   "attachments": {},
   "cell_type": "markdown",
   "metadata": {},
   "source": [
    "## Paragraphs"
   ]
  },
  {
   "attachments": {},
   "cell_type": "markdown",
   "metadata": {},
   "source": [
    "### Aims"
   ]
  },
  {
   "attachments": {},
   "cell_type": "markdown",
   "metadata": {},
   "source": [
    "Straightforward requirements here, and that is to introduce a method that can quickly split lengthy text into separate paragraphs. \n",
    "\n",
    "The only use case here is for increased readability, so accuracy isn't at utmost importance."
   ]
  },
  {
   "attachments": {},
   "cell_type": "markdown",
   "metadata": {},
   "source": [
    "### Approach"
   ]
  },
  {
   "attachments": {},
   "cell_type": "markdown",
   "metadata": {},
   "source": [
    "Found [a method online](https://github.com/poloniki/quint/blob/master/notebooks/Chunking%20text%20into%20paragraphs.ipynb) which takes embeddings of sentences, and finds split points at points of a significant change between them."
   ]
  },
  {
   "attachments": {},
   "cell_type": "markdown",
   "metadata": {},
   "source": [
    "## Speakers"
   ]
  },
  {
   "attachments": {},
   "cell_type": "markdown",
   "metadata": {},
   "source": [
    "From the diarized transcript, we simply want to be able to group segemnets where the speaker doesn't change, to display as one in the final output."
   ]
  },
  {
   "attachments": {},
   "cell_type": "markdown",
   "metadata": {},
   "source": [
    "## Topics"
   ]
  },
  {
   "attachments": {},
   "cell_type": "markdown",
   "metadata": {},
   "source": [
    "### Aims\n",
    "\n",
    "Always useful to consider, and reconsider your aims when researching. \n",
    "\n",
    "We are looking for a way of grouping up chapters or topics of the text. \n",
    "\n",
    "The purpose or exact use cases should be considered. Currently I am looking for a tool that can be used for revision of a podcast, though I can of course see it being used further as the sole way of getting a podcast's content. So if possible, choosing methods that would allow both would ideal, but the focus should be kept to the former.\n",
    "\n",
    "So the objective of the former rereading method asks for a lot less. It simply requires the core ideas to be displayed in any format, to only allow the reader to remind themselves what at point of the conversation this was mentioned. This can be done simply by displaying the keywords found by the topics.\n",
    "\n",
    "From the no-listen perspective, more is required from the topics. The splits could be the same, but the labels would need to be more descriptive. Although, this might be the wrong way of thinking about it. What would be required from a reading perspective is real summaries, accurate, and concise in their requirements."
   ]
  },
  {
   "attachments": {},
   "cell_type": "markdown",
   "metadata": {},
   "source": [
    "### Approach\n",
    "\n",
    "What we require here is a way of first grouping the text into topics, and then finding a way to summarise them through a title (and possibly a paragraph summary).\n",
    "\n",
    "### Clustering\n",
    "\n",
    "There are various different ways of splitting the topics, which all come under the category 'Topic Modelling.' They tend to be statistical methods concerned with creating embeddings of the text, reducing their dimensionality, and then clustering them. \n",
    "\n",
    "### Summarisation\n",
    "\n",
    "For the latter, LLM's seem like the perfect use case for this as a summarisation task. They are excellent at summarising as they do have some way of understanding language, and are also able to output that understanding into words. The only issue with this approach is the cost, as they are much more computationally costly as a direct method designed for the task."
   ]
  },
  {
   "attachments": {},
   "cell_type": "markdown",
   "metadata": {},
   "source": [
    "# Implementation"
   ]
  },
  {
   "attachments": {},
   "cell_type": "markdown",
   "metadata": {},
   "source": [
    "## Setup"
   ]
  },
  {
   "cell_type": "code",
   "execution_count": 58,
   "metadata": {},
   "outputs": [],
   "source": [
    "#| export\n",
    "import pandas as pd\n",
    "import numpy as np\n",
    "from pathlib import Path\n",
    "from sentence_transformers import SentenceTransformer\n",
    "from sklearn.metrics.pairwise import cosine_similarity\n",
    "from scipy.signal import argrelextrema\n",
    "import math\n",
    "from nltk.stem import WordNetLemmatizer\n",
    "from nltk import download\n",
    "from functools import partial, update_wrapper"
   ]
  },
  {
   "cell_type": "code",
   "execution_count": 59,
   "metadata": {},
   "outputs": [],
   "source": [
    "import json\n",
    "import seaborn as sns\n",
    "import matplotlib.pyplot as plt"
   ]
  },
  {
   "cell_type": "code",
   "execution_count": 60,
   "metadata": {},
   "outputs": [
    {
     "name": "stderr",
     "output_type": "stream",
     "text": [
      "[nltk_data] Downloading package wordnet to /home/steph/nltk_data...\n",
      "[nltk_data]   Package wordnet is already up-to-date!\n"
     ]
    },
    {
     "data": {
      "text/plain": [
       "True"
      ]
     },
     "execution_count": 60,
     "metadata": {},
     "output_type": "execute_result"
    }
   ],
   "source": [
    "#| export \n",
    "download(\"wordnet\")"
   ]
  },
  {
   "cell_type": "code",
   "execution_count": 61,
   "metadata": {},
   "outputs": [],
   "source": [
    "with open(\"../data/podcast/practical_ai_236_tech_stack/tmp/transcript.json\") as f:\n",
    "    transcript = json.load(f)"
   ]
  },
  {
   "attachments": {},
   "cell_type": "markdown",
   "metadata": {},
   "source": [
    "## Sentences"
   ]
  },
  {
   "cell_type": "code",
   "execution_count": 62,
   "metadata": {},
   "outputs": [],
   "source": [
    "#| export\n",
    "def group_sentences(words, min_length=10):\n",
    "    group_idxs = [0]\n",
    "    for i, w in enumerate(words):\n",
    "        w = w['word'].replace('?', '.')\n",
    "        if (w.endswith('.') or w.endswith('. ')) and (i - (group_idxs[-1] + 1)) >= min_length: \n",
    "            group_idxs.append(i+1)\n",
    "    if len(group_idxs) > 1:\n",
    "        group_idxs.pop()\n",
    "    sentences = [ words[i:j] for i, j in zip(group_idxs, group_idxs[1:]+[None]) ]\n",
    "    return sentences, group_idxs"
   ]
  },
  {
   "cell_type": "code",
   "execution_count": 63,
   "metadata": {},
   "outputs": [],
   "source": [
    "#| export\n",
    "# wrapper around original function to be used for pure text\n",
    "def group_sentences_text(text):\n",
    "    words = [{\"word\": w} for w in text.split(\" \")]\n",
    "    sentences, _ = group_sentences(words)\n",
    "    return sentences"
   ]
  },
  {
   "cell_type": "code",
   "execution_count": 64,
   "metadata": {},
   "outputs": [],
   "source": [
    "transcript_text = ' '.join([word['word'] for word in transcript['words']])\n",
    "sentences = group_sentences_text(transcript_text)[0]"
   ]
  },
  {
   "cell_type": "code",
   "execution_count": 65,
   "metadata": {},
   "outputs": [
    {
     "data": {
      "text/plain": [
       "([{'word': 'Thank',\n",
       "   'start': 19.361,\n",
       "   'end': 19.561,\n",
       "   'score': 0.867,\n",
       "   'speaker': 'SPEAKER_01'},\n",
       "  {'word': 'you',\n",
       "   'start': 19.581,\n",
       "   'end': 19.721,\n",
       "   'score': 0.748,\n",
       "   'speaker': 'SPEAKER_01'},\n",
       "  {'word': 'to',\n",
       "   'start': 19.741,\n",
       "   'end': 19.821,\n",
       "   'score': 0.992,\n",
       "   'speaker': 'SPEAKER_01'}],\n",
       " 29)"
      ]
     },
     "execution_count": 65,
     "metadata": {},
     "output_type": "execute_result"
    }
   ],
   "source": [
    "sentences_indexed = group_sentences(transcript['words'])\n",
    "sentences, sentence_idxs  = sentences_indexed\n",
    "sentences[1][:3], sentence_idxs[1]"
   ]
  },
  {
   "attachments": {},
   "cell_type": "markdown",
   "metadata": {},
   "source": [
    "## Paragraphs"
   ]
  },
  {
   "attachments": {},
   "cell_type": "markdown",
   "metadata": {},
   "source": [
    "A simple task of finding points where long periods of text can be divided into paragraphs."
   ]
  },
  {
   "cell_type": "code",
   "execution_count": 66,
   "metadata": {},
   "outputs": [
    {
     "data": {
      "text/plain": [
       "(259, 768)"
      ]
     },
     "execution_count": 66,
     "metadata": {},
     "output_type": "execute_result"
    }
   ],
   "source": [
    "embedding_model = SentenceTransformer('all-mpnet-base-v2')\n",
    "embeddings = embedding_model.encode(sentences)\n",
    "embeddings.shape"
   ]
  },
  {
   "cell_type": "code",
   "execution_count": 67,
   "metadata": {},
   "outputs": [
    {
     "data": {
      "image/png": "[encoded data removed]",
      "text/plain": [
       "<Figure size 640x480 with 2 Axes>"
      ]
     },
     "metadata": {},
     "output_type": "display_data"
    }
   ],
   "source": [
    "similarity_matrix =  cosine_similarity(embeddings)\n",
    "sns.heatmap(similarity_matrix).set_title('Cosine similarities matrix');"
   ]
  },
  {
   "cell_type": "code",
   "execution_count": 68,
   "metadata": {},
   "outputs": [],
   "source": [
    "#| export\n",
    "def rev_sigmoid(x:float)->float:\n",
    "    return (1 / (1 + math.exp(0.5*x)))\n",
    "    \n",
    "def activate_similarities(similarities:np.array, p_size=10)->np.array:\n",
    "        \"\"\" Function returns list of weighted sums of activated sentence similarities\n",
    "        Args:\n",
    "            similarities (numpy array): it should square matrix where each sentence corresponds to another with cosine similarity\n",
    "            p_size (int): number of sentences are used to calculate weighted sum \n",
    "        Returns:\n",
    "            list: list of weighted sums\n",
    "        \"\"\"\n",
    "        # To create weights for sigmoid function we first have to create space. P_size will determine number of sentences used and the size of weights vector.\n",
    "        x = np.linspace(-10,10,p_size)\n",
    "        # Then we need to apply activation function to the created space\n",
    "        y = np.vectorize(rev_sigmoid) \n",
    "        # Because we only apply activation to p_size number of sentences we have to add zeros to neglect the effect of every additional sentence and to match the length ofvector we will multiply\n",
    "        activation_weights = np.pad(y(x),(0,similarities.shape[0]-p_size))\n",
    "        ### 1. Take each diagonal to the right of the main diagonal\n",
    "        diagonals = [similarities.diagonal(each) for each in range(0,similarities.shape[0])]\n",
    "        ### 2. Pad each diagonal by zeros at the end. Because each diagonal is different length we should pad it with zeros at the end\n",
    "        diagonals = [np.pad(each, (0,similarities.shape[0]-len(each))) for each in diagonals]\n",
    "        ### 3. Stack those diagonals into new matrix\n",
    "        diagonals = np.stack(diagonals)\n",
    "        ### 4. Apply activation weights to each row. Multiply similarities with our activation.\n",
    "        diagonals = diagonals * activation_weights.reshape(-1,1)\n",
    "        ### 5. Calculate the weighted sum of activated similarities\n",
    "        activated_similarities = np.sum(diagonals, axis=0)\n",
    "        return activated_similarities"
   ]
  },
  {
   "cell_type": "code",
   "execution_count": 69,
   "metadata": {},
   "outputs": [],
   "source": [
    "# Let's apply our function. For long sentences i reccomend to use 10 or more sentences\n",
    "activated_similarities = activate_similarities(similarity_matrix, p_size=10)\n",
    "\n",
    "# Find relative minima of our vector. For all local minimas and save them to variable with argrelextrema function\n",
    "minimas = argrelextrema(activated_similarities, np.less, order=2) #order parameter controls how frequent should be splits. I would not reccomend changing this parameter."
   ]
  },
  {
   "cell_type": "code",
   "execution_count": 70,
   "metadata": {},
   "outputs": [
    {
     "data": {
      "text/plain": [
       "<matplotlib.collections.LineCollection at 0x7f25bd10dab0>"
      ]
     },
     "execution_count": 70,
     "metadata": {},
     "output_type": "execute_result"
    },
    {
     "data": {
      "image/png": "[encoded data removed]",
      "text/plain": [
       "<Figure size 640x480 with 1 Axes>"
      ]
     },
     "metadata": {},
     "output_type": "display_data"
    }
   ],
   "source": [
    "# Let's create empty fig for our plor\n",
    "fig, ax = plt.subplots()\n",
    "# plot the flow of our text with activated similarities\n",
    "sns.lineplot(y=activated_similarities, x=range(len(activated_similarities)), ax=ax).set_title('Relative minimas');\n",
    "# Now lets plot vertical lines in order to see where we created the split\n",
    "plt.vlines(x=minimas, ymin=min(activated_similarities), ymax=max(activated_similarities), colors='purple', ls='--', lw=1, label='vline_multiple - full height')"
   ]
  },
  {
   "cell_type": "code",
   "execution_count": 71,
   "metadata": {},
   "outputs": [],
   "source": [
    "#| export\n",
    "def split_on_minimas(sentences, minimas):\n",
    "    group_idxs = [ m for m in minimas[0] ]\n",
    "    group_idxs.insert(0,0)\n",
    "    paragraphs = [ sentences[i:j] for i, j in zip(group_idxs, group_idxs[1:]+[None]) ]\n",
    "    return paragraphs, group_idxs"
   ]
  },
  {
   "cell_type": "code",
   "execution_count": 72,
   "metadata": {},
   "outputs": [],
   "source": [
    "#| export\n",
    "def get_abs_indexes(sentence_idxs, relative_indexes):\n",
    "    return [ sentence_idxs[i] for i in relative_indexes ]"
   ]
  },
  {
   "cell_type": "code",
   "execution_count": 73,
   "metadata": {},
   "outputs": [],
   "source": [
    "#| export\n",
    "def group_paragraphs(sentences):\n",
    "    if len(sentences) < 8: \n",
    "        return [sentences], [0]\n",
    "    sentences_text = [ ' '.join([ word['word'] for word in s ]) for s in sentences ]\n",
    "    embedding_model = SentenceTransformer('all-mpnet-base-v2')\n",
    "    embeddings = embedding_model.encode(sentences_text)\n",
    "    similarities = cosine_similarity(embeddings)\n",
    "    activated_similarities = activate_similarities(similarities, p_size=8)\n",
    "    minimas = argrelextrema(activated_similarities, np.less, order=2)\n",
    "    paragraphs, group_idxs = split_on_minimas(sentences, minimas)\n",
    "    return paragraphs, group_idxs"
   ]
  },
  {
   "cell_type": "code",
   "execution_count": 74,
   "metadata": {},
   "outputs": [],
   "source": [
    "#| export\n",
    "# wrapped around original function to be used with pure text as opposed to sentence grouped words\n",
    "def group_paragraphs_text(text):\n",
    "    words = [{\"word\": w} for w in text.split(\" \")]\n",
    "    sentences, _ = group_sentences(words)\n",
    "    paragraphs, _ = group_paragraphs(sentences)\n",
    "    paragraphs = '\\n\\n'.join([ ' '.join([  ' '.join([ word['word'] for word in sentence ]) for sentence in paragraph ]) for paragraph in paragraphs ])\n",
    "    return paragraphs"
   ]
  },
  {
   "cell_type": "code",
   "execution_count": 75,
   "metadata": {},
   "outputs": [
    {
     "data": {
      "text/plain": [
       "\"Oh. Welcome to Practical AI. If you work in artificial intelligence, aspire to, or are curious how AI-related technologies are changing the world, this is the show for you. Thank you to our partners at Fastly for shipping all of our pods super fast to wherever you listen.\\n\\nCheck them out at fastly.com. And to our friends at Fly, deploy your app servers and database close to your users. No ops required. Learn more at fly.io. Bye! Welcome to another Fully Connected episode of Practical AI. In these episodes, Chris and I keep you fully connected with everything that's happening in the AI community. We'll cover some of the latest news and we'll cover some learning resources that'll help you level up your machine learning game. I'm Daniel Whitenack. I'm the founder of Prediction Guard and I'm joined as always by my co-host, Chris Benson, who is a tech strategist at Lockheed Martin. How you doing, Chris? very well today, Daniel. How are you? I'm doing great. I am uncharacteristically joining this episode from the lobby of Hampton Inn in Nashville, Tennessee.\\n\\nSo if our listeners hear any background noise, they know what that is. You have a built-in audience right there. built in audience. The people in this lobby are unexpectedly learning about AI today, which I'm happy to happy to do. Yeah, out here visiting a customer on site. And yeah, it's nice to sit back and take a break from that and talk about all the cool stuff going on. Excellent. Well, I'll tell you what, you know, we have had so many questions and, uh, about kind of sorting out all the things that have happened the last few months and over the last year. Um, and we've done a couple of episodes where it was trying to kind of clear out like generative AI, what's in it, uh, what LLMs are, how they relate and stuff like that. What do you think about taking a little bit of a deep dive into large language models and kind of all the things that make them up?\\n\\nBecause there's a lot of lingo being hurled about these days. Yeah, yeah. I think maybe even outside of LLMs, there's this perception that the model, whether it be for image generation or video generation or language generation, that the model is the application. So when you are creating value, the sort of model, whether that be, you know, llama two or stable diffusion XL or whatever, that somehow the model is is the application, like it's providing the functionality that your users want.\\n\\nAnd that's basically a falsehood, I would say. And there's this whole ecosystem of tooling that's developing around this. And one of the things that I sent you recently, which I think does a good job at illustrating some of the various things that are part of this new ecosystem or this new generative AI app stack, was created by Andreessen Horwitz. They created a figure that's like emerging LLM app stack. We'll link it in our show notes.\\n\\nI think it goes, though, maybe more generally than LLMs. But that provides maybe a nice framework to talk through some of these things. Now, of course, they're providing their own look at this stack. especially because they're invested in many of the companies that they highlight on the stack. But I think regardless of that, they're trying to help people understand how some of these things fit together. Have you seen this picture? I have. And I appreciated it when you pointed it out a while back there.\\n\\nIt definitely is an interesting I haven't seen anything quite like it in terms of putting it together. And some things they seem to dive into more than others in the chart. It will be interesting to see how we parse it going forward here. Yeah, and maybe we could just take some of these categories and talk them through in terms of the terminology that's used and how they fit into the overall ecosystem. So we can take an easy example here, which is one of the things that they call out, which is playground. Now, I think this is probably the place where many people start their generative AI journey, let's say. So they either go to, I think, within the playground category, there would be like chat GPT might might fit in that category where you're prompting a model, it's interactive, it's a UI, like you can put stuff in, you can put in a prompt and get an output.\\n\\nRight now, chat GPT is maybe a little bit more than that because there's a chat thread and all of that. But there's other playgrounds as well. So you could think of spaces on Hugging Face that allow you to use stable diffusion or allow you to use other types of models. There's other proprietary kind of playgrounds that are either part of a product or are their own products. So OpenAI has their own playground within their platform. You can log in and try out your prompts. There's nat.dev, which is a cool one that kind of allows you to compare one model to the other.\\n\\nThere's other products, like I would say something like QuipDrop, which is a tool that lets you use stable diffusion. And you can just go there. You can try out prompts for free. You can pay up if you need to use it. So there's a limit to that, but there's a lot of these playgrounds floating around and that's often where people start things. It's funny, the playground itself as a category has a lot of subcategories, I think, to it. Because, you know, you've already kind of called out kind of the diversity of what you've, you know, in the cloud providers, for instance, all the big cloud providers have their own playground areas. Yeah. NVIDIA has a playground area. I think it's almost becoming a ubiquitous notion. And of course, all those playground areas for the commercial entities are focused on their products and services, definitely, but trying to trying to bring some cool factor to it. It's almost like a demo or experimentation interface. If we define this playground category, it's usually, but not always, a browser-based playground or a browser-based interface where you can try to prompt a model and see what the output is like.\\n\\nI think that would generally be true. Maybe there's some caveats to certain ones like mid journey, for example, is a discord bot, or there's still a discord bot that you could use. Maybe that fits into the playground. But generally, these are interactive and useful for experimentation, but not necessarily useful to like build an application. Yeah, I agree. And another thing to note about it from a characteristic standpoint is not only is it really, it's not made for you to go build your own thing. It's made for you to try the kind of the stuff of whatever organization is doing, but they do do it. Uh, they provide the resources. So by being in a browser, you don't have to have a GPU on your laptop.\\n\\nYou don't have to have resources. Yeah. Yeah. You don't have to have all the things through various means. They set up all that for you on the backend, whether it be just calling a service or whether it be creating a temporary environment through virtualization. But it is a good way to either to test out a new product line or to, or to just get your toes wet a little bit. If you want to try some stuff out, maybe you've been listening to the Practical AI podcast for a little while and you want to, uh, a particular topic grabs you. That would be a good place to go. Yeah, and I think within that same vein, you could transition to talk about this other category, which is not unique to the generative AI app stack, let's call it. But it's still part of the stack, which they have called out app hosting. So that's very generic, right? So in here would fit things like, verse sell or i would say you know generally like the cloud providers right and the various ways that you can host things whether that be an amazon with ecs or app runner or whatever that is or in even your own infrastructure your own on prem infrastructure if you host things now there are. I would say a number of hosting providers that are kind of cool and trendy and people that are building new AI apps, they seem to gravitate towards like, let's say, Vercel and a lot of front end developers that use Vercel, which I think it's an amazing platform.\\n\\nSo cool. That hasn't traditionally been like a data sciency hosting way of doing things. But it represents, I think, this new wave of application developers that are developing applications, integrating AI. And you see some of those now kind of coming into or being exposed in this kind of wider app stack. which is a good thing because we've talked for a long time, even as we open this conversation up saying the model is not the app, you know, you have to wrap the model with some goodness to get the value out of it, to be productive with it. And so I personally like the fact that we're seeing the model hosting and the app hosting are starting to merge because I think that's more manageable over time. It's less being in its own special category and it's more about, okay, every app in the future is going to have models in it.\\n\\nAnd so, you know, we're accommodating that notion. So I, I like seeing it go there. I've been waiting for that for a while. Yeah. And to really clarify and define things, you could kind of think about like the playground that we talked about as an app that has been developed by these different people that illustrates some LLM functionality, but it's usually not the app that you're going to build. You're going to build another app that is exposed to your users that uses the functionality. And you'll need to host that either in ways that people have been hosting things for a long time or new interesting patterns that are popping up like things that modal is doing or maybe things that front-end developers really like to use like for sell and and other things but there's still that app hosting side now where i think things get interesting is You have the playground.\\n\\nYou have the app hosting. But regardless of both of those, what happens under the hood? And this is, I think, where things get quite interesting and where there's a lot of differences in the emerging generative AI stack compared to the maybe more traditional non-AI stack. In the middle of the diagram, that we're talking about this emerging LLM app stack diagram, which I think also is, again, more general, is this layer of orchestration. So I don't know about you, Chris, but I am old enough, I guess, you don't have to be that old, I don't think, to when someone says orchestration, I think of like Kubernetes or like container orchestration. Yeah. Maybe that's my own bias coming from working in a few microservices-oriented startups and that sort of thing. But this is distinctly not the orchestration that's being called out here.\\n\\nIn the generative AI app stack, there's a level of orchestration which, in some of my workshops, I've been kind of referring to as almost like a convenience layer. Think about when you're interacting with a model. Let's give a really concrete example. Let's say I want to do question and answer with an LLM. I need to somehow get a context for answering the question. I need to insert the question in that context into a prompt. And then I need to send that prompt to a model. I need to get the result back and maybe do some cleanup on it, like I have some stop tokens, or I want it to end at a certain punctuation mark, or whatever that is. That's all convenience what i would consider sort of this convenience and what they're calling orchestration around the call to the model and so this orchestration layer i think has to do with prompt templates. generating prompts, chains of prompts, agents, plugging in data sources like plugins. These are all things that kind of circle around your AI calls, but aren't the AI model. Yeah. I mean, it's the software around it, you know, just to simplify a little bit. Yeah. And maybe tooling. Yeah. Orchestration tooling. Yeah. Yeah. It's the stuff you have to wrap the model with to make it usable in a productive sense.\\n\\nAnd from the moment that I saw that word, that was almost the very first thing that grabbed me, you know, those, you know, little psychological quirk where you kind of notice the thing that sticks out. Yeah. That's the thing that stuck out was they, It's a big bucket that they're calling orchestration, which is a loaded word that can mean a lot of different things depending on what it is you're trying to do. And the examples that they list in that category are all somewhat diverse as well.\\n\\nI think that was the first point where I thought, well, it's a chart with the creator has a, has a bias there. What are some of the ways, I'm just curious when we think about this kind of orchestration, as they say, wrapping around and providing the convenience, Any ways that you would break that up, like how you think about it, you mentioned convenience and stuff, but they go from something like Python as a programming language to lang chain to chat GPT, all three very distinct kinds of entities. Yeah, I think that you're kind of seeing a number of things happen here. The first one that they call out is Python slash DIY. So you're seeing a lot of roll your own kind of convenience functionality built up around LLMs. But I do think One of the big players here would be like LangChain and what they're doing, because if you look again at those kind of layers of what's available there, you have maybe categories that I would call out. If we just take LangChain as an example, categories that I would call out of this sort of orchestration functionality would be templating. So this would be like prompt templates, for example, or templating in terms of chains. So manually setting up a chain of things that can be called in one call. There's also an automation component of it. Maybe this is a way that orchestration kind of fits with the older way the orchestration term is used in like DevOps and other things where some of it could be automation related to with things like agents or something like that, where you have an agent that automates certain functionality.\\n\\nIt's not the LLM itself, but it's really automations around calling the LLMs or the other generative AI models to generate a, an image or what have you. They also kind of have some separate call outs, you know, for APIs and plugins. And then they have a, which we can hit in a moment. They kind of have a collection of the, the maintenance items, you know, the things to keep the lights on, if you will, logging and caching and, and things like that. How do you look at that breakdown the way they have it? Yeah, so I think this is where they kind of have the orchestration piece in the middle there as connecting a couple different things. One of those would be what I would consider, I think, more on the data or resource side.\\n\\nAnd then one is more on the model side. So I think we could split it into those two major categories. So what are you orchestrating when you're orchestrating something with link chain or similar? Well, you're orchestrating connections to resources. I'll use the term resources because it might not be data per se. It might be like you say, like an API or another platform like Zapier or Wolfram Alpha, something like that.\\n\\nThe other side of that is the model side, both the model hosting and some really useful tooling around that. But let's start on the resource side. So as you mentioned, you might orchestrate things like one of the things that I found both really fun to do and useful is to orchestrate calls into like a Google search. So if I want to pull in some context on the fly, then I might want to do a Google search. That's a call to an API. So that's a resource or a plug-in that might be conveniently integrated into your orchestration layer, either via something like LangChain or via your own DIY code. Another side of this would be the actual data and the data pipelines, which are your own data or data that you've gathered or is relevant to your problem. So again, if we're thinking about this sort of set of resources that could be orchestrated into your app, maybe you have a set of documentation that you want to generate answers to questions out of. Or maybe you have a bunch of images that you want to use to fine tune stable diffusion or something like that. Having data and integrating it into models isn't new. And so the things that are called out in this particular image, like data pipelines, Those are also not new and are part of this app stack if you're integrating your own data. So things like Databricks, or Airflow, or Packaderm, or tools to parse data, so PDF parsers, or unstructured data parsers, or image parsers, or image resizing, or all of that sort of stuff still fits into the data pipelining piece.\\n\\nAnd so you've either got your data coming from APIs, which might be a resource that you're orchestrating, or you've got your data coming from your data sources, which might be traditional data sources of any type from databases to unstructured data. Advancements in computer vision have rendered CAPTCHAs obsolete, as new research shows AI bots are 15% more accurate than humans at picking which images have a bridge or a sign or a bicycle or whatever in them. The researchers recruited 1,400 participants to test websites that used capture puzzles, which account for 120 of the world's 200 most popular websites. The bots' accuracy ranges from 85 to 100%, with the majority above 96%. Meanwhile, we mere mortals check in at a pathetic 50 to 85% accuracy, and we answer slower than the robots to add insult to injury. I've surmised this for months now, as we've been unable to ward off spam account creations on changelog.com, no matter which shiny new CAPTCHA service we tried.\\n\\nThere are other efforts in the works besides CAPTCHA in order to differentiate between robots and humans, but so far, the robots are winning. You just heard one of our five top stories from Monday's Changelog News. Subscribe to the podcast to get all of the week's top stories and pop your email address in at changelog.com slash news to also receive our free companion email with even more developer news worth your attention. Once again, that's changelog.com slash news. Well, Chris, part of the data piece or the resource piece that is kind of unique within this new generative AI app stack is the embedding and the vector database piece. And I have to say, I've just got to recommend that our listeners, if they haven't, listen to our very recent episode about vector databases because that episode goes into way more depth in terms of what a vector database is and why people are using it but just for a quick recap part of what you might want to do with generative AI models is find relevant data that's relevant to a user query and somehow orchestrate that into your LLM calls either for chat or question answering or maybe even into image generation or video generation. In order to find relevant data, what people have found is that they would like to do a vector or an embedding search on their own data to find relevant data.\\n\\nAnd again, you can find out much more about that in our previous episode. But that's called out in this app stack as probably something unique that's developing, which is not just having data pipelines and databases, but having data flow through an embedding model and into a vector database where you're performing semantic searches. I mean, at the end of the day, it's a database that's very, it works well for the kind of operation that we're doing here.\\n\\nWhereas some of the traditional things that we had been working on for years before, there's kind of a context shifting in terms of how you're handling data, what data is, how it's organized. So this makes a lot more sense. Yeah, and I should call out here, too, part of the stack here, and I'm glad that they called it out in this way in the schematic that we're looking at, is the embedding model. So a lot of people are talking about these vector databases, but in order to store a vector in a vector database, there is a very relevant component to this stack, which is the actual model that you're using to create embeddings. And not all are created equal. So think about if you are working on an image problem. You may use a pre-trained feature extractor type model from Hugging Face to extract vectors that your images. So put in an image and get a vector out. But if you're working with both image and text, for example, maybe you're going to use something like Quip or one of those, a related model that's able to embed both images and text in a similar semantic space. But if you're only using text, there's a whole bunch of, of course, choices.\\n\\nAnd all of those don't perform equally for different types of tasks as well. If you search on Hugging Face or just do a Google search for a Hugging Face embeddings leaderboard, there's actually a separate leaderboard. So Hugging Face has a leaderboard for open models and how those score in various metrics. They also have a leaderboard for embeddings. And you can click through the different tasks. Let's say you're doing retrieval tasks. like we're talking about here from a vector database, you can see which embeddings perform the best according to a variety of benchmarks in retrieval or in summarization or other things. Do you use that a lot when you're putting models, uh, and storing them into vector databases and figuring out the embeddings?\\n\\nDo you tend to go and see what is going on? Cause right now there's so much happening in that space. Is that make for a good guidepost for you? Yeah, yeah. And I think what is also useful is looking at those performance metrics, but also, at least on the Hugging Face leaderboard, and some other leaderboards. So if you search for if you're working with text, one of the major tools for creating these embeddings in a really useful way is called sentence transformers. And they have their own table where they have measured and benchmark various embeddings that can be integrated in sentence transformers. That's useful, but it's also useful to look at the columns, whether you're looking in the Hugging Face leaderboard or the sentence transformers or wherever you're looking, at the size of the embedding and the speed of the embedding.\\n\\nBecause it was called out when we had our vector database discussion, but only in passing. Let's say you want to embed 200,000 PDFs. So I just ran across this use case with some of the work that we're doing, and it can take a really, really, really, really long time. depending on how you implement it, to both parse and embed a significant number of PDFs.\\n\\nThe same would be true for documents or other text or other types of data even. And so when you're looking at that, there's two implications here. One is, how fast am I able to generate these embeddings? Do I have to use a GPU or can I use a CPU?\\n\\nbecause there's going to be a different speed on GPUs versus CPUs. And how big are the embeddings? This is another interesting piece, which is, if I have got embeddings that are 1,000 or more in dimension, that's going to take up a lot more room in my database and on disk. than embeddings that are 256 or something like that. So there's also storage and moving around data implications to how you choose this embedding space. So there's a lot of, I think, practical things that maybe people skip over here when they're just doing a prototype with Lang chain and some vector database. It's easy. But then as soon as you try to put all your data in, it gets much harder.\\n\\nyou raised a question in my mind and I'm going to throw it out. You may or may not be familiar with what the answer would be, but when you're looking at vector databases and you're looking at all this, you know, the diversity and embedding possibilities here and the fact that that has kind of physical layer consequences, you know, in terms of storage and stuff like that, are we seeing that in vector or other database arenas where they're trying to accommodate this new approach to capturing data? in terms of having embeddings, the way a vector, you know, with the rise of vector databases, it seems that there would be a whole lot of kind of vendor related research on how you do that. Because to your point a moment ago, you're talking about data at such a volume that poor architecture in terms of what's under the hood could have some pretty big consequences there. Yeah i think that's definitely true and there was a point that was made in one of our last episodes that the vendors for these things are having different priorities that don't always align so some are optimizing for how much data how quickly you can get a large amount of data in.\\n\\nBut maybe they're not as optimized for the query speed. Some are optimizing for query speed, but it might be really slow to get data in. And so that's one piece of it. I think another piece of it is how large of an embedding do you need? and how complicated is your retrieval problem, right? I would recommend that people do some testing around this because let's say you have 100,000 documents that are very, very similar one to another or 100,000 images that are very, very similar to one another and the retrieval problem is actually semantically very difficult.\\n\\nYou might need a larger embedding and more kind of power, even like optimization around the query, like re ranking and other things to get the data that you need. Whereas if you have, you know, 100,000 images, and they're all fairly different, well, maybe you don't need to go to some of those links. So yeah, I think that that's also part of this problem. And people are still feeling out the best practices around some of this, partially because it's this kind of new part of the AI stack, and partially because things are constantly updating as well. So if you use this embedding today, there's a better one tomorrow.\\n\\nAnd vector databases are updating all the time. So it's also just a very dynamic time here. As we look at the chart here and there's kind of the three that we referred to earlier that are, that are kind of together and those are LLM cache logging slash LLM ops and validation. First of all, could you kind of describe what's encompassed in each of those and also kind of why are they fit together?\\n\\nWhy are we seeing those lumped in one category here? One super category. Yeah, so if you think about what we've talked about so far, there's this new generative AI stack, whether you're doing images or language or whatever, there's an application side, which might just be the playground, or it might be your own application. There's a data and resources side, which is what we've talked about with integrating APIs and data sources. And then there's like a third arm here, which is the model side. And all of those are kind of connected through the orchestration layer, the automation layer, the convenience layer, whatever you want to end up calling that.\\n\\nSo now we're kind of going to this third arm of the model side. And we can come back to it here in a second, but one side of this is just hosting the models and having an API around them, which we can come back to. But between the model and your orchestration layer, almost as maybe we could call it like model middleware, I'll just go ahead and coin that.\\n\\nI just coined it on, maybe people are already referring to it that way and I didn't coin it, but model middleware sits kind of either wrapping around or in between your orchestration layer and your model hosting. And these are the things that you're referring to around caching, logging, validation. Probably the one that people are most familiar with If they are familiar with one of these would be the logging layer, which is again something that is kind of a DevOps-y infrastructure term, but here we might think of very specific type of logging, like model. logging, which might be more natively supported in things like weights and biases or clear ml, or these other kind of ml ops type of solutions where you're logging requests that are coming in prompts that are being provided response time, GPU usage, all the kind of model related things. And you want to put those into, you know, graphs and other things. So there may be specific kinds of logging. So how quickly on average is my model responding? What is the latency between making a prompt or a request and getting a response?\\n\\nHow much GPU usage is my model using? And do I need more replicas of that model? These sorts of things can be really helpful as you're putting things into production. So that's a first of these middleware layers. So Chris, the other middleware layers, I would say, that have been called out, at least in what we're looking at, are validation and caching. So I'll talk about caching, and then we can talk about validation a little bit, which is close to my heart. But caching, let's say that, again, this already happens in a lot of different applications. So think about a general API application. if someone makes a request for data in your database, and you retrieve that data, and then the next user asks for the same data in your database, the proper and smart thing to do would not be to do two retrievals, right, but to cache that data in the application layer in memory, so that you can respond very quickly and reduce the number of times that you're reaching out to your database and things like that. I notice in this chart that some of the examples that they put for caching, such as Redis and SQLite and such are, are very typical and long-term players in the app dev world. Yep. So does that beg the question for, or at least for me begging the question that when you're caching, like you're really talking about for the input, here's an output, whether it goes to a model or not, is it, is it really just application data that you're caching at that point?\\n\\nSo it's caching in that sense, but I think there's maybe implications to it that go beyond normal caching. So running AI models is expensive most of the time because you have to run them on some type of specialized hardware. If I've got a model running on two A100s, I would rather not have four replicas of that model. I would rather just have one if I can, because I don't want to pay for all those GPUs. So part of it is really related to cost and performance. So it's also for a large model.\\n\\nThis is mainly for large models, I would say. You've got a lot of cost. either because you're running that model on really specialized hardware, or because, like if I'm calling out to GPT-4, it's really expensive to do a lot of requests to GPT-4, right? So, in order to deal with that, if you have a prompt input, you can cache that prompt, and if users are asking the same question, I would rather just send them back the same response from GPT-4 or my large llama 270 billion model or whatever it is. I'm going to respond to them the same way based on the same or a similar input. The other implication to this, which in my mind, it sort of fits into caching, but maybe not in the traditional sense. So I normally think of caching as like, I'm going to cache things in memory or locally at the application layer. But if you're caching prompts and responses, there is a real opportunity to leverage that data to build your own competitive moat with your specific generative AI application. So for example, you've got a user base. They're prompting all of these sorts of things. All of a sudden, if you're saving all of that data and the responses that you're giving, you're essentially starting to form your own domain-specific data set that you could leverage in a very competitive way in two senses. One is, right now, if you're using a really expensive model to make those responses, Maybe you start saving those responses from the really expensive model, and you can use that data to fine-tune a smaller model that might be more performant and cost-effective in the long term. So it's an operational kind of play. The other way is, if you're gathering that over time and you actually have the resources to human label that or give your own human preferences on that or certain annotations on that.\\n\\nThat now is your own kind of advantage in fine tuning either one of these generative models or your own internal model for the domain that you're working in. So it's caching, but that's almost like a feedback or data curation side of things as well. So you mentioned earlier that validation was close to your heart. Yeah, so as our users know, I think part of the tooling that I'm building with Prediction Guard would fit into this category. It would actually span, I think, more categories. It kind of spanned between validation and orchestration and model hosting. So there's kind of a little bit of overlap there. But this validation layer really has to do with the fact that generative AI models across the board, I think people would say, There's a lot of concerns around reliability, privacy, security, compliance, what have you.\\n\\nAnd so there's a rising number of tools that are addressing some or all of those issues. So whether it be putting controls on the output of your LLM, again, think about this like a middleware layer. my LLM produces something harmful as output, or my generative AI model generates an image that is not fit for my users, I want to somehow catch that and correct it if I can. Or I want to put certain things into my model, but I want to make sure that I'm not putting in either private or sensitive data. Or I want to structure the output of my model in a certain way into certain structures or types, like JSON or integer or float. All of these sorts of things kind of I personally would break this apart probably into maybe like validation type and structure and then like security related things, because there's a lot here. There's validation, which is like, is my output what I want it to be? There's security related things, which is Am I OK with putting the current request into my model or sending the output back to my users? And then there's type and structuring things. So with images, is the image upscaled appropriately for my use case? Or with text, If I'm putting in something and wanting JSON back, is it actually valid JSON? That's more of a structure type checking type of thing. So there's a lot in this category.\\n\\nAnd I think you're probably getting the fact that I'm thinking a lot about this. I can tell. And there's a lot here. But yeah, other things fitting into this category would I think cool and called rebuff, which is doing kind of checking for prompt injections, for example, that's like part of that security side of things. There's things like PredictionGuard and GuardRails guidance outlines now that do type and structure type of things. There is also, I would say, a layer of this which a lot of people are implementing in the kind of roll your own Python DIY way as well, which in PredictionGuard, we implement some of these. But also, people are implementing them in their own systems, self-consistency sampling, like calling a model multiple times and either choosing between the output or merging the output in some interesting way, or things like that, this sort of consistency stuff. I think a lot of people are rolling their own, too. What do you think, as we start winding up here, what do you think are some of the takeaways from this chart, you know, or what brings top of mind things that people, as they look at it, might benefit from?\\n\\nHow would you see it in the large? Yeah, it's a good question. I think one major takeaway, one thing to keep in mind is the model is only a small part of the whole app stack here in a similar way to like used to when a thing existed called data science. We would say training a model is only a very small part of the kind of end-to-end data science lifecycle of a project. There's a lot of other things involved. And I think here, you can make a similar conclusion that the tendency is to think of the model as the application, but there's really a lot more involved. And our friends over at Layton Space would say this is really where AI engineering comes into play. This space of AI engineering is seems to be developing into a real thing whether you call it that word or not it is part of what this is so that's one take away i think the other take away is maybe just kind of forming this mental model around these three spokes of the stack. So you've got your app and app hosting, you've got your data and your resources, and you've got your model and your model middleware.\\n\\nAnd all that kind of middle hub would be some sort of orchestration that you're performing either in a DIY way or with things like link chain to connect all of those pieces together. So you're probably hoarse by now because we've pulled so much information out of you. This was a really, really good dive. You know, it's one particular publisher's way of looking at it, but we've never really dived into all the components of the infrastructure of a stack.\\n\\nwith this kind of and and I think most people haven't had a chance to see it yet because So much of this has really arisen in recent months. Thanks for kind of Wearing half of a guest hat along the way here and taking us through this on on this fully connected episode Yeah, and I think in terms of learning about these things, I think people can check out our show notes. We'll have a link to the diagram that we've been discussing here. I would say learning-wise, this helps you organize your thought process, but to really get an intuition around these things, you can look at various examples in this diagram and go to their docs and try out some of that. There's a variety of kind of end-to-end examples as well that are pretty typical these days, like in language, if you're doing kind of a chat over your docs thing, that involves a model and a data layer and an application layer.\\n\\nSo just building one of these example apps, I think, could give people the kind of learning and that sort of thing that they need. But yeah, it's been fun. It's always helpful to talk these things out loud with you, Chris. I find it very useful. Well, I learn a lot every time we do this. So thanks a lot, man. Yeah. Yeah. Well, we'll see you next week. See you next week. Thank you for listening to Practical AI. Your next step is to subscribe now if you haven't already. And if you're a longtime listener of the show, help us reach more people by sharing Practical AI with your friends and colleagues. Thanks once again to Fastly and Fly for partnering with us to bring you all ChangeLog podcasts. Check out what they're up to at fastly.com and fly.io. And to our beat-freaking residents, Breakmaster Cylinder, for continuously cranking out the best beats in the biz. That's all for now. We'll talk to you again next time.\""
      ]
     },
     "execution_count": 75,
     "metadata": {},
     "output_type": "execute_result"
    }
   ],
   "source": [
    "paragraphs = group_paragraphs_text(transcript_text)\n",
    "paragraphs"
   ]
  },
  {
   "cell_type": "code",
   "execution_count": 76,
   "metadata": {},
   "outputs": [
    {
     "data": {
      "text/plain": [
       "[{'word': 'Oh.',\n",
       "  'start': 5.088,\n",
       "  'end': 5.13,\n",
       "  'score': 0.038,\n",
       "  'speaker': 'SPEAKER_01'},\n",
       " {'word': 'Welcome',\n",
       "  'start': 7.178,\n",
       "  'end': 7.538,\n",
       "  'score': 0.843,\n",
       "  'speaker': 'SPEAKER_01'},\n",
       " {'word': 'to',\n",
       "  'start': 7.598,\n",
       "  'end': 7.758,\n",
       "  'score': 0.872,\n",
       "  'speaker': 'SPEAKER_01'}]"
      ]
     },
     "execution_count": 76,
     "metadata": {},
     "output_type": "execute_result"
    }
   ],
   "source": [
    "paragraphs, paragraph_idxs = group_paragraphs(sentences[:40])\n",
    "paragraphs[0][0][:3]"
   ]
  },
  {
   "cell_type": "code",
   "execution_count": 77,
   "metadata": {},
   "outputs": [
    {
     "name": "stdout",
     "output_type": "stream",
     "text": [
      "[2, 7, 6, 3, 3, 4, 7, 8]\n"
     ]
    }
   ],
   "source": [
    "print([ len(paragraph) for paragraph in paragraphs ])"
   ]
  },
  {
   "attachments": {},
   "cell_type": "markdown",
   "metadata": {},
   "source": [
    "## Topics"
   ]
  },
  {
   "attachments": {},
   "cell_type": "markdown",
   "metadata": {},
   "source": [
    "### Topic Modelling Methods"
   ]
  },
  {
   "attachments": {},
   "cell_type": "markdown",
   "metadata": {},
   "source": [
    "#### Cosine Similarity Minima"
   ]
  },
  {
   "attachments": {},
   "cell_type": "markdown",
   "metadata": {},
   "source": [
    "Trying out applying the minima at paragraph-level to obtain topics.\n",
    "\n",
    "-> Deleted as methods changed. Revamp when investigating"
   ]
  },
  {
   "attachments": {},
   "cell_type": "markdown",
   "metadata": {},
   "source": [
    "### Clustering"
   ]
  },
  {
   "attachments": {},
   "cell_type": "markdown",
   "metadata": {},
   "source": [
    "Trying out simple clustering on embedded vectors of sentences/paragraphs.\n",
    "\n",
    "This is at minimum a 2-step process. First we need to embed our sentences, and then cluster them into topics."
   ]
  },
  {
   "attachments": {},
   "cell_type": "markdown",
   "metadata": {},
   "source": [
    "#### Embeddings"
   ]
  },
  {
   "cell_type": "code",
   "execution_count": 78,
   "metadata": {},
   "outputs": [],
   "source": [
    "from sentence_transformers import SentenceTransformer\n",
    "\n",
    "sentence_model = SentenceTransformer('sentence-transformers/all-mpnet-base-v2')"
   ]
  },
  {
   "cell_type": "code",
   "execution_count": 79,
   "metadata": {},
   "outputs": [
    {
     "data": {
      "text/plain": [
       "(259, 768)"
      ]
     },
     "execution_count": 79,
     "metadata": {},
     "output_type": "execute_result"
    }
   ],
   "source": [
    "sentence_embeddings = sentence_model.encode(sentences)\n",
    "sentence_embeddings.shape"
   ]
  },
  {
   "cell_type": "code",
   "execution_count": 80,
   "metadata": {},
   "outputs": [],
   "source": [
    "#| export\n",
    "def get_position_embeddings(seq_len, d, n=1000):\n",
    "    P = np.zeros((seq_len, d))\n",
    "    for k in range(seq_len):\n",
    "        for i in np.arange(int(d/2)):\n",
    "            denominator = np.power(n, 2*i/d)\n",
    "            P[k, 2*i] = np.sin(k/denominator)\n",
    "            P[k, 2*i+1] = np.cos(k/denominator)\n",
    "    return P"
   ]
  },
  {
   "cell_type": "code",
   "execution_count": 81,
   "metadata": {},
   "outputs": [
    {
     "data": {
      "text/plain": [
       "(259, 768)"
      ]
     },
     "execution_count": 81,
     "metadata": {},
     "output_type": "execute_result"
    }
   ],
   "source": [
    "position_embeddings = get_position_embeddings(*sentence_embeddings.shape)\n",
    "position_embeddings.shape"
   ]
  },
  {
   "cell_type": "code",
   "execution_count": 82,
   "metadata": {},
   "outputs": [
    {
     "name": "stdout",
     "output_type": "stream",
     "text": [
      "-0.14550272 0.15024488\n",
      "-0.9999999999302351 1.0\n"
     ]
    }
   ],
   "source": [
    "print(np.min(sentence_embeddings), np.max(sentence_embeddings))\n",
    "print(np.min(position_embeddings), np.max(position_embeddings))"
   ]
  },
  {
   "cell_type": "code",
   "execution_count": 83,
   "metadata": {},
   "outputs": [
    {
     "name": "stdout",
     "output_type": "stream",
     "text": [
      "-0.15024487673188117 0.15024487674236298\n"
     ]
    }
   ],
   "source": [
    "position_embeddings = position_embeddings * (np.max(sentence_embeddings) / np.max(position_embeddings))\n",
    "print(np.min(position_embeddings), np.max(position_embeddings))"
   ]
  },
  {
   "cell_type": "code",
   "execution_count": 84,
   "metadata": {},
   "outputs": [],
   "source": [
    "#| export\n",
    "def get_embeddings(sentences):\n",
    "    sentence_model = SentenceTransformer('sentence-transformers/all-mpnet-base-v2')\n",
    "    sentence_embeddings = sentence_model.encode(sentences)\n",
    "    position_embeddings = get_position_embeddings(*sentence_embeddings.shape)\n",
    "    position_embeddings = position_embeddings * (np.max(sentence_embeddings) / np.max(position_embeddings)) # scale to match sentence embeddings\n",
    "    return sentence_embeddings + position_embeddings"
   ]
  },
  {
   "attachments": {},
   "cell_type": "markdown",
   "metadata": {},
   "source": [
    "#### Clustering"
   ]
  },
  {
   "attachments": {},
   "cell_type": "markdown",
   "metadata": {},
   "source": [
    "Decision: Cluster sentences or paragraphs?\n",
    "\n",
    "I think this depends whether the paragraph splitting is good or not. Are the paragraph splitting more or less likely to find the best topic splits."
   ]
  },
  {
   "cell_type": "markdown",
   "metadata": {},
   "source": [
    "### Number of Topics"
   ]
  },
  {
   "cell_type": "code",
   "execution_count": 154,
   "metadata": {},
   "outputs": [],
   "source": [
    "#| export\n",
    "from sklearn.cluster import KMeans"
   ]
  },
  {
   "cell_type": "markdown",
   "metadata": {},
   "source": [
    "We have one constraint for this, and that is to keep topic lengths under the 4096 token limit for the summarisation LLM's context window."
   ]
  },
  {
   "attachments": {},
   "cell_type": "markdown",
   "metadata": {},
   "source": [
    "Giving space for the prompt header we'd like to go under 3700 tokens, which in words is:"
   ]
  },
  {
   "cell_type": "code",
   "execution_count": 210,
   "metadata": {},
   "outputs": [
    {
     "data": {
      "text/plain": [
       "2642.857142857143"
      ]
     },
     "execution_count": 210,
     "metadata": {},
     "output_type": "execute_result"
    }
   ],
   "source": [
    "3700/1.4"
   ]
  },
  {
   "cell_type": "markdown",
   "metadata": {},
   "source": [
    "That's a lot of room to work with, this is much longer than a conversation point usually holds for. \n",
    "\n",
    "Deciding on the average length of a topic is rather arbitrary, and there aren't any constraints that are required aside from the 2500 max length. Let's just say that a topic should usually hold for 1000 words."
   ]
  },
  {
   "cell_type": "code",
   "execution_count": 291,
   "metadata": {},
   "outputs": [],
   "source": [
    "#| export\n",
    "def get_n_topics(words, soft_max_n=20):\n",
    "    n_topics = math.ceil(len(words) / 1000)\n",
    "    if n_topics > soft_max_n: \n",
    "        n_topics = soft_max_n\n",
    "        if len(words)/n_topics > 2500:\n",
    "            n_topics = math.ceil(len(words)/max_n)\n",
    "    return n_topics"
   ]
  },
  {
   "cell_type": "code",
   "execution_count": 292,
   "metadata": {},
   "outputs": [],
   "source": [
    "n_topics = get_n_topics(transcript['words'])"
   ]
  },
  {
   "cell_type": "code",
   "execution_count": 293,
   "metadata": {},
   "outputs": [],
   "source": [
    "final_embeddings = sentence_embeddings+position_embeddings"
   ]
  },
  {
   "cell_type": "code",
   "execution_count": 294,
   "metadata": {},
   "outputs": [],
   "source": [
    "clusters = KMeans(n_clusters=n_topics).fit(final_embeddings)"
   ]
  },
  {
   "cell_type": "code",
   "execution_count": 295,
   "metadata": {},
   "outputs": [],
   "source": [
    "sentences_clustered = list(zip(clusters.labels_, sentences))"
   ]
  },
  {
   "cell_type": "code",
   "execution_count": 296,
   "metadata": {},
   "outputs": [],
   "source": [
    "#| export\n",
    "# splitting topics into consecutive topics \n",
    "def get_topic_splits(sentences_clustered):\n",
    "    group_idxs = [0]\n",
    "    for i in range(1, len(sentences_clustered)):\n",
    "        if sentences_clustered[i][0] != sentences_clustered[i-1][0]: \n",
    "            group_idxs.append(i)\n",
    "    return group_idxs"
   ]
  },
  {
   "cell_type": "code",
   "execution_count": 297,
   "metadata": {},
   "outputs": [],
   "source": [
    "group_idxs = get_topic_splits(sentences_clustered)\n",
    "topic_idxs = get_abs_indexes(sentence_idxs, group_idxs)"
   ]
  },
  {
   "cell_type": "code",
   "execution_count": 298,
   "metadata": {},
   "outputs": [],
   "source": [
    "#| export\n",
    "def group_topics(sentences, n_topics=None):\n",
    "    if not n_topics: n_topics = get_n_topics(sentences_to_words(sentences))\n",
    "    sentences_text = [ ' '.join([ word['word'] for word in s ]) for s in sentences ]\n",
    "    embeddings = get_embeddings(sentences_text)\n",
    "    clusters = KMeans(n_clusters=n_topics).fit(embeddings)\n",
    "    sentences_clustered = list(zip(clusters.labels_, sentences))\n",
    "    group_idxs = get_topic_splits(sentences_clustered)\n",
    "    topics = [ sentences[i:j] for i, j in zip(group_idxs, group_idxs[1:]+[None]) ]\n",
    "    return topics, group_idxs"
   ]
  },
  {
   "cell_type": "code",
   "execution_count": 299,
   "metadata": {},
   "outputs": [
    {
     "data": {
      "text/plain": [
       "8"
      ]
     },
     "execution_count": 299,
     "metadata": {},
     "output_type": "execute_result"
    }
   ],
   "source": [
    "topics, topic_idxs = group_topics(sentences)\n",
    "len(topics)"
   ]
  },
  {
   "attachments": {},
   "cell_type": "markdown",
   "metadata": {},
   "source": [
    "### Visualisation"
   ]
  },
  {
   "cell_type": "code",
   "execution_count": 300,
   "metadata": {},
   "outputs": [
    {
     "ename": "IndexError",
     "evalue": "index 8 is out of bounds for axis 0 with size 8",
     "output_type": "error",
     "traceback": [
      "\u001b[0;31m---------------------------------------------------------------------------\u001b[0m",
      "\u001b[0;31mIndexError\u001b[0m                                Traceback (most recent call last)",
      "Cell \u001b[0;32mIn[300], line 10\u001b[0m\n\u001b[1;32m      6\u001b[0m \u001b[39m# Loop through the number of clusters you have\u001b[39;00m\n\u001b[1;32m      7\u001b[0m \u001b[39mfor\u001b[39;00m i \u001b[39min\u001b[39;00m \u001b[39mrange\u001b[39m(num_clusters):\n\u001b[1;32m      8\u001b[0m     \n\u001b[1;32m      9\u001b[0m     \u001b[39m# Get the list of distances from that particular cluster center\u001b[39;00m\n\u001b[0;32m---> 10\u001b[0m     distances \u001b[39m=\u001b[39m np\u001b[39m.\u001b[39mlinalg\u001b[39m.\u001b[39mnorm(final_embeddings \u001b[39m-\u001b[39m clusters\u001b[39m.\u001b[39;49mcluster_centers_[i], axis\u001b[39m=\u001b[39m\u001b[39m1\u001b[39m)\n\u001b[1;32m     12\u001b[0m     \u001b[39m# Find the list position of the closest one (using argmin to find the smallest distance)\u001b[39;00m\n\u001b[1;32m     13\u001b[0m     closest_index \u001b[39m=\u001b[39m np\u001b[39m.\u001b[39margmin(distances)\n",
      "\u001b[0;31mIndexError\u001b[0m: index 8 is out of bounds for axis 0 with size 8"
     ]
    }
   ],
   "source": [
    "# Find the closest embeddings to the centroids\n",
    "\n",
    "# Create an empty list that will hold your closest points\n",
    "closest_indices = []\n",
    "\n",
    "# Loop through the number of clusters you have\n",
    "for i in range(num_clusters):\n",
    "    \n",
    "    # Get the list of distances from that particular cluster center\n",
    "    distances = np.linalg.norm(final_embeddings - clusters.cluster_centers_[i], axis=1)\n",
    "    \n",
    "    # Find the list position of the closest one (using argmin to find the smallest distance)\n",
    "    closest_index = np.argmin(distances)\n",
    "    \n",
    "    # Append that position to your closest indices list\n",
    "    closest_indices.append(closest_index)\n",
    "\n",
    "closest_indices.sort()\n",
    "closest_indices"
   ]
  },
  {
   "cell_type": "code",
   "execution_count": 301,
   "metadata": {},
   "outputs": [
    {
     "data": {
      "image/png": "[encoded data removed]",
      "text/plain": [
       "<Figure size 640x480 with 1 Axes>"
      ]
     },
     "metadata": {},
     "output_type": "display_data"
    }
   ],
   "source": [
    "from sklearn.manifold import TSNE\n",
    "import matplotlib.pyplot as plt\n",
    "\n",
    "# Taking out the warnings\n",
    "import warnings\n",
    "from warnings import simplefilter\n",
    "\n",
    "# Filter out FutureWarnings\n",
    "simplefilter(action='ignore', category=FutureWarning)\n",
    "\n",
    "# Perform t-SNE and reduce to 2 dimensions\n",
    "tsne = TSNE(n_components=2, random_state=42)\n",
    "reduced_data_tsne = tsne.fit_transform(final_embeddings)\n",
    "\n",
    "# Plot the reduced data\n",
    "plt.scatter(reduced_data_tsne[:, 0], reduced_data_tsne[:, 1], c=clusters.labels_)\n",
    "plt.xlabel('Dimension 1')\n",
    "plt.ylabel('Dimension 2')\n",
    "plt.title('Sentence Embeddings Clustered')\n",
    "plt.show()"
   ]
  },
  {
   "attachments": {},
   "cell_type": "markdown",
   "metadata": {},
   "source": [
    "### Comparing with Labelled Data"
   ]
  },
  {
   "attachments": {},
   "cell_type": "markdown",
   "metadata": {},
   "source": [
    "To compare the results we can use the topics supplied in the [podcast's RSS feed](https://lexfridman.com/feed/podcast/) as a reference."
   ]
  },
  {
   "cell_type": "code",
   "execution_count": 302,
   "metadata": {},
   "outputs": [],
   "source": [
    "with open(\"../data/podcast/practical_ai_236_tech_stack/topics.txt\") as f:\n",
    "    ref_labels_text = f.read()"
   ]
  },
  {
   "cell_type": "code",
   "execution_count": 303,
   "metadata": {},
   "outputs": [],
   "source": [
    "from datetime import datetime"
   ]
  },
  {
   "cell_type": "code",
   "execution_count": 304,
   "metadata": {},
   "outputs": [],
   "source": [
    "def timestamp_to_seconds(timestamp):\n",
    "    if len(timestamp.split(\":\")) == 3:\n",
    "        timestamp = datetime.strptime(timestamp, \"%H:%M:%S\")\n",
    "    else:\n",
    "        timestamp = datetime.strptime(timestamp, \"%M:%S\")\n",
    "    datetime_base = datetime.strptime(\"00:00:00\", \"%H:%M:%S\")\n",
    "    return (timestamp-datetime_base).seconds"
   ]
  },
  {
   "cell_type": "code",
   "execution_count": 305,
   "metadata": {},
   "outputs": [],
   "source": [
    "def get_timestamp_word_index(timestamp):\n",
    "    for i, w in enumerate(transcript['words']):\n",
    "        if int(w['start']) >= timestamp:\n",
    "            return i"
   ]
  },
  {
   "cell_type": "code",
   "execution_count": 306,
   "metadata": {},
   "outputs": [],
   "source": [
    "def get_topic_obj(topic_line):\n",
    "    split = topic_line.split('\t')\n",
    "    heading = split[2]\n",
    "    timestamp = split[1]\n",
    "    timestamp_s = timestamp_to_seconds(timestamp)\n",
    "    word_idx = get_timestamp_word_index(timestamp_s)\n",
    "    return {'heading': heading, 'timestamp': timestamp, 'word_idx': word_idx}"
   ]
  },
  {
   "cell_type": "code",
   "execution_count": 307,
   "metadata": {},
   "outputs": [],
   "source": [
    "ref_labels = list(map(get_topic_obj, ref_labels_text.splitlines()))"
   ]
  },
  {
   "cell_type": "code",
   "execution_count": 308,
   "metadata": {},
   "outputs": [
    {
     "data": {
      "text/html": [
       "<div>\n",
       "<style scoped>\n",
       "    .dataframe tbody tr th:only-of-type {\n",
       "        vertical-align: middle;\n",
       "    }\n",
       "\n",
       "    .dataframe tbody tr th {\n",
       "        vertical-align: top;\n",
       "    }\n",
       "\n",
       "    .dataframe thead th {\n",
       "        text-align: right;\n",
       "    }\n",
       "</style>\n",
       "<table border=\"1\" class=\"dataframe\">\n",
       "  <thead>\n",
       "    <tr style=\"text-align: right;\">\n",
       "      <th></th>\n",
       "      <th>heading</th>\n",
       "      <th>timestamp</th>\n",
       "      <th>word_idx</th>\n",
       "    </tr>\n",
       "  </thead>\n",
       "  <tbody>\n",
       "    <tr>\n",
       "      <th>0</th>\n",
       "      <td>Welcome to Practical AI</td>\n",
       "      <td>00:07</td>\n",
       "      <td>1</td>\n",
       "    </tr>\n",
       "    <tr>\n",
       "      <th>1</th>\n",
       "      <td>Deep dive into LLMs</td>\n",
       "      <td>00:43</td>\n",
       "      <td>77</td>\n",
       "    </tr>\n",
       "    <tr>\n",
       "      <th>2</th>\n",
       "      <td>Emerging LLM app stack</td>\n",
       "      <td>02:25</td>\n",
       "      <td>364</td>\n",
       "    </tr>\n",
       "    <tr>\n",
       "      <th>3</th>\n",
       "      <td>Playgrounds</td>\n",
       "      <td>04:35</td>\n",
       "      <td>698</td>\n",
       "    </tr>\n",
       "    <tr>\n",
       "      <th>4</th>\n",
       "      <td>App Hosting</td>\n",
       "      <td>08:07</td>\n",
       "      <td>1316</td>\n",
       "    </tr>\n",
       "    <tr>\n",
       "      <th>5</th>\n",
       "      <td>Stack orchestration</td>\n",
       "      <td>10:46</td>\n",
       "      <td>1777</td>\n",
       "    </tr>\n",
       "    <tr>\n",
       "      <th>6</th>\n",
       "      <td>Maintenance breakdown</td>\n",
       "      <td>15:50</td>\n",
       "      <td>2569</td>\n",
       "    </tr>\n",
       "    <tr>\n",
       "      <th>7</th>\n",
       "      <td>Sponsor: Changelog News</td>\n",
       "      <td>19:08</td>\n",
       "      <td>3079</td>\n",
       "    </tr>\n",
       "    <tr>\n",
       "      <th>8</th>\n",
       "      <td>Vector databases</td>\n",
       "      <td>20:43</td>\n",
       "      <td>3284</td>\n",
       "    </tr>\n",
       "    <tr>\n",
       "      <th>9</th>\n",
       "      <td>Embedding models</td>\n",
       "      <td>22:36</td>\n",
       "      <td>3566</td>\n",
       "    </tr>\n",
       "    <tr>\n",
       "      <th>10</th>\n",
       "      <td>Benchmarks and measurements</td>\n",
       "      <td>24:27</td>\n",
       "      <td>3845</td>\n",
       "    </tr>\n",
       "    <tr>\n",
       "      <th>11</th>\n",
       "      <td>Data &amp; poor architecture</td>\n",
       "      <td>26:59</td>\n",
       "      <td>4255</td>\n",
       "    </tr>\n",
       "    <tr>\n",
       "      <th>12</th>\n",
       "      <td>LLM logging</td>\n",
       "      <td>29:42</td>\n",
       "      <td>4698</td>\n",
       "    </tr>\n",
       "    <tr>\n",
       "      <th>13</th>\n",
       "      <td>Middleware Caching</td>\n",
       "      <td>33:01</td>\n",
       "      <td>5175</td>\n",
       "    </tr>\n",
       "    <tr>\n",
       "      <th>14</th>\n",
       "      <td>Validation</td>\n",
       "      <td>37:32</td>\n",
       "      <td>5869</td>\n",
       "    </tr>\n",
       "    <tr>\n",
       "      <th>15</th>\n",
       "      <td>Key takeaways</td>\n",
       "      <td>40:53</td>\n",
       "      <td>6375</td>\n",
       "    </tr>\n",
       "    <tr>\n",
       "      <th>16</th>\n",
       "      <td>Closing thoughts</td>\n",
       "      <td>42:36</td>\n",
       "      <td>6660</td>\n",
       "    </tr>\n",
       "    <tr>\n",
       "      <th>17</th>\n",
       "      <td>Outro</td>\n",
       "      <td>44:23</td>\n",
       "      <td>6961</td>\n",
       "    </tr>\n",
       "  </tbody>\n",
       "</table>\n",
       "</div>"
      ],
      "text/plain": [
       "                        heading timestamp  word_idx\n",
       "0       Welcome to Practical AI     00:07         1\n",
       "1           Deep dive into LLMs     00:43        77\n",
       "2        Emerging LLM app stack     02:25       364\n",
       "3                   Playgrounds     04:35       698\n",
       "4                   App Hosting     08:07      1316\n",
       "5           Stack orchestration     10:46      1777\n",
       "6         Maintenance breakdown     15:50      2569\n",
       "7       Sponsor: Changelog News     19:08      3079\n",
       "8              Vector databases     20:43      3284\n",
       "9              Embedding models     22:36      3566\n",
       "10  Benchmarks and measurements     24:27      3845\n",
       "11     Data & poor architecture     26:59      4255\n",
       "12                  LLM logging     29:42      4698\n",
       "13           Middleware Caching     33:01      5175\n",
       "14                   Validation     37:32      5869\n",
       "15                Key takeaways     40:53      6375\n",
       "16             Closing thoughts     42:36      6660\n",
       "17                        Outro     44:23      6961"
      ]
     },
     "execution_count": 308,
     "metadata": {},
     "output_type": "execute_result"
    }
   ],
   "source": [
    "pd.DataFrame(ref_labels)"
   ]
  },
  {
   "cell_type": "code",
   "execution_count": 309,
   "metadata": {},
   "outputs": [],
   "source": [
    "topics, topic_idxs = group_topics(sentences, 18)"
   ]
  },
  {
   "cell_type": "code",
   "execution_count": 310,
   "metadata": {},
   "outputs": [],
   "source": [
    "topic_word_idxs = get_abs_indexes(sentence_idxs, topic_idxs)"
   ]
  },
  {
   "cell_type": "code",
   "execution_count": 311,
   "metadata": {},
   "outputs": [
    {
     "name": "stdout",
     "output_type": "stream",
     "text": [
      "18 18\n",
      "[0, 496, 786, 1106, 1490, 1864, 2240, 2735, 3228, 3659, 3953, 4255, 4733, 5198, 5598, 6045, 6333, 6636]\n",
      "[1, 77, 364, 698, 1316, 1777, 2569, 3079, 3284, 3566, 3845, 4255, 4698, 5175, 5869, 6375, 6660, 6961]\n"
     ]
    }
   ],
   "source": [
    "print(len(topic_word_idxs), len(ref_labels))\n",
    "print(topic_word_idxs)\n",
    "print([l['word_idx'] for l in ref_labels])"
   ]
  },
  {
   "cell_type": "markdown",
   "metadata": {},
   "source": [
    "To define a metric to evaluate the quality here we could have something like the following: \n",
    "\n",
    "For each topic in the reference label, is there a splitpoint within a certain leeway. (2.5% of word count)."
   ]
  },
  {
   "cell_type": "code",
   "execution_count": 312,
   "metadata": {},
   "outputs": [
    {
     "data": {
      "text/plain": [
       "176.4"
      ]
     },
     "execution_count": 312,
     "metadata": {},
     "output_type": "execute_result"
    }
   ],
   "source": [
    "len(transcript['words']) * 0.025"
   ]
  },
  {
   "cell_type": "code",
   "execution_count": 313,
   "metadata": {},
   "outputs": [],
   "source": [
    "for labelled_t in ref_labels:\n",
    "    idx_found = labelled_t['word_idx']\n",
    "    labelled_t['found'] = False\n",
    "    for idx_labelled in topic_word_idxs:\n",
    "        if abs((idx_found - idx_labelled)/len(transcript['words'])) < 0.025:\n",
    "            labelled_t['found'] = True\n",
    "            continue"
   ]
  },
  {
   "cell_type": "code",
   "execution_count": 314,
   "metadata": {},
   "outputs": [
    {
     "data": {
      "text/html": [
       "<div>\n",
       "<style scoped>\n",
       "    .dataframe tbody tr th:only-of-type {\n",
       "        vertical-align: middle;\n",
       "    }\n",
       "\n",
       "    .dataframe tbody tr th {\n",
       "        vertical-align: top;\n",
       "    }\n",
       "\n",
       "    .dataframe thead th {\n",
       "        text-align: right;\n",
       "    }\n",
       "</style>\n",
       "<table border=\"1\" class=\"dataframe\">\n",
       "  <thead>\n",
       "    <tr style=\"text-align: right;\">\n",
       "      <th></th>\n",
       "      <th>heading</th>\n",
       "      <th>timestamp</th>\n",
       "      <th>word_idx</th>\n",
       "      <th>found</th>\n",
       "    </tr>\n",
       "  </thead>\n",
       "  <tbody>\n",
       "    <tr>\n",
       "      <th>0</th>\n",
       "      <td>Welcome to Practical AI</td>\n",
       "      <td>00:07</td>\n",
       "      <td>1</td>\n",
       "      <td>True</td>\n",
       "    </tr>\n",
       "    <tr>\n",
       "      <th>1</th>\n",
       "      <td>Deep dive into LLMs</td>\n",
       "      <td>00:43</td>\n",
       "      <td>77</td>\n",
       "      <td>True</td>\n",
       "    </tr>\n",
       "    <tr>\n",
       "      <th>2</th>\n",
       "      <td>Emerging LLM app stack</td>\n",
       "      <td>02:25</td>\n",
       "      <td>364</td>\n",
       "      <td>True</td>\n",
       "    </tr>\n",
       "    <tr>\n",
       "      <th>3</th>\n",
       "      <td>Playgrounds</td>\n",
       "      <td>04:35</td>\n",
       "      <td>698</td>\n",
       "      <td>True</td>\n",
       "    </tr>\n",
       "    <tr>\n",
       "      <th>4</th>\n",
       "      <td>App Hosting</td>\n",
       "      <td>08:07</td>\n",
       "      <td>1316</td>\n",
       "      <td>True</td>\n",
       "    </tr>\n",
       "    <tr>\n",
       "      <th>5</th>\n",
       "      <td>Stack orchestration</td>\n",
       "      <td>10:46</td>\n",
       "      <td>1777</td>\n",
       "      <td>True</td>\n",
       "    </tr>\n",
       "    <tr>\n",
       "      <th>6</th>\n",
       "      <td>Maintenance breakdown</td>\n",
       "      <td>15:50</td>\n",
       "      <td>2569</td>\n",
       "      <td>True</td>\n",
       "    </tr>\n",
       "    <tr>\n",
       "      <th>7</th>\n",
       "      <td>Sponsor: Changelog News</td>\n",
       "      <td>19:08</td>\n",
       "      <td>3079</td>\n",
       "      <td>True</td>\n",
       "    </tr>\n",
       "    <tr>\n",
       "      <th>8</th>\n",
       "      <td>Vector databases</td>\n",
       "      <td>20:43</td>\n",
       "      <td>3284</td>\n",
       "      <td>True</td>\n",
       "    </tr>\n",
       "    <tr>\n",
       "      <th>9</th>\n",
       "      <td>Embedding models</td>\n",
       "      <td>22:36</td>\n",
       "      <td>3566</td>\n",
       "      <td>True</td>\n",
       "    </tr>\n",
       "    <tr>\n",
       "      <th>10</th>\n",
       "      <td>Benchmarks and measurements</td>\n",
       "      <td>24:27</td>\n",
       "      <td>3845</td>\n",
       "      <td>True</td>\n",
       "    </tr>\n",
       "    <tr>\n",
       "      <th>11</th>\n",
       "      <td>Data &amp; poor architecture</td>\n",
       "      <td>26:59</td>\n",
       "      <td>4255</td>\n",
       "      <td>True</td>\n",
       "    </tr>\n",
       "    <tr>\n",
       "      <th>12</th>\n",
       "      <td>LLM logging</td>\n",
       "      <td>29:42</td>\n",
       "      <td>4698</td>\n",
       "      <td>True</td>\n",
       "    </tr>\n",
       "    <tr>\n",
       "      <th>13</th>\n",
       "      <td>Middleware Caching</td>\n",
       "      <td>33:01</td>\n",
       "      <td>5175</td>\n",
       "      <td>True</td>\n",
       "    </tr>\n",
       "    <tr>\n",
       "      <th>14</th>\n",
       "      <td>Validation</td>\n",
       "      <td>37:32</td>\n",
       "      <td>5869</td>\n",
       "      <td>True</td>\n",
       "    </tr>\n",
       "    <tr>\n",
       "      <th>15</th>\n",
       "      <td>Key takeaways</td>\n",
       "      <td>40:53</td>\n",
       "      <td>6375</td>\n",
       "      <td>True</td>\n",
       "    </tr>\n",
       "    <tr>\n",
       "      <th>16</th>\n",
       "      <td>Closing thoughts</td>\n",
       "      <td>42:36</td>\n",
       "      <td>6660</td>\n",
       "      <td>True</td>\n",
       "    </tr>\n",
       "    <tr>\n",
       "      <th>17</th>\n",
       "      <td>Outro</td>\n",
       "      <td>44:23</td>\n",
       "      <td>6961</td>\n",
       "      <td>False</td>\n",
       "    </tr>\n",
       "  </tbody>\n",
       "</table>\n",
       "</div>"
      ],
      "text/plain": [
       "                        heading timestamp  word_idx  found\n",
       "0       Welcome to Practical AI     00:07         1   True\n",
       "1           Deep dive into LLMs     00:43        77   True\n",
       "2        Emerging LLM app stack     02:25       364   True\n",
       "3                   Playgrounds     04:35       698   True\n",
       "4                   App Hosting     08:07      1316   True\n",
       "5           Stack orchestration     10:46      1777   True\n",
       "6         Maintenance breakdown     15:50      2569   True\n",
       "7       Sponsor: Changelog News     19:08      3079   True\n",
       "8              Vector databases     20:43      3284   True\n",
       "9              Embedding models     22:36      3566   True\n",
       "10  Benchmarks and measurements     24:27      3845   True\n",
       "11     Data & poor architecture     26:59      4255   True\n",
       "12                  LLM logging     29:42      4698   True\n",
       "13           Middleware Caching     33:01      5175   True\n",
       "14                   Validation     37:32      5869   True\n",
       "15                Key takeaways     40:53      6375   True\n",
       "16             Closing thoughts     42:36      6660   True\n",
       "17                        Outro     44:23      6961  False"
      ]
     },
     "execution_count": 314,
     "metadata": {},
     "output_type": "execute_result"
    }
   ],
   "source": [
    "pd.DataFrame(ref_labels)"
   ]
  },
  {
   "cell_type": "code",
   "execution_count": 315,
   "metadata": {},
   "outputs": [
    {
     "name": "stdout",
     "output_type": "stream",
     "text": [
      "18 18 17\n"
     ]
    }
   ],
   "source": [
    "found_count = len([topic for topic in ref_labels if topic['found']])\n",
    "print(len(ref_labels), len(topic_word_idxs), found_count)"
   ]
  },
  {
   "cell_type": "markdown",
   "metadata": {},
   "source": [
    "Out of the topics found, all but three were within our reference. "
   ]
  },
  {
   "cell_type": "markdown",
   "metadata": {},
   "source": [
    "#### Topic Lengths"
   ]
  },
  {
   "attachments": {},
   "cell_type": "markdown",
   "metadata": {},
   "source": [
    "Are the the topic length simply just evenly spaced out?"
   ]
  },
  {
   "cell_type": "code",
   "execution_count": 316,
   "metadata": {},
   "outputs": [
    {
     "data": {
      "text/plain": [
       "(0.055322128851540614, 0.010955644234694013)"
      ]
     },
     "execution_count": 316,
     "metadata": {},
     "output_type": "execute_result"
    }
   ],
   "source": [
    "topic_lengths = [(topic_word_idxs[i+1] - topic_word_idxs[i])/len(transcript['words']) for i in range(len(topic_word_idxs)-1)]\n",
    "np.mean(topic_lengths), np.std(topic_lengths)"
   ]
  },
  {
   "cell_type": "code",
   "execution_count": 317,
   "metadata": {},
   "outputs": [
    {
     "data": {
      "image/png": "[encoded data removed]",
      "text/plain": [
       "<Figure size 640x480 with 1 Axes>"
      ]
     },
     "metadata": {},
     "output_type": "display_data"
    }
   ],
   "source": [
    "plt.hist(topic_lengths);"
   ]
  },
  {
   "attachments": {},
   "cell_type": "markdown",
   "metadata": {},
   "source": [
    "It looks like there's enough variation in topics to not judge it as evenly spaced."
   ]
  },
  {
   "cell_type": "code",
   "execution_count": 318,
   "metadata": {},
   "outputs": [
    {
     "name": "stdout",
     "output_type": "stream",
     "text": [
      "[   0  474  948 1422 1896 2370 2844 3318 3792 4266 4740 5214 5688 6162\n",
      " 6636]\n",
      "[0, 496, 786, 1106, 1490, 1864, 2240, 2735, 3228, 3659, 3953, 4255, 4733, 5198, 5598, 6045, 6333, 6636]\n"
     ]
    }
   ],
   "source": [
    "baseline = np.linspace(0,topic_word_idxs[-1],15).astype(int)\n",
    "print(baseline)\n",
    "print(topic_word_idxs)"
   ]
  },
  {
   "attachments": {},
   "cell_type": "markdown",
   "metadata": {},
   "source": [
    "With this form of clustering, there definitely is a bias towards getting evenly sized clusters, but that's also okay. It might even be what we want, as the reader can easily distinguish between similar sounding titles and topics."
   ]
  },
  {
   "attachments": {},
   "cell_type": "markdown",
   "metadata": {},
   "source": [
    "## Speakers"
   ]
  },
  {
   "attachments": {},
   "cell_type": "markdown",
   "metadata": {},
   "source": [
    "Simply just grouping consecutive speakers together. In order to keep things consistent we want to take sentences as the input, which we flatten to words immediately."
   ]
  },
  {
   "cell_type": "code",
   "execution_count": 319,
   "metadata": {},
   "outputs": [],
   "source": [
    "#| export\n",
    "# flattening sentence array\n",
    "def sentences_to_words(sentences):\n",
    "    return [word for sentence in sentences for word in sentence]"
   ]
  },
  {
   "cell_type": "code",
   "execution_count": 320,
   "metadata": {},
   "outputs": [],
   "source": [
    "#| export\n",
    "# creating speech groups by consecutive speaker\n",
    "def group_speakers(sentences):\n",
    "    # reformat sentences without minimum length to allow proper character splitting\n",
    "    sentences, _ = group_sentences(sentences_to_words(sentences),0)\n",
    "    group_idxs = [0]\n",
    "    for i in range(1, len(sentences)):\n",
    "        if sentences[i][0]['speaker'] != sentences[i-1][0]['speaker']:\n",
    "            group_idxs.append(i)\n",
    "    speaker_groups = [ sentences[i:j] for i, j in zip(group_idxs, group_idxs[1:]+[None]) ]\n",
    "    return speaker_groups, group_idxs"
   ]
  },
  {
   "cell_type": "code",
   "execution_count": 321,
   "metadata": {},
   "outputs": [],
   "source": [
    "speaker_groups, group_idxs = group_speakers(sentences)"
   ]
  },
  {
   "attachments": {},
   "cell_type": "markdown",
   "metadata": {},
   "source": [
    "## Full Grouping"
   ]
  },
  {
   "attachments": {},
   "cell_type": "markdown",
   "metadata": {},
   "source": [
    "We do this in a hierarchical manner, from the top down in terms of the group's scale."
   ]
  },
  {
   "cell_type": "code",
   "execution_count": 322,
   "metadata": {},
   "outputs": [],
   "source": [
    "#| export\n",
    "def get_group_type(group_function):\n",
    "    lemmatizer = WordNetLemmatizer()\n",
    "    return lemmatizer.lemmatize(group_function.__name__.split(\"_\")[1])"
   ]
  },
  {
   "cell_type": "code",
   "execution_count": 323,
   "metadata": {},
   "outputs": [],
   "source": [
    "#| export\n",
    "def label_groups(groups, group_type):\n",
    "    word_label = True if group_type in groups[0][0][0] else False\n",
    "    return [ {\n",
    "            'type': group_type,\n",
    "            'label': group[0][0][group_type] if word_label else i,\n",
    "            'start': group[0][0]['start'],\n",
    "            'end': group[-1][-1]['end'],\n",
    "            'text': ' '.join([word['word'] for word in sentences_to_words(group)]),\n",
    "            'groups': group\n",
    "        } for i, group in enumerate(groups)\n",
    "    ]"
   ]
  },
  {
   "cell_type": "code",
   "execution_count": 324,
   "metadata": {},
   "outputs": [],
   "source": [
    "#| export\n",
    "# warpper function to allow `function.__name__` attribute to be called for partial functions\n",
    "def wrapped_partial(func, *args, **kwargs):\n",
    "    partial_func = partial(func, *args, **kwargs)\n",
    "    update_wrapper(partial_func, func)\n",
    "    return partial_func"
   ]
  },
  {
   "cell_type": "code",
   "execution_count": 325,
   "metadata": {},
   "outputs": [],
   "source": [
    "#| export\n",
    "def group_and_label(sentences, split_functions):\n",
    "    split_function = split_functions[0]\n",
    "    groups, _ = split_function(sentences)\n",
    "    groups = label_groups(groups, get_group_type(split_function))\n",
    "    split_functions = split_functions[1:]\n",
    "    if split_functions: # nest function if there are more groupings\n",
    "        for i, group in enumerate(groups):\n",
    "            groups[i]['groups'] = group_and_label(group['groups'], split_functions)\n",
    "    else: # cleanup at the end\n",
    "        for i, group in enumerate(groups):\n",
    "            groups[i]['words'] = [word for sentence in groups[i]['groups'] for word in sentence]\n",
    "            groups[i].pop('groups')\n",
    "    return groups"
   ]
  },
  {
   "cell_type": "code",
   "execution_count": 326,
   "metadata": {},
   "outputs": [],
   "source": [
    "#| export\n",
    "def group(words, n_topics=None, split_functions=None):\n",
    "    sentences, _ = group_sentences(words) # functions standardised to take sentences as inputs, as this is what is required for topics & paragraphs\n",
    "    split_functions = [wrapped_partial(group_topics, n_topics=n_topics), group_speakers, group_paragraphs] if not split_functions else split_functions\n",
    "    transcript_split = group_and_label(sentences, split_functions)\n",
    "    return transcript_split"
   ]
  },
  {
   "cell_type": "code",
   "execution_count": 327,
   "metadata": {},
   "outputs": [
    {
     "data": {
      "text/plain": [
       "8"
      ]
     },
     "execution_count": 327,
     "metadata": {},
     "output_type": "execute_result"
    }
   ],
   "source": [
    "transcript_grouped = group(transcript['words'])\n",
    "len(transcript_split)"
   ]
  },
  {
   "cell_type": "code",
   "execution_count": 328,
   "metadata": {},
   "outputs": [
    {
     "data": {
      "text/plain": [
       "[716, 890, 1110, 961, 1003, 767, 789, 820]"
      ]
     },
     "execution_count": 328,
     "metadata": {},
     "output_type": "execute_result"
    }
   ],
   "source": [
    "[len(topic['text'].split(' ')) for topic in transcript_split]"
   ]
  },
  {
   "cell_type": "code",
   "execution_count": 329,
   "metadata": {},
   "outputs": [],
   "source": [
    "with open(\"../data/podcast/practical_ai_236_tech_stack/tmp/transcript-grouped.json\", 'w') as f:\n",
    "    json.dump(transcript_grouped, f, ensure_ascii=False, indent=2)"
   ]
  },
  {
   "cell_type": "code",
   "execution_count": 330,
   "metadata": {},
   "outputs": [],
   "source": [
    "#| hide\n",
    "from nbdev import nbdev_export\n",
    "nbdev_export()"
   ]
  },
  {
   "cell_type": "markdown",
   "metadata": {},
   "source": [
    "# Appendix"
   ]
  },
  {
   "attachments": {},
   "cell_type": "markdown",
   "metadata": {},
   "source": [
    "# Investigating"
   ]
  },
  {
   "attachments": {},
   "cell_type": "markdown",
   "metadata": {},
   "source": [
    "## Cleaning"
   ]
  },
  {
   "attachments": {},
   "cell_type": "markdown",
   "metadata": {},
   "source": [
    "Decision: To clean the text or not?\n",
    "- embeddings are used to extract meaning from sentences - so technically it shouldn't make a difference\n",
    "- is there anything I'm losing from cleaning the text?\n",
    "    - possibly as the cleaning might end up alterning/removing key words\n",
    "\n",
    "Lets compare outcomes."
   ]
  },
  {
   "cell_type": "code",
   "execution_count": 278,
   "metadata": {},
   "outputs": [
    {
     "name": "stderr",
     "output_type": "stream",
     "text": [
      "[nltk_data] Downloading package punkt to /home/steph/nltk_data...\n",
      "[nltk_data]   Package punkt is already up-to-date!\n",
      "[nltk_data] Downloading package stopwords to /home/steph/nltk_data...\n",
      "[nltk_data]   Package stopwords is already up-to-date!\n"
     ]
    }
   ],
   "source": [
    "from transcriber.clean import clean"
   ]
  },
  {
   "cell_type": "code",
   "execution_count": 279,
   "metadata": {},
   "outputs": [],
   "source": [
    "#| export\n",
    "# creating speech groups by consecutive speaker\n",
    "def group_speakers(sentences):\n",
    "    words = sentences_to_words(sentences)\n",
    "    group_idxs = [0]\n",
    "    for i in range(1, len(words)):\n",
    "        if words[i]['speaker'] != words[i-1]['speaker']:\n",
    "            group_idxs.append(i)\n",
    "    word_groups = [ words[i:j] for i, j in zip(group_idxs, group_idxs[1:]+[None]) ]\n",
    "    sentence_groups = [ group_sentences(words)[0] for words in word_groups ]\n",
    "    return sentence_groups, group_idxs"
   ]
  },
  {
   "cell_type": "code",
   "execution_count": 280,
   "metadata": {},
   "outputs": [
    {
     "data": {
      "text/plain": [
       "(259, 259)"
      ]
     },
     "execution_count": 280,
     "metadata": {},
     "output_type": "execute_result"
    }
   ],
   "source": [
    "sentences_cleaned = []\n",
    "for sentence in sentences:\n",
    "    sentence_text = ' '.join([word['word'] for word in sentence])\n",
    "    sentence_text_cleaned = clean(sentence_text)\n",
    "    words = [{'word': word} for word in sentence_text_cleaned.split(' ')]\n",
    "    sentences_cleaned.append(words)\n",
    "\n",
    "len(sentences), len(sentences_cleaned)"
   ]
  },
  {
   "cell_type": "code",
   "execution_count": 281,
   "metadata": {},
   "outputs": [],
   "source": [
    "topics_cleaned, topic_idxs_cleaned = group_topics(sentences_cleaned, n_topics)"
   ]
  },
  {
   "cell_type": "code",
   "execution_count": 282,
   "metadata": {},
   "outputs": [
    {
     "name": "stdout",
     "output_type": "stream",
     "text": [
      "[0, 19, 38, 54, 68, 82, 92, 105, 121, 135, 147, 162, 174, 186, 198, 210, 229, 241]\n",
      "[0, 28, 67, 99, 127, 152, 179, 214]\n"
     ]
    }
   ],
   "source": [
    "print(topic_idxs)\n",
    "print(topic_idxs_cleaned)"
   ]
  },
  {
   "attachments": {},
   "cell_type": "markdown",
   "metadata": {},
   "source": [
    "There isn't too much difference here, but interestingly there is some. This will become more clear when looking at the output of the topics."
   ]
  },
  {
   "cell_type": "code",
   "execution_count": 283,
   "metadata": {},
   "outputs": [],
   "source": [
    "def sentences_to_text(sentences): return ' '.join([' '.join([word['word'] for word in sentence]) for sentence in sentences])"
   ]
  },
  {
   "cell_type": "code",
   "execution_count": 284,
   "metadata": {},
   "outputs": [
    {
     "data": {
      "text/plain": [
       "[({'previous': '',\n",
       "   'beginning': 'Oh. Welcome to Practical AI. If you work in artificial intelligence, aspire to, or are curious how AI-related technologies are changing the world, this is the show for you. Thank you to our partners at Fastly for shipping all of our pods super fast to wherever you listen.'},\n",
       "  {'previous': '',\n",
       "   'beginning': 'Oh. Welcome to Practical AI. If you work in artificial intelligence, aspire to, or are curious how AI-related technologies are changing the world, this is the show for you. Thank you to our partners at Fastly for shipping all of our pods super fast to wherever you listen.'}),\n",
       " ({'previous': \"So when you are creating value, the sort of model, whether that be, you know, llama two or stable diffusion XL or whatever, that somehow the model is is the application, like it's providing the functionality that your users want. And that's basically a falsehood, I would say. And there's this whole ecosystem of tooling that's developing around this.\",\n",
       "   'beginning': \"And one of the things that I sent you recently, which I think does a good job at illustrating some of the various things that are part of this new ecosystem or this new generative AI app stack, was created by Andreessen Horwitz. They created a figure that's like emerging LLM app stack. We'll link it in our show notes.\"},\n",
       "  {'previous': 'And some things they seem to dive into more than others in the chart. It will be interesting to see how we parse it going forward here.',\n",
       "   'beginning': \"Yeah, and maybe we could just take some of these categories and talk them through in terms of the terminology that's used and how they fit into the overall ecosystem. So we can take an easy example here, which is one of the things that they call out, which is playground.\"}),\n",
       " ({'previous': \"There's nat.dev, which is a cool one that kind of allows you to compare one model to the other. There's other products, like I would say something like QuipDrop, which is a tool that lets you use stable diffusion.\",\n",
       "   'beginning': \"And you can just go there. You can try out prompts for free. You can pay up if you need to use it. So there's a limit to that, but there's a lot of these playgrounds floating around and that's often where people start things.\"},\n",
       "  {'previous': \"I've been waiting for that for a while. Yeah. And to really clarify and define things, you could kind of think about like the playground that we talked about as an app that has been developed by these different people that illustrates some LLM functionality, but it's usually not the app that you're going to build. You're going to build another app that is exposed to your users that uses the functionality.\",\n",
       "   'beginning': \"And you'll need to host that either in ways that people have been hosting things for a long time or new interesting patterns that are popping up like things that modal is doing or maybe things that front-end developers really like to use like for sell and and other things but there's still that app hosting side now where i think things get interesting is You have the playground. You have the app hosting. But regardless of both of those, what happens under the hood?\"}),\n",
       " ({'previous': \"But it is a good way to either to test out a new product line or to, or to just get your toes wet a little bit. If you want to try some stuff out, maybe you've been listening to the Practical AI podcast for a little while and you want to, uh, a particular topic grabs you.\",\n",
       "   'beginning': \"That would be a good place to go. Yeah, and I think within that same vein, you could transition to talk about this other category, which is not unique to the generative AI app stack, let's call it. But it's still part of the stack, which they have called out app hosting.\"},\n",
       "  {'previous': 'They also kind of have some separate call outs, you know, for APIs and plugins. And then they have a, which we can hit in a moment.',\n",
       "   'beginning': 'They kind of have a collection of the, the maintenance items, you know, the things to keep the lights on, if you will, logging and caching and, and things like that. How do you look at that breakdown the way they have it?'})]"
      ]
     },
     "execution_count": 284,
     "metadata": {},
     "output_type": "execute_result"
    }
   ],
   "source": [
    "topic_split_boundaries = [ {'previous': sentences_to_text(sentences[i-2:i]), 'beginning': sentences_to_text(sentences[i:i+2])} for i in topic_idxs ]\n",
    "topic_cleaned_split_boundaries = [ {'previous': sentences_to_text(sentences[i-2:i]), 'beginning': sentences_to_text(sentences[i:i+2])} for i in topic_idxs_cleaned ]\n",
    "list(zip(topic_split_boundaries, topic_cleaned_split_boundaries))[:4]"
   ]
  },
  {
   "attachments": {},
   "cell_type": "markdown",
   "metadata": {},
   "source": [
    "This would become more clear if we knew what the topics were about. #todo after summarisation is complete."
   ]
  },
  {
   "cell_type": "markdown",
   "metadata": {},
   "source": [
    "## Programmatic Assistance"
   ]
  },
  {
   "cell_type": "markdown",
   "metadata": {},
   "source": [
    "There are a few innacuracies of the transcript which could be helped programmatically. \n",
    "\n",
    "The first one being the grouping of the speakers. The cut off between speakers often happens too early, occurring in the middle of a sentence. The speakers are assigned at each whisper 'utterance' that is recorded. We could bound this to be done at each sentence instead.\n",
    "\n",
    "Yes this bound will limit the accuracy of specific cases where speakers interrupt eachother mid-sentence. But that doesn't happen often, and regardless for readability it still helps to have the sentence in tact."
   ]
  },
  {
   "cell_type": "markdown",
   "metadata": {},
   "source": [
    "Here we can see that utterances aren't specifically sentences."
   ]
  },
  {
   "cell_type": "code",
   "execution_count": 285,
   "metadata": {},
   "outputs": [
    {
     "name": "stdout",
     "output_type": "stream",
     "text": [
      " Bye!\n",
      "I think maybe even outside of LLMs, there's this perception that the model, whether it be for image generation or video generation or language generation,\n",
      "So when you are creating value, the sort of model, whether that be, you know, llama two or stable diffusion XL or whatever, that somehow the model is\n",
      "And one of the things that I sent you recently, which I think does a good job at illustrating some of the various things that are part of this new ecosystem or this new generative AI app stack,\n",
      "Now, I think this is probably the place where many people start their\n",
      "There's other proprietary kind of playgrounds that are either part of a product or\n",
      "And of course, all those playground areas for the commercial entities are focused on their products and services, definitely, but trying to\n",
      "So in here would fit things like,\n"
     ]
    }
   ],
   "source": [
    "for segment in transcript['segments'][0][:100]:\n",
    "    if not (segment['text'].endswith('.') or segment['text'].endswith('?')):\n",
    "        print(segment['text'])"
   ]
  },
  {
   "cell_type": "markdown",
   "metadata": {},
   "source": [
    "We can see that many of the speaker groups assigned aren't sentences."
   ]
  },
  {
   "cell_type": "code",
   "execution_count": 286,
   "metadata": {},
   "outputs": [
    {
     "name": "stdout",
     "output_type": "stream",
     "text": [
      "[]\n"
     ]
    },
    {
     "data": {
      "text/plain": [
       "0"
      ]
     },
     "execution_count": 286,
     "metadata": {},
     "output_type": "execute_result"
    }
   ],
   "source": [
    "interrupted_sentences = []\n",
    "for g in speaker_groups[:100]:\n",
    "    endword = g[-1][-1]['word']\n",
    "    if not (endword.endswith('.') or endword.endswith('?')):\n",
    "        interrupted_sentences.append(endword)\n",
    "\n",
    "print(interrupted_sentences)\n",
    "len(interrupted_sentences)"
   ]
  },
  {
   "cell_type": "code",
   "execution_count": 287,
   "metadata": {},
   "outputs": [],
   "source": [
    "def group_speakers2(sentences):\n",
    "    # reformat sentences without minimum length to allow proper character splitting\n",
    "    sentences, _ = group_sentences(sentences_to_words(sentences),0)\n",
    "    group_idxs = [0]\n",
    "    for i in range(1, len(sentences)):\n",
    "        if sentences[i][0]['speaker'] != sentences[i-1][0]['speaker']:\n",
    "            group_idxs.append(i)\n",
    "    speaker_groups = [ sentences[i:j] for i, j in zip(group_idxs, group_idxs[1:]+[None]) ]\n",
    "    return speaker_groups, group_idxs"
   ]
  },
  {
   "cell_type": "code",
   "execution_count": 288,
   "metadata": {},
   "outputs": [],
   "source": [
    "speaker_groups2, _ = group_speakers2(sentences)"
   ]
  },
  {
   "cell_type": "code",
   "execution_count": 289,
   "metadata": {},
   "outputs": [
    {
     "name": "stdout",
     "output_type": "stream",
     "text": [
      "[]\n"
     ]
    },
    {
     "data": {
      "text/plain": [
       "0"
      ]
     },
     "execution_count": 289,
     "metadata": {},
     "output_type": "execute_result"
    }
   ],
   "source": [
    "interrupted_sentences = []\n",
    "for g in speaker_groups2[:100]:\n",
    "    endword = g[-1][-1]['word']\n",
    "    if not (endword.endswith('.') or endword.endswith('?')):\n",
    "        interrupted_sentences.append(endword)\n",
    "\n",
    "print(interrupted_sentences)\n",
    "len(interrupted_sentences)"
   ]
  },
  {
   "attachments": {},
   "cell_type": "markdown",
   "metadata": {},
   "source": [
    "## Other Topic Modelling Methods"
   ]
  },
  {
   "attachments": {},
   "cell_type": "markdown",
   "metadata": {},
   "source": [
    "### BERTopic"
   ]
  },
  {
   "cell_type": "code",
   "execution_count": null,
   "metadata": {},
   "outputs": [
    {
     "name": "stderr",
     "output_type": "stream",
     "text": [
      "c:\\Users\\steph\\.conda\\envs\\whisperx\\lib\\site-packages\\umap\\distances.py:1063: NumbaDeprecationWarning: \u001b[1mThe 'nopython' keyword argument was not supplied to the 'numba.jit' decorator. The implicit default value for this argument is currently False, but it will be changed to True in Numba 0.59.0. See https://numba.readthedocs.io/en/stable/reference/deprecation.html#deprecation-of-object-mode-fall-back-behaviour-when-using-jit for details.\u001b[0m\n",
      "  @numba.jit()\n",
      "c:\\Users\\steph\\.conda\\envs\\whisperx\\lib\\site-packages\\umap\\distances.py:1071: NumbaDeprecationWarning: \u001b[1mThe 'nopython' keyword argument was not supplied to the 'numba.jit' decorator. The implicit default value for this argument is currently False, but it will be changed to True in Numba 0.59.0. See https://numba.readthedocs.io/en/stable/reference/deprecation.html#deprecation-of-object-mode-fall-back-behaviour-when-using-jit for details.\u001b[0m\n",
      "  @numba.jit()\n",
      "c:\\Users\\steph\\.conda\\envs\\whisperx\\lib\\site-packages\\umap\\distances.py:1086: NumbaDeprecationWarning: \u001b[1mThe 'nopython' keyword argument was not supplied to the 'numba.jit' decorator. The implicit default value for this argument is currently False, but it will be changed to True in Numba 0.59.0. See https://numba.readthedocs.io/en/stable/reference/deprecation.html#deprecation-of-object-mode-fall-back-behaviour-when-using-jit for details.\u001b[0m\n",
      "  @numba.jit()\n",
      "c:\\Users\\steph\\.conda\\envs\\whisperx\\lib\\site-packages\\umap\\umap_.py:660: NumbaDeprecationWarning: \u001b[1mThe 'nopython' keyword argument was not supplied to the 'numba.jit' decorator. The implicit default value for this argument is currently False, but it will be changed to True in Numba 0.59.0. See https://numba.readthedocs.io/en/stable/reference/deprecation.html#deprecation-of-object-mode-fall-back-behaviour-when-using-jit for details.\u001b[0m\n",
      "  @numba.jit()\n"
     ]
    }
   ],
   "source": [
    "from hdbscan import HDBSCAN\n",
    "from sklearn.datasets import fetch_20newsgroups\n",
    "from bertopic import BERTopic\n",
    "from bertopic.vectorizers import ClassTfidfTransformer\n",
    "from bertopic.representation import KeyBERTInspired\n",
    "from bertopic.dimensionality import BaseDimensionalityReduction"
   ]
  },
  {
   "cell_type": "code",
   "execution_count": null,
   "metadata": {},
   "outputs": [],
   "source": [
    "embedding_model = SentenceTransformer('sentence-transformers/all-mpnet-base-v2')"
   ]
  },
  {
   "cell_type": "code",
   "execution_count": null,
   "metadata": {},
   "outputs": [
    {
     "data": {
      "text/plain": [
       "0.3912078657624791"
      ]
     },
     "execution_count": 249,
     "metadata": {},
     "output_type": "execute_result"
    }
   ],
   "source": [
    "np.max(final_embeddings)"
   ]
  },
  {
   "cell_type": "code",
   "execution_count": null,
   "metadata": {},
   "outputs": [],
   "source": [
    "empty_dimensionality_model = BaseDimensionalityReduction()\n",
    "representation_model = KeyBERTInspired()\n",
    "cluster_model = HDBSCAN(min_cluster_size = 15, \n",
    "                        metric = 'euclidean', \n",
    "                        cluster_selection_method = 'eom', \n",
    "                        prediction_data = True)\n",
    "cluster_model = KMeans(n_clusters=num_clusters)\n",
    "ctfidf_model = ClassTfidfTransformer(reduce_frequent_words=True)\n",
    "topic_model = BERTopic(umap_model=empty_dimensionality_model)\n",
    "# topic_model = BERTopic(umap_model=empty_dimensionality_model,\n",
    "#                        ctfidf_model=ctfidf_model,\n",
    "#                        hdbscan_model=cluster_model)\n",
    "topics, probs = topic_model.fit_transform(sentences, final_embeddings)"
   ]
  },
  {
   "cell_type": "code",
   "execution_count": null,
   "metadata": {},
   "outputs": [
    {
     "data": {
      "text/html": [
       "<div>\n",
       "<style scoped>\n",
       "    .dataframe tbody tr th:only-of-type {\n",
       "        vertical-align: middle;\n",
       "    }\n",
       "\n",
       "    .dataframe tbody tr th {\n",
       "        vertical-align: top;\n",
       "    }\n",
       "\n",
       "    .dataframe thead th {\n",
       "        text-align: right;\n",
       "    }\n",
       "</style>\n",
       "<table border=\"1\" class=\"dataframe\">\n",
       "  <thead>\n",
       "    <tr style=\"text-align: right;\">\n",
       "      <th></th>\n",
       "      <th>Topic</th>\n",
       "      <th>Count</th>\n",
       "      <th>Name</th>\n",
       "      <th>Representation</th>\n",
       "      <th>Representative_Docs</th>\n",
       "    </tr>\n",
       "  </thead>\n",
       "  <tbody>\n",
       "    <tr>\n",
       "      <th>0</th>\n",
       "      <td>-1</td>\n",
       "      <td>228</td>\n",
       "      <td>-1_the_and_of_you</td>\n",
       "      <td>[the, and, of, you, that, it, to, its, is, know]</td>\n",
       "      <td>[I mean, it's like when you ask about, I don't...</td>\n",
       "    </tr>\n",
       "    <tr>\n",
       "      <th>1</th>\n",
       "      <td>0</td>\n",
       "      <td>1379</td>\n",
       "      <td>0_of_the_you_and</td>\n",
       "      <td>[of, the, you, and, that, to, is, know, it, in]</td>\n",
       "      <td>[And that's the same type of thing that we're ...</td>\n",
       "    </tr>\n",
       "    <tr>\n",
       "      <th>2</th>\n",
       "      <td>1</td>\n",
       "      <td>151</td>\n",
       "      <td>1_of_the_that_is</td>\n",
       "      <td>[of, the, that, is, and, to, we, in, kind, you]</td>\n",
       "      <td>[And I think that's sort of the thing which is...</td>\n",
       "    </tr>\n",
       "  </tbody>\n",
       "</table>\n",
       "</div>"
      ],
      "text/plain": [
       "   Topic  Count               Name   \n",
       "0     -1    228  -1_the_and_of_you  \\\n",
       "1      0   1379   0_of_the_you_and   \n",
       "2      1    151   1_of_the_that_is   \n",
       "\n",
       "                                     Representation   \n",
       "0  [the, and, of, you, that, it, to, its, is, know]  \\\n",
       "1   [of, the, you, and, that, to, is, know, it, in]   \n",
       "2   [of, the, that, is, and, to, we, in, kind, you]   \n",
       "\n",
       "                                 Representative_Docs  \n",
       "0  [I mean, it's like when you ask about, I don't...  \n",
       "1  [And that's the same type of thing that we're ...  \n",
       "2  [And I think that's sort of the thing which is...  "
      ]
     },
     "execution_count": 257,
     "metadata": {},
     "output_type": "execute_result"
    }
   ],
   "source": [
    "topic_model.get_topic_info()"
   ]
  },
  {
   "cell_type": "code",
   "execution_count": null,
   "metadata": {},
   "outputs": [
    {
     "data": {
      "text/html": [
       "<div>\n",
       "<style scoped>\n",
       "    .dataframe tbody tr th:only-of-type {\n",
       "        vertical-align: middle;\n",
       "    }\n",
       "\n",
       "    .dataframe tbody tr th {\n",
       "        vertical-align: top;\n",
       "    }\n",
       "\n",
       "    .dataframe thead th {\n",
       "        text-align: right;\n",
       "    }\n",
       "</style>\n",
       "<table border=\"1\" class=\"dataframe\">\n",
       "  <thead>\n",
       "    <tr style=\"text-align: right;\">\n",
       "      <th></th>\n",
       "      <th>Document</th>\n",
       "      <th>Topic</th>\n",
       "      <th>Name</th>\n",
       "      <th>Representation</th>\n",
       "      <th>Representative_Docs</th>\n",
       "      <th>Top_n_words</th>\n",
       "      <th>Representative_document</th>\n",
       "    </tr>\n",
       "  </thead>\n",
       "  <tbody>\n",
       "    <tr>\n",
       "      <th>0</th>\n",
       "      <td>The following is a conversation with Stephen W...</td>\n",
       "      <td>5</td>\n",
       "      <td>5_on_do_out_slash</td>\n",
       "      <td>[on, do, out, slash, lex, programs, take, can,...</td>\n",
       "      <td>[And so the question is, when you look at sort...</td>\n",
       "      <td>on - do - out - slash - lex - programs - take ...</td>\n",
       "      <td>False</td>\n",
       "    </tr>\n",
       "    <tr>\n",
       "      <th>1</th>\n",
       "      <td>He's a computer scientist, mathematician, theo...</td>\n",
       "      <td>5</td>\n",
       "      <td>5_on_do_out_slash</td>\n",
       "      <td>[on, do, out, slash, lex, programs, take, can,...</td>\n",
       "      <td>[And so the question is, when you look at sort...</td>\n",
       "      <td>on - do - out - slash - lex - programs - take ...</td>\n",
       "      <td>False</td>\n",
       "    </tr>\n",
       "    <tr>\n",
       "      <th>2</th>\n",
       "      <td>He has been a pioneer in exploring the computa...</td>\n",
       "      <td>5</td>\n",
       "      <td>5_on_do_out_slash</td>\n",
       "      <td>[on, do, out, slash, lex, programs, take, can,...</td>\n",
       "      <td>[And so the question is, when you look at sort...</td>\n",
       "      <td>on - do - out - slash - lex - programs - take ...</td>\n",
       "      <td>False</td>\n",
       "    </tr>\n",
       "    <tr>\n",
       "      <th>3</th>\n",
       "      <td>And now, a quick few second mention of each sp...</td>\n",
       "      <td>5</td>\n",
       "      <td>5_on_do_out_slash</td>\n",
       "      <td>[on, do, out, slash, lex, programs, take, can,...</td>\n",
       "      <td>[And so the question is, when you look at sort...</td>\n",
       "      <td>on - do - out - slash - lex - programs - take ...</td>\n",
       "      <td>False</td>\n",
       "    </tr>\n",
       "    <tr>\n",
       "      <th>4</th>\n",
       "      <td>It's the best way to support this podcast. We ...</td>\n",
       "      <td>5</td>\n",
       "      <td>5_on_do_out_slash</td>\n",
       "      <td>[on, do, out, slash, lex, programs, take, can,...</td>\n",
       "      <td>[And so the question is, when you look at sort...</td>\n",
       "      <td>on - do - out - slash - lex - programs - take ...</td>\n",
       "      <td>False</td>\n",
       "    </tr>\n",
       "    <tr>\n",
       "      <th>...</th>\n",
       "      <td>...</td>\n",
       "      <td>...</td>\n",
       "      <td>...</td>\n",
       "      <td>...</td>\n",
       "      <td>...</td>\n",
       "      <td>...</td>\n",
       "      <td>...</td>\n",
       "    </tr>\n",
       "    <tr>\n",
       "      <th>1753</th>\n",
       "      <td>This is round number four. We'll, I'm sure, ta...</td>\n",
       "      <td>4</td>\n",
       "      <td>4_ruliad_universe_we_aggregate</td>\n",
       "      <td>[ruliad, universe, we, aggregate, existence, a...</td>\n",
       "      <td>[And here's the thing that I, sort of the exci...</td>\n",
       "      <td>ruliad - universe - we - aggregate - existence...</td>\n",
       "      <td>False</td>\n",
       "    </tr>\n",
       "    <tr>\n",
       "      <th>1754</th>\n",
       "      <td>Thank you so much. My pleasure. Thanks for lis...</td>\n",
       "      <td>4</td>\n",
       "      <td>4_ruliad_universe_we_aggregate</td>\n",
       "      <td>[ruliad, universe, we, aggregate, existence, a...</td>\n",
       "      <td>[And here's the thing that I, sort of the exci...</td>\n",
       "      <td>ruliad - universe - we - aggregate - existence...</td>\n",
       "      <td>False</td>\n",
       "    </tr>\n",
       "    <tr>\n",
       "      <th>1755</th>\n",
       "      <td>To support this podcast, please check out our ...</td>\n",
       "      <td>4</td>\n",
       "      <td>4_ruliad_universe_we_aggregate</td>\n",
       "      <td>[ruliad, universe, we, aggregate, existence, a...</td>\n",
       "      <td>[And here's the thing that I, sort of the exci...</td>\n",
       "      <td>ruliad - universe - we - aggregate - existence...</td>\n",
       "      <td>False</td>\n",
       "    </tr>\n",
       "    <tr>\n",
       "      <th>1756</th>\n",
       "      <td>And now, let me leave you with some words from...</td>\n",
       "      <td>4</td>\n",
       "      <td>4_ruliad_universe_we_aggregate</td>\n",
       "      <td>[ruliad, universe, we, aggregate, existence, a...</td>\n",
       "      <td>[And here's the thing that I, sort of the exci...</td>\n",
       "      <td>ruliad - universe - we - aggregate - existence...</td>\n",
       "      <td>False</td>\n",
       "    </tr>\n",
       "    <tr>\n",
       "      <th>1757</th>\n",
       "      <td>The essence of mathematics lies in its freedom...</td>\n",
       "      <td>4</td>\n",
       "      <td>4_ruliad_universe_we_aggregate</td>\n",
       "      <td>[ruliad, universe, we, aggregate, existence, a...</td>\n",
       "      <td>[And here's the thing that I, sort of the exci...</td>\n",
       "      <td>ruliad - universe - we - aggregate - existence...</td>\n",
       "      <td>False</td>\n",
       "    </tr>\n",
       "  </tbody>\n",
       "</table>\n",
       "<p>1758 rows × 7 columns</p>\n",
       "</div>"
      ],
      "text/plain": [
       "                                               Document  Topic   \n",
       "0     The following is a conversation with Stephen W...      5  \\\n",
       "1     He's a computer scientist, mathematician, theo...      5   \n",
       "2     He has been a pioneer in exploring the computa...      5   \n",
       "3     And now, a quick few second mention of each sp...      5   \n",
       "4     It's the best way to support this podcast. We ...      5   \n",
       "...                                                 ...    ...   \n",
       "1753  This is round number four. We'll, I'm sure, ta...      4   \n",
       "1754  Thank you so much. My pleasure. Thanks for lis...      4   \n",
       "1755  To support this podcast, please check out our ...      4   \n",
       "1756  And now, let me leave you with some words from...      4   \n",
       "1757  The essence of mathematics lies in its freedom...      4   \n",
       "\n",
       "                                Name   \n",
       "0                  5_on_do_out_slash  \\\n",
       "1                  5_on_do_out_slash   \n",
       "2                  5_on_do_out_slash   \n",
       "3                  5_on_do_out_slash   \n",
       "4                  5_on_do_out_slash   \n",
       "...                              ...   \n",
       "1753  4_ruliad_universe_we_aggregate   \n",
       "1754  4_ruliad_universe_we_aggregate   \n",
       "1755  4_ruliad_universe_we_aggregate   \n",
       "1756  4_ruliad_universe_we_aggregate   \n",
       "1757  4_ruliad_universe_we_aggregate   \n",
       "\n",
       "                                         Representation   \n",
       "0     [on, do, out, slash, lex, programs, take, can,...  \\\n",
       "1     [on, do, out, slash, lex, programs, take, can,...   \n",
       "2     [on, do, out, slash, lex, programs, take, can,...   \n",
       "3     [on, do, out, slash, lex, programs, take, can,...   \n",
       "4     [on, do, out, slash, lex, programs, take, can,...   \n",
       "...                                                 ...   \n",
       "1753  [ruliad, universe, we, aggregate, existence, a...   \n",
       "1754  [ruliad, universe, we, aggregate, existence, a...   \n",
       "1755  [ruliad, universe, we, aggregate, existence, a...   \n",
       "1756  [ruliad, universe, we, aggregate, existence, a...   \n",
       "1757  [ruliad, universe, we, aggregate, existence, a...   \n",
       "\n",
       "                                    Representative_Docs   \n",
       "0     [And so the question is, when you look at sort...  \\\n",
       "1     [And so the question is, when you look at sort...   \n",
       "2     [And so the question is, when you look at sort...   \n",
       "3     [And so the question is, when you look at sort...   \n",
       "4     [And so the question is, when you look at sort...   \n",
       "...                                                 ...   \n",
       "1753  [And here's the thing that I, sort of the exci...   \n",
       "1754  [And here's the thing that I, sort of the exci...   \n",
       "1755  [And here's the thing that I, sort of the exci...   \n",
       "1756  [And here's the thing that I, sort of the exci...   \n",
       "1757  [And here's the thing that I, sort of the exci...   \n",
       "\n",
       "                                            Top_n_words   \n",
       "0     on - do - out - slash - lex - programs - take ...  \\\n",
       "1     on - do - out - slash - lex - programs - take ...   \n",
       "2     on - do - out - slash - lex - programs - take ...   \n",
       "3     on - do - out - slash - lex - programs - take ...   \n",
       "4     on - do - out - slash - lex - programs - take ...   \n",
       "...                                                 ...   \n",
       "1753  ruliad - universe - we - aggregate - existence...   \n",
       "1754  ruliad - universe - we - aggregate - existence...   \n",
       "1755  ruliad - universe - we - aggregate - existence...   \n",
       "1756  ruliad - universe - we - aggregate - existence...   \n",
       "1757  ruliad - universe - we - aggregate - existence...   \n",
       "\n",
       "      Representative_document  \n",
       "0                       False  \n",
       "1                       False  \n",
       "2                       False  \n",
       "3                       False  \n",
       "4                       False  \n",
       "...                       ...  \n",
       "1753                    False  \n",
       "1754                    False  \n",
       "1755                    False  \n",
       "1756                    False  \n",
       "1757                    False  \n",
       "\n",
       "[1758 rows x 7 columns]"
      ]
     },
     "execution_count": 360,
     "metadata": {},
     "output_type": "execute_result"
    }
   ],
   "source": [
    "topic_model.get_document_info(sentences)"
   ]
  },
  {
   "cell_type": "code",
   "execution_count": null,
   "metadata": {},
   "outputs": [
    {
     "data": {
      "text/plain": [
       "[(29, 0.9545541349302722),\n",
       " (29, 1.0),\n",
       " (-1, 0.0),\n",
       " (18, 0.7329591875073076),\n",
       " (18, 1.0)]"
      ]
     },
     "execution_count": 192,
     "metadata": {},
     "output_type": "execute_result"
    }
   ],
   "source": [
    "list(zip(topics, probs))[:5]"
   ]
  },
  {
   "cell_type": "code",
   "execution_count": null,
   "metadata": {},
   "outputs": [
    {
     "name": "stderr",
     "output_type": "stream",
     "text": [
      "100%|██████████| 44/44 [00:01<00:00, 29.16it/s]\n"
     ]
    }
   ],
   "source": [
    "from scipy.cluster import hierarchy as sch\n",
    "\n",
    "linkage_function = lambda x: sch.linkage(x, 'single', optimal_ordering=True)\n",
    "hierarchical_topics = topic_model.hierarchical_topics(sentences, linkage_function=linkage_function)"
   ]
  },
  {
   "cell_type": "code",
   "execution_count": null,
   "metadata": {},
   "outputs": [
    {
     "data": {
      "application/vnd.plotly.v1+json": {
       "config": {
        "plotlyServerURL": "https://plot.ly"
       },
       "data": [
        {
         "hoverinfo": "text",
         "marker": {
          "color": "rgb(61,153,112)"
         },
         "mode": "lines",
         "text": [
          "yeah_yes_daisy_absolutely_",
          "",
          "",
          "right_yeah_correct_really_so"
         ],
         "type": "scatter",
         "x": [
          0,
          0.6861888822322452,
          0.6861888822322452,
          0
         ],
         "xaxis": "x",
         "y": [
          -5,
          -5,
          -15,
          -15
         ],
         "yaxis": "y"
        },
        {
         "hoverinfo": "text",
         "marker": {
          "color": "rgb(255,65,54)"
         },
         "mode": "lines",
         "text": [
          "universities_departments_programming_university_college",
          "",
          "",
          "exciting_fascinating_interesting_curious_recently"
         ],
         "type": "scatter",
         "x": [
          0,
          0.8638677518747606,
          0.8638677518747606,
          0
         ],
         "xaxis": "x",
         "y": [
          -45,
          -45,
          -55,
          -55
         ],
         "yaxis": "y"
        },
        {
         "hoverinfo": "text",
         "marker": {
          "color": "rgb(255,65,54)"
         },
         "mode": "lines",
         "text": [
          "chocolate_candy_candies_hungry_flakes",
          "",
          "",
          "exciting_fascinating_interesting_curious_recently"
         ],
         "type": "scatter",
         "x": [
          0,
          0.9126883606291961,
          0.9126883606291961,
          0.8638677518747606
         ],
         "xaxis": "x",
         "y": [
          -35,
          -35,
          -50,
          -50
         ],
         "yaxis": "y"
        },
        {
         "hoverinfo": "text",
         "marker": {
          "color": "rgb(255,65,54)"
         },
         "mode": "lines",
         "text": [
          "chocolate_candy_candies_hungry_flakes",
          "",
          "",
          "sponsors_sponsor_lex_thanks_lexfriedmancom"
         ],
         "type": "scatter",
         "x": [
          0.9126883606291961,
          0.9211857091612723,
          0.9211857091612723,
          0
         ],
         "xaxis": "x",
         "y": [
          -42.5,
          -42.5,
          -65,
          -65
         ],
         "yaxis": "y"
        },
        {
         "hoverinfo": "text",
         "marker": {
          "color": "rgb(255,65,54)"
         },
         "mode": "lines",
         "text": [
          "ruliad_precisely_coherently_geographically_coherence",
          "",
          "",
          "sponsors_sponsor_lex_thanks_lexfriedmancom"
         ],
         "type": "scatter",
         "x": [
          0,
          0.9366917771648747,
          0.9366917771648747,
          0.9211857091612723
         ],
         "xaxis": "x",
         "y": [
          -25,
          -25,
          -53.75,
          -53.75
         ],
         "yaxis": "y"
        },
        {
         "hoverinfo": "text",
         "marker": {
          "color": "rgb(255,65,54)"
         },
         "mode": "lines",
         "text": [
          "decade_years_past_life_ago",
          "",
          "",
          "know_that_whether_right_okay"
         ],
         "type": "scatter",
         "x": [
          0,
          0.8674235206680313,
          0.8674235206680313,
          0
         ],
         "xaxis": "x",
         "y": [
          -85,
          -85,
          -95,
          -95
         ],
         "yaxis": "y"
        },
        {
         "hoverinfo": "text",
         "marker": {
          "color": "rgb(255,65,54)"
         },
         "mode": "lines",
         "text": [
          "weve_we_four_eventually_way",
          "",
          "",
          "know_that_whether_right_okay"
         ],
         "type": "scatter",
         "x": [
          0,
          0.8849833272156981,
          0.8849833272156981,
          0.8674235206680313
         ],
         "xaxis": "x",
         "y": [
          -75,
          -75,
          -90,
          -90
         ],
         "yaxis": "y"
        },
        {
         "hoverinfo": "text",
         "marker": {
          "color": "rgb(255,65,54)"
         },
         "mode": "lines",
         "text": [
          "weve_we_four_eventually_way",
          "",
          "",
          "know_that_whether_right_okay"
         ],
         "type": "scatter",
         "x": [
          0.9366917771648747,
          0.9700113189114431,
          0.9700113189114431,
          0.8849833272156981
         ],
         "xaxis": "x",
         "y": [
          -39.375,
          -39.375,
          -82.5,
          -82.5
         ],
         "yaxis": "y"
        },
        {
         "hoverinfo": "text",
         "marker": {
          "color": "rgb(35,205,205)"
         },
         "mode": "lines",
         "text": [
          "observers_observer_computational_computationally_dynamics",
          "",
          "",
          "observers_observer_observe_physics_phenomena"
         ],
         "type": "scatter",
         "x": [
          0,
          0.7787353226017676,
          0.7787353226017676,
          0
         ],
         "xaxis": "x",
         "y": [
          -105,
          -105,
          -115,
          -115
         ],
         "yaxis": "y"
        },
        {
         "hoverinfo": "text",
         "marker": {
          "color": "rgb(35,205,205)"
         },
         "mode": "lines",
         "text": [
          "molecules_atoms_particles_chemistry_gas",
          "",
          "",
          "thermodynamics_entropy_energy_disorder_heat"
         ],
         "type": "scatter",
         "x": [
          0,
          0.7584204438154061,
          0.7584204438154061,
          0
         ],
         "xaxis": "x",
         "y": [
          -145,
          -145,
          -155,
          -155
         ],
         "yaxis": "y"
        },
        {
         "hoverinfo": "text",
         "marker": {
          "color": "rgb(35,205,205)"
         },
         "mode": "lines",
         "text": [
          "entropy_thermodynamics_spontaneously_disorder_molecules",
          "",
          "",
          "laws_law_rule_rules_behavior"
         ],
         "type": "scatter",
         "x": [
          0.7584204438154061,
          0.7816798195492034,
          0.7816798195492034,
          0
         ],
         "xaxis": "x",
         "y": [
          -150,
          -150,
          -165,
          -165
         ],
         "yaxis": "y"
        },
        {
         "hoverinfo": "text",
         "marker": {
          "color": "rgb(35,205,205)"
         },
         "mode": "lines",
         "text": [
          "discreteness_einstein_discrete_matter_brownian",
          "",
          "",
          "laws_law_rule_rules_behavior"
         ],
         "type": "scatter",
         "x": [
          0,
          0.8124958222053443,
          0.8124958222053443,
          0.7816798195492034
         ],
         "xaxis": "x",
         "y": [
          -135,
          -135,
          -157.5,
          -157.5
         ],
         "yaxis": "y"
        },
        {
         "hoverinfo": "text",
         "marker": {
          "color": "rgb(35,205,205)"
         },
         "mode": "lines",
         "text": [
          "discreteness_einstein_discrete_matter_brownian",
          "",
          "",
          "hexagons_snowflakes_hexagon_grows_snowflake"
         ],
         "type": "scatter",
         "x": [
          0.8124958222053443,
          0.8306853212256065,
          0.8306853212256065,
          0
         ],
         "xaxis": "x",
         "y": [
          -146.25,
          -146.25,
          -175,
          -175
         ],
         "yaxis": "y"
        },
        {
         "hoverinfo": "text",
         "marker": {
          "color": "rgb(35,205,205)"
         },
         "mode": "lines",
         "text": [
          "physics_einstein_books_spacecraft_mechanics",
          "",
          "",
          "hexagons_snowflakes_hexagon_grows_snowflake"
         ],
         "type": "scatter",
         "x": [
          0,
          0.8387908406593635,
          0.8387908406593635,
          0.8306853212256065
         ],
         "xaxis": "x",
         "y": [
          -125,
          -125,
          -160.625,
          -160.625
         ],
         "yaxis": "y"
        },
        {
         "hoverinfo": "text",
         "marker": {
          "color": "rgb(35,205,205)"
         },
         "mode": "lines",
         "text": [
          "motion_move_jump_relativity_transitivity",
          "",
          "",
          "happening_believing_happen_happens_next"
         ],
         "type": "scatter",
         "x": [
          0,
          0.8435551808984443,
          0.8435551808984443,
          0
         ],
         "xaxis": "x",
         "y": [
          -185,
          -185,
          -195,
          -195
         ],
         "yaxis": "y"
        },
        {
         "hoverinfo": "text",
         "marker": {
          "color": "rgb(35,205,205)"
         },
         "mode": "lines",
         "text": [
          "motion_move_jump_relativity_transitivity",
          "",
          "",
          "happening_believing_happen_happens_next"
         ],
         "type": "scatter",
         "x": [
          0.8387908406593635,
          0.8722712108098623,
          0.8722712108098623,
          0.8435551808984443
         ],
         "xaxis": "x",
         "y": [
          -142.8125,
          -142.8125,
          -190,
          -190
         ],
         "yaxis": "y"
        },
        {
         "hoverinfo": "text",
         "marker": {
          "color": "rgb(35,205,205)"
         },
         "mode": "lines",
         "text": [
          "motion_move_jump_relativity_transitivity",
          "",
          "",
          "automata_automatable_cellular_cells_cell"
         ],
         "type": "scatter",
         "x": [
          0.8722712108098623,
          0.884626547000731,
          0.884626547000731,
          0
         ],
         "xaxis": "x",
         "y": [
          -166.40625,
          -166.40625,
          -205,
          -205
         ],
         "yaxis": "y"
        },
        {
         "hoverinfo": "text",
         "marker": {
          "color": "rgb(35,205,205)"
         },
         "mode": "lines",
         "text": [
          "motion_move_jump_relativity_transitivity",
          "",
          "",
          "automata_automatable_cellular_cells_cell"
         ],
         "type": "scatter",
         "x": [
          0.7787353226017676,
          0.9873826406109011,
          0.9873826406109011,
          0.884626547000731
         ],
         "xaxis": "x",
         "y": [
          -110,
          -110,
          -185.703125,
          -185.703125
         ],
         "yaxis": "y"
        },
        {
         "hoverinfo": "text",
         "marker": {
          "color": "rgb(0,116,217)"
         },
         "mode": "lines",
         "text": [
          "motion_move_jump_relativity_transitivity",
          "",
          "",
          "automata_automatable_cellular_cells_cell"
         ],
         "type": "scatter",
         "x": [
          0.9700113189114431,
          1.0520394485447495,
          1.0520394485447495,
          0.9873826406109011
         ],
         "xaxis": "x",
         "y": [
          -60.9375,
          -60.9375,
          -147.8515625,
          -147.8515625
         ],
         "yaxis": "y"
        },
        {
         "hoverinfo": "text",
         "marker": {
          "color": "rgb(133,20,75)"
         },
         "mode": "lines",
         "text": [
          "irreducibility_reducibility_computationally_computational_irreducible",
          "",
          "",
          "nature_science_discovery_earth_phenomena"
         ],
         "type": "scatter",
         "x": [
          0,
          0.6962779678320354,
          0.6962779678320354,
          0
         ],
         "xaxis": "x",
         "y": [
          -225,
          -225,
          -235,
          -235
         ],
         "yaxis": "y"
        },
        {
         "hoverinfo": "text",
         "marker": {
          "color": "rgb(133,20,75)"
         },
         "mode": "lines",
         "text": [
          "modeling_model_abstraction_actuality_notion",
          "",
          "",
          "nature_science_discovery_earth_phenomena"
         ],
         "type": "scatter",
         "x": [
          0,
          0.8047844716789585,
          0.8047844716789585,
          0.6962779678320354
         ],
         "xaxis": "x",
         "y": [
          -215,
          -215,
          -230,
          -230
         ],
         "yaxis": "y"
        },
        {
         "hoverinfo": "text",
         "marker": {
          "color": "rgb(133,20,75)"
         },
         "mode": "lines",
         "text": [
          "programming_computational_programmer_computationally_computers",
          "",
          "",
          "knowledge_thinking_conceptualize_belief_concepts"
         ],
         "type": "scatter",
         "x": [
          0,
          0.6235844719953572,
          0.6235844719953572,
          0
         ],
         "xaxis": "x",
         "y": [
          -255,
          -255,
          -265,
          -265
         ],
         "yaxis": "y"
        },
        {
         "hoverinfo": "text",
         "marker": {
          "color": "rgb(133,20,75)"
         },
         "mode": "lines",
         "text": [
          "consciousness_perceive_imagination_perception_illusion",
          "",
          "",
          "programming_computational_programmer_computationally_computers"
         ],
         "type": "scatter",
         "x": [
          0,
          0.714793365175102,
          0.714793365175102,
          0.6235844719953572
         ],
         "xaxis": "x",
         "y": [
          -245,
          -245,
          -260,
          -260
         ],
         "yaxis": "y"
        },
        {
         "hoverinfo": "text",
         "marker": {
          "color": "rgb(133,20,75)"
         },
         "mode": "lines",
         "text": [
          "computational_computationally_computer_computation_knowledge",
          "",
          "",
          "ai_ais_superintelligent_systems_intelligent"
         ],
         "type": "scatter",
         "x": [
          0.714793365175102,
          0.751346604784975,
          0.751346604784975,
          0
         ],
         "xaxis": "x",
         "y": [
          -252.5,
          -252.5,
          -275,
          -275
         ],
         "yaxis": "y"
        },
        {
         "hoverinfo": "text",
         "marker": {
          "color": "rgb(133,20,75)"
         },
         "mode": "lines",
         "text": [
          "chatgpt_gpt_chatgpg_chat_chatgbt",
          "",
          "",
          "neural_neuron_neurons_brains_brain"
         ],
         "type": "scatter",
         "x": [
          0,
          0.7083051616736176,
          0.7083051616736176,
          0
         ],
         "xaxis": "x",
         "y": [
          -285,
          -285,
          -295,
          -295
         ],
         "yaxis": "y"
        },
        {
         "hoverinfo": "text",
         "marker": {
          "color": "rgb(133,20,75)"
         },
         "mode": "lines",
         "text": [
          "chatgpt_gpt_chatgpg_chat_chatgbt",
          "",
          "",
          "neural_neuron_neurons_brains_brain"
         ],
         "type": "scatter",
         "x": [
          0.751346604784975,
          0.7662496093334035,
          0.7662496093334035,
          0.7083051616736176
         ],
         "xaxis": "x",
         "y": [
          -263.75,
          -263.75,
          -290,
          -290
         ],
         "yaxis": "y"
        },
        {
         "hoverinfo": "text",
         "marker": {
          "color": "rgb(133,20,75)"
         },
         "mode": "lines",
         "text": [
          "chatgpt_gpt_chatgpg_chat_chatgbt",
          "",
          "",
          "computers_computer_microprocessor_technology_memory"
         ],
         "type": "scatter",
         "x": [
          0.7662496093334035,
          0.8002291125122599,
          0.8002291125122599,
          0
         ],
         "xaxis": "x",
         "y": [
          -276.875,
          -276.875,
          -305,
          -305
         ],
         "yaxis": "y"
        },
        {
         "hoverinfo": "text",
         "marker": {
          "color": "rgb(133,20,75)"
         },
         "mode": "lines",
         "text": [
          "chatgpt_gpt_chatgpg_chat_chatgbt",
          "",
          "",
          "computers_computer_microprocessor_technology_memory"
         ],
         "type": "scatter",
         "x": [
          0.8047844716789585,
          0.8388567821642914,
          0.8388567821642914,
          0.8002291125122599
         ],
         "xaxis": "x",
         "y": [
          -222.5,
          -222.5,
          -290.9375,
          -290.9375
         ],
         "yaxis": "y"
        },
        {
         "hoverinfo": "text",
         "marker": {
          "color": "rgb(133,20,75)"
         },
         "mode": "lines",
         "text": [
          "bug_code_debugging_prompt_documentation",
          "",
          "",
          "llms_llm_communicates_phishing_expositions"
         ],
         "type": "scatter",
         "x": [
          0,
          0.8206234389109954,
          0.8206234389109954,
          0
         ],
         "xaxis": "x",
         "y": [
          -325,
          -325,
          -335,
          -335
         ],
         "yaxis": "y"
        },
        {
         "hoverinfo": "text",
         "marker": {
          "color": "rgb(133,20,75)"
         },
         "mode": "lines",
         "text": [
          "wolfram_alpha_alphas_mathematica_computation",
          "",
          "",
          "llms_llm_communicates_phishing_expositions"
         ],
         "type": "scatter",
         "x": [
          0,
          0.879131741718217,
          0.879131741718217,
          0.8206234389109954
         ],
         "xaxis": "x",
         "y": [
          -315,
          -315,
          -330,
          -330
         ],
         "yaxis": "y"
        },
        {
         "hoverinfo": "text",
         "marker": {
          "color": "rgb(133,20,75)"
         },
         "mode": "lines",
         "text": [
          "describing_descriptions_abstraction_describe_description",
          "",
          "",
          "aristotle_logics_logic_syntactically_sentences"
         ],
         "type": "scatter",
         "x": [
          0,
          0.8210516268917378,
          0.8210516268917378,
          0
         ],
         "xaxis": "x",
         "y": [
          -355,
          -355,
          -365,
          -365
         ],
         "yaxis": "y"
        },
        {
         "hoverinfo": "text",
         "marker": {
          "color": "rgb(133,20,75)"
         },
         "mode": "lines",
         "text": [
          "trivial_straightforward_concept_statement_simple",
          "",
          "",
          "aristotle_logics_logic_syntactically_sentences"
         ],
         "type": "scatter",
         "x": [
          0,
          0.8677529270388161,
          0.8677529270388161,
          0.8210516268917378
         ],
         "xaxis": "x",
         "y": [
          -345,
          -345,
          -360,
          -360
         ],
         "yaxis": "y"
        },
        {
         "hoverinfo": "text",
         "marker": {
          "color": "rgb(133,20,75)"
         },
         "mode": "lines",
         "text": [
          "trivial_straightforward_concept_statement_simple",
          "",
          "",
          "aristotle_logics_logic_syntactically_sentences"
         ],
         "type": "scatter",
         "x": [
          0.879131741718217,
          0.928666454652225,
          0.928666454652225,
          0.8677529270388161
         ],
         "xaxis": "x",
         "y": [
          -322.5,
          -322.5,
          -352.5,
          -352.5
         ],
         "yaxis": "y"
        },
        {
         "hoverinfo": "text",
         "marker": {
          "color": "rgb(133,20,75)"
         },
         "mode": "lines",
         "text": [
          "mathematics_mathematical_mathematicians_math_arithmetic",
          "",
          "",
          "intelligences_intelligence_intelligent_generalists_minds"
         ],
         "type": "scatter",
         "x": [
          0,
          0.7974660293611073,
          0.7974660293611073,
          0
         ],
         "xaxis": "x",
         "y": [
          -385,
          -385,
          -395,
          -395
         ],
         "yaxis": "y"
        },
        {
         "hoverinfo": "text",
         "marker": {
          "color": "rgb(133,20,75)"
         },
         "mode": "lines",
         "text": [
          "pets_cats_cat_animals_pet",
          "",
          "",
          "intelligences_intelligence_intelligent_generalists_minds"
         ],
         "type": "scatter",
         "x": [
          0,
          0.8183972446737102,
          0.8183972446737102,
          0.7974660293611073
         ],
         "xaxis": "x",
         "y": [
          -375,
          -375,
          -390,
          -390
         ],
         "yaxis": "y"
        },
        {
         "hoverinfo": "text",
         "marker": {
          "color": "rgb(133,20,75)"
         },
         "mode": "lines",
         "text": [
          "linguistic_grammar_syntactically_syntactic_semantic",
          "",
          "",
          "computational_language_formalize_texting_communication"
         ],
         "type": "scatter",
         "x": [
          0,
          0.7315898988217507,
          0.7315898988217507,
          0
         ],
         "xaxis": "x",
         "y": [
          -405,
          -405,
          -415,
          -415
         ],
         "yaxis": "y"
        },
        {
         "hoverinfo": "text",
         "marker": {
          "color": "rgb(133,20,75)"
         },
         "mode": "lines",
         "text": [
          "linguistic_language_computational_semantic_texting",
          "",
          "",
          "language_models_censor_automate_speakable"
         ],
         "type": "scatter",
         "x": [
          0.7315898988217507,
          0.8147255524697514,
          0.8147255524697514,
          0
         ],
         "xaxis": "x",
         "y": [
          -410,
          -410,
          -425,
          -425
         ],
         "yaxis": "y"
        },
        {
         "hoverinfo": "text",
         "marker": {
          "color": "rgb(133,20,75)"
         },
         "mode": "lines",
         "text": [
          "linguistic_language_computational_semantic_texting",
          "",
          "",
          "language_models_censor_automate_speakable"
         ],
         "type": "scatter",
         "x": [
          0.8183972446737102,
          0.8988386941079869,
          0.8988386941079869,
          0.8147255524697514
         ],
         "xaxis": "x",
         "y": [
          -382.5,
          -382.5,
          -417.5,
          -417.5
         ],
         "yaxis": "y"
        },
        {
         "hoverinfo": "text",
         "marker": {
          "color": "rgb(133,20,75)"
         },
         "mode": "lines",
         "text": [
          "workflow_tooling_psychotherapist_automate_persuasion",
          "",
          "",
          "humans_animals_civilization_we_terrifies"
         ],
         "type": "scatter",
         "x": [
          0,
          0.839835300832497,
          0.839835300832497,
          0
         ],
         "xaxis": "x",
         "y": [
          -435,
          -435,
          -445,
          -445
         ],
         "yaxis": "y"
        },
        {
         "hoverinfo": "text",
         "marker": {
          "color": "rgb(133,20,75)"
         },
         "mode": "lines",
         "text": [
          "workflow_tooling_psychotherapist_automate_persuasion",
          "",
          "",
          "humans_animals_civilization_we_terrifies"
         ],
         "type": "scatter",
         "x": [
          0.8988386941079869,
          0.903899697375389,
          0.903899697375389,
          0.839835300832497
         ],
         "xaxis": "x",
         "y": [
          -400,
          -400,
          -440,
          -440
         ],
         "yaxis": "y"
        },
        {
         "hoverinfo": "text",
         "marker": {
          "color": "rgb(133,20,75)"
         },
         "mode": "lines",
         "text": [
          "workflow_tooling_psychotherapist_automate_persuasion",
          "",
          "",
          "humans_animals_civilization_we_terrifies"
         ],
         "type": "scatter",
         "x": [
          0.928666454652225,
          0.930236449853591,
          0.930236449853591,
          0.903899697375389
         ],
         "xaxis": "x",
         "y": [
          -337.5,
          -337.5,
          -420,
          -420
         ],
         "yaxis": "y"
        },
        {
         "hoverinfo": "text",
         "marker": {
          "color": "rgb(133,20,75)"
         },
         "mode": "lines",
         "text": [
          "workflow_tooling_psychotherapist_automate_persuasion",
          "",
          "",
          "humans_animals_civilization_we_terrifies"
         ],
         "type": "scatter",
         "x": [
          0.8388567821642914,
          0.9540438226385548,
          0.9540438226385548,
          0.930236449853591
         ],
         "xaxis": "x",
         "y": [
          -256.71875,
          -256.71875,
          -378.75,
          -378.75
         ],
         "yaxis": "y"
        },
        {
         "hoverinfo": "text",
         "marker": {
          "color": "rgb(0,116,217)"
         },
         "mode": "lines",
         "text": [
          "workflow_tooling_psychotherapist_automate_persuasion",
          "",
          "",
          "humans_animals_civilization_we_terrifies"
         ],
         "type": "scatter",
         "x": [
          1.0520394485447495,
          1.1132569922786202,
          1.1132569922786202,
          0.9540438226385548
         ],
         "xaxis": "x",
         "y": [
          -104.39453125,
          -104.39453125,
          -317.734375,
          -317.734375
         ],
         "yaxis": "y"
        },
        {
         "hoverinfo": "text",
         "marker": {
          "color": "rgb(0,116,217)"
         },
         "mode": "lines",
         "text": [
          "right_yeah_correct_yes_really",
          "",
          "",
          "humans_animals_civilization_we_terrifies"
         ],
         "type": "scatter",
         "x": [
          0.6861888822322452,
          1.1848357993698662,
          1.1848357993698662,
          1.1132569922786202
         ],
         "xaxis": "x",
         "y": [
          -10,
          -10,
          -211.064453125,
          -211.064453125
         ],
         "yaxis": "y"
        },
        {
         "hoverinfo": "text",
         "hovertext": [
          "chocolate_candy_candies_hungry_flakes",
          "weve_we_four_eventually_way",
          "entropy_thermodynamics_spontaneously_disorder_molecules",
          "discreteness_einstein_discrete_matter_brownian",
          "motion_move_jump_relativity_transitivity",
          "motion_move_jump_relativity_transitivity",
          "motion_move_jump_relativity_transitivity",
          "motion_move_jump_relativity_transitivity",
          "computational_computationally_computer_computation_knowledge",
          "chatgpt_gpt_chatgpg_chat_chatgbt",
          "chatgpt_gpt_chatgpg_chat_chatgbt",
          "chatgpt_gpt_chatgpg_chat_chatgbt",
          "trivial_straightforward_concept_statement_simple",
          "linguistic_language_computational_semantic_texting",
          "linguistic_language_computational_semantic_texting",
          "workflow_tooling_psychotherapist_automate_persuasion",
          "workflow_tooling_psychotherapist_automate_persuasion",
          "workflow_tooling_psychotherapist_automate_persuasion",
          "workflow_tooling_psychotherapist_automate_persuasion",
          "right_yeah_correct_yes_really"
         ],
         "marker": {
          "color": "black"
         },
         "mode": "markers",
         "showlegend": false,
         "type": "scatter",
         "x": [
          0.9126883606291961,
          0.9366917771648747,
          0.7584204438154061,
          0.8124958222053443,
          0.8387908406593635,
          0.8722712108098623,
          0.7787353226017676,
          0.9700113189114431,
          0.714793365175102,
          0.751346604784975,
          0.7662496093334035,
          0.8047844716789585,
          0.879131741718217,
          0.7315898988217507,
          0.8183972446737102,
          0.8988386941079869,
          0.928666454652225,
          0.8388567821642914,
          1.0520394485447495,
          0.6861888822322452
         ],
         "y": [
          -42.5,
          -39.375,
          -150,
          -146.25,
          -142.8125,
          -166.40625,
          -110,
          -60.9375,
          -252.5,
          -263.75,
          -276.875,
          -222.5,
          -322.5,
          -410,
          -382.5,
          -400,
          -337.5,
          -256.71875,
          -104.39453125,
          -10
         ]
        },
        {
         "hoverinfo": "text",
         "hovertext": [
          "exciting_fascinating_interesting_curious_recently",
          "sponsors_sponsor_lex_thanks_lexfriedmancom",
          "know_that_whether_right_okay",
          "know_that_whether_right_okay",
          "laws_law_rule_rules_behavior",
          "hexagons_snowflakes_hexagon_grows_snowflake",
          "happening_believing_happen_happens_next",
          "automata_automatable_cellular_cells_cell",
          "automata_automatable_cellular_cells_cell",
          "nature_science_discovery_earth_phenomena",
          "programming_computational_programmer_computationally_computers",
          "neural_neuron_neurons_brains_brain",
          "computers_computer_microprocessor_technology_memory",
          "llms_llm_communicates_phishing_expositions",
          "aristotle_logics_logic_syntactically_sentences",
          "aristotle_logics_logic_syntactically_sentences",
          "intelligences_intelligence_intelligent_generalists_minds",
          "language_models_censor_automate_speakable",
          "humans_animals_civilization_we_terrifies",
          "humans_animals_civilization_we_terrifies",
          "humans_animals_civilization_we_terrifies",
          "humans_animals_civilization_we_terrifies",
          "humans_animals_civilization_we_terrifies"
         ],
         "marker": {
          "color": "black"
         },
         "mode": "markers",
         "showlegend": false,
         "type": "scatter",
         "x": [
          0.8638677518747606,
          0.9211857091612723,
          0.8674235206680313,
          0.8849833272156981,
          0.7816798195492034,
          0.8306853212256065,
          0.8435551808984443,
          0.884626547000731,
          0.9873826406109011,
          0.6962779678320354,
          0.6235844719953572,
          0.7083051616736176,
          0.8002291125122599,
          0.8206234389109954,
          0.8210516268917378,
          0.8677529270388161,
          0.7974660293611073,
          0.8147255524697514,
          0.839835300832497,
          0.903899697375389,
          0.930236449853591,
          0.9540438226385548,
          1.1132569922786202
         ],
         "y": [
          -50,
          -53.75,
          -90,
          -82.5,
          -157.5,
          -160.625,
          -190,
          -185.703125,
          -147.8515625,
          -230,
          -260,
          -290,
          -290.9375,
          -330,
          -360,
          -352.5,
          -390,
          -417.5,
          -440,
          -420,
          -378.75,
          -317.734375,
          -211.064453125
         ]
        }
       ],
       "layout": {
        "autosize": false,
        "height": 875,
        "hoverlabel": {
         "bgcolor": "white",
         "font": {
          "family": "Rockwell",
          "size": 16
         }
        },
        "hovermode": "closest",
        "plot_bgcolor": "#ECEFF1",
        "showlegend": false,
        "template": {
         "data": {
          "bar": [
           {
            "error_x": {
             "color": "#2a3f5f"
            },
            "error_y": {
             "color": "#2a3f5f"
            },
            "marker": {
             "line": {
              "color": "white",
              "width": 0.5
             },
             "pattern": {
              "fillmode": "overlay",
              "size": 10,
              "solidity": 0.2
             }
            },
            "type": "bar"
           }
          ],
          "barpolar": [
           {
            "marker": {
             "line": {
              "color": "white",
              "width": 0.5
             },
             "pattern": {
              "fillmode": "overlay",
              "size": 10,
              "solidity": 0.2
             }
            },
            "type": "barpolar"
           }
          ],
          "carpet": [
           {
            "aaxis": {
             "endlinecolor": "#2a3f5f",
             "gridcolor": "#C8D4E3",
             "linecolor": "#C8D4E3",
             "minorgridcolor": "#C8D4E3",
             "startlinecolor": "#2a3f5f"
            },
            "baxis": {
             "endlinecolor": "#2a3f5f",
             "gridcolor": "#C8D4E3",
             "linecolor": "#C8D4E3",
             "minorgridcolor": "#C8D4E3",
             "startlinecolor": "#2a3f5f"
            },
            "type": "carpet"
           }
          ],
          "choropleth": [
           {
            "colorbar": {
             "outlinewidth": 0,
             "ticks": ""
            },
            "type": "choropleth"
           }
          ],
          "contour": [
           {
            "colorbar": {
             "outlinewidth": 0,
             "ticks": ""
            },
            "colorscale": [
             [
              0,
              "#0d0887"
             ],
             [
              0.1111111111111111,
              "#46039f"
             ],
             [
              0.2222222222222222,
              "#7201a8"
             ],
             [
              0.3333333333333333,
              "#9c179e"
             ],
             [
              0.4444444444444444,
              "#bd3786"
             ],
             [
              0.5555555555555556,
              "#d8576b"
             ],
             [
              0.6666666666666666,
              "#ed7953"
             ],
             [
              0.7777777777777778,
              "#fb9f3a"
             ],
             [
              0.8888888888888888,
              "#fdca26"
             ],
             [
              1,
              "#f0f921"
             ]
            ],
            "type": "contour"
           }
          ],
          "contourcarpet": [
           {
            "colorbar": {
             "outlinewidth": 0,
             "ticks": ""
            },
            "type": "contourcarpet"
           }
          ],
          "heatmap": [
           {
            "colorbar": {
             "outlinewidth": 0,
             "ticks": ""
            },
            "colorscale": [
             [
              0,
              "#0d0887"
             ],
             [
              0.1111111111111111,
              "#46039f"
             ],
             [
              0.2222222222222222,
              "#7201a8"
             ],
             [
              0.3333333333333333,
              "#9c179e"
             ],
             [
              0.4444444444444444,
              "#bd3786"
             ],
             [
              0.5555555555555556,
              "#d8576b"
             ],
             [
              0.6666666666666666,
              "#ed7953"
             ],
             [
              0.7777777777777778,
              "#fb9f3a"
             ],
             [
              0.8888888888888888,
              "#fdca26"
             ],
             [
              1,
              "#f0f921"
             ]
            ],
            "type": "heatmap"
           }
          ],
          "heatmapgl": [
           {
            "colorbar": {
             "outlinewidth": 0,
             "ticks": ""
            },
            "colorscale": [
             [
              0,
              "#0d0887"
             ],
             [
              0.1111111111111111,
              "#46039f"
             ],
             [
              0.2222222222222222,
              "#7201a8"
             ],
             [
              0.3333333333333333,
              "#9c179e"
             ],
             [
              0.4444444444444444,
              "#bd3786"
             ],
             [
              0.5555555555555556,
              "#d8576b"
             ],
             [
              0.6666666666666666,
              "#ed7953"
             ],
             [
              0.7777777777777778,
              "#fb9f3a"
             ],
             [
              0.8888888888888888,
              "#fdca26"
             ],
             [
              1,
              "#f0f921"
             ]
            ],
            "type": "heatmapgl"
           }
          ],
          "histogram": [
           {
            "marker": {
             "pattern": {
              "fillmode": "overlay",
              "size": 10,
              "solidity": 0.2
             }
            },
            "type": "histogram"
           }
          ],
          "histogram2d": [
           {
            "colorbar": {
             "outlinewidth": 0,
             "ticks": ""
            },
            "colorscale": [
             [
              0,
              "#0d0887"
             ],
             [
              0.1111111111111111,
              "#46039f"
             ],
             [
              0.2222222222222222,
              "#7201a8"
             ],
             [
              0.3333333333333333,
              "#9c179e"
             ],
             [
              0.4444444444444444,
              "#bd3786"
             ],
             [
              0.5555555555555556,
              "#d8576b"
             ],
             [
              0.6666666666666666,
              "#ed7953"
             ],
             [
              0.7777777777777778,
              "#fb9f3a"
             ],
             [
              0.8888888888888888,
              "#fdca26"
             ],
             [
              1,
              "#f0f921"
             ]
            ],
            "type": "histogram2d"
           }
          ],
          "histogram2dcontour": [
           {
            "colorbar": {
             "outlinewidth": 0,
             "ticks": ""
            },
            "colorscale": [
             [
              0,
              "#0d0887"
             ],
             [
              0.1111111111111111,
              "#46039f"
             ],
             [
              0.2222222222222222,
              "#7201a8"
             ],
             [
              0.3333333333333333,
              "#9c179e"
             ],
             [
              0.4444444444444444,
              "#bd3786"
             ],
             [
              0.5555555555555556,
              "#d8576b"
             ],
             [
              0.6666666666666666,
              "#ed7953"
             ],
             [
              0.7777777777777778,
              "#fb9f3a"
             ],
             [
              0.8888888888888888,
              "#fdca26"
             ],
             [
              1,
              "#f0f921"
             ]
            ],
            "type": "histogram2dcontour"
           }
          ],
          "mesh3d": [
           {
            "colorbar": {
             "outlinewidth": 0,
             "ticks": ""
            },
            "type": "mesh3d"
           }
          ],
          "parcoords": [
           {
            "line": {
             "colorbar": {
              "outlinewidth": 0,
              "ticks": ""
             }
            },
            "type": "parcoords"
           }
          ],
          "pie": [
           {
            "automargin": true,
            "type": "pie"
           }
          ],
          "scatter": [
           {
            "fillpattern": {
             "fillmode": "overlay",
             "size": 10,
             "solidity": 0.2
            },
            "type": "scatter"
           }
          ],
          "scatter3d": [
           {
            "line": {
             "colorbar": {
              "outlinewidth": 0,
              "ticks": ""
             }
            },
            "marker": {
             "colorbar": {
              "outlinewidth": 0,
              "ticks": ""
             }
            },
            "type": "scatter3d"
           }
          ],
          "scattercarpet": [
           {
            "marker": {
             "colorbar": {
              "outlinewidth": 0,
              "ticks": ""
             }
            },
            "type": "scattercarpet"
           }
          ],
          "scattergeo": [
           {
            "marker": {
             "colorbar": {
              "outlinewidth": 0,
              "ticks": ""
             }
            },
            "type": "scattergeo"
           }
          ],
          "scattergl": [
           {
            "marker": {
             "colorbar": {
              "outlinewidth": 0,
              "ticks": ""
             }
            },
            "type": "scattergl"
           }
          ],
          "scattermapbox": [
           {
            "marker": {
             "colorbar": {
              "outlinewidth": 0,
              "ticks": ""
             }
            },
            "type": "scattermapbox"
           }
          ],
          "scatterpolar": [
           {
            "marker": {
             "colorbar": {
              "outlinewidth": 0,
              "ticks": ""
             }
            },
            "type": "scatterpolar"
           }
          ],
          "scatterpolargl": [
           {
            "marker": {
             "colorbar": {
              "outlinewidth": 0,
              "ticks": ""
             }
            },
            "type": "scatterpolargl"
           }
          ],
          "scatterternary": [
           {
            "marker": {
             "colorbar": {
              "outlinewidth": 0,
              "ticks": ""
             }
            },
            "type": "scatterternary"
           }
          ],
          "surface": [
           {
            "colorbar": {
             "outlinewidth": 0,
             "ticks": ""
            },
            "colorscale": [
             [
              0,
              "#0d0887"
             ],
             [
              0.1111111111111111,
              "#46039f"
             ],
             [
              0.2222222222222222,
              "#7201a8"
             ],
             [
              0.3333333333333333,
              "#9c179e"
             ],
             [
              0.4444444444444444,
              "#bd3786"
             ],
             [
              0.5555555555555556,
              "#d8576b"
             ],
             [
              0.6666666666666666,
              "#ed7953"
             ],
             [
              0.7777777777777778,
              "#fb9f3a"
             ],
             [
              0.8888888888888888,
              "#fdca26"
             ],
             [
              1,
              "#f0f921"
             ]
            ],
            "type": "surface"
           }
          ],
          "table": [
           {
            "cells": {
             "fill": {
              "color": "#EBF0F8"
             },
             "line": {
              "color": "white"
             }
            },
            "header": {
             "fill": {
              "color": "#C8D4E3"
             },
             "line": {
              "color": "white"
             }
            },
            "type": "table"
           }
          ]
         },
         "layout": {
          "annotationdefaults": {
           "arrowcolor": "#2a3f5f",
           "arrowhead": 0,
           "arrowwidth": 1
          },
          "autotypenumbers": "strict",
          "coloraxis": {
           "colorbar": {
            "outlinewidth": 0,
            "ticks": ""
           }
          },
          "colorscale": {
           "diverging": [
            [
             0,
             "#8e0152"
            ],
            [
             0.1,
             "#c51b7d"
            ],
            [
             0.2,
             "#de77ae"
            ],
            [
             0.3,
             "#f1b6da"
            ],
            [
             0.4,
             "#fde0ef"
            ],
            [
             0.5,
             "#f7f7f7"
            ],
            [
             0.6,
             "#e6f5d0"
            ],
            [
             0.7,
             "#b8e186"
            ],
            [
             0.8,
             "#7fbc41"
            ],
            [
             0.9,
             "#4d9221"
            ],
            [
             1,
             "#276419"
            ]
           ],
           "sequential": [
            [
             0,
             "#0d0887"
            ],
            [
             0.1111111111111111,
             "#46039f"
            ],
            [
             0.2222222222222222,
             "#7201a8"
            ],
            [
             0.3333333333333333,
             "#9c179e"
            ],
            [
             0.4444444444444444,
             "#bd3786"
            ],
            [
             0.5555555555555556,
             "#d8576b"
            ],
            [
             0.6666666666666666,
             "#ed7953"
            ],
            [
             0.7777777777777778,
             "#fb9f3a"
            ],
            [
             0.8888888888888888,
             "#fdca26"
            ],
            [
             1,
             "#f0f921"
            ]
           ],
           "sequentialminus": [
            [
             0,
             "#0d0887"
            ],
            [
             0.1111111111111111,
             "#46039f"
            ],
            [
             0.2222222222222222,
             "#7201a8"
            ],
            [
             0.3333333333333333,
             "#9c179e"
            ],
            [
             0.4444444444444444,
             "#bd3786"
            ],
            [
             0.5555555555555556,
             "#d8576b"
            ],
            [
             0.6666666666666666,
             "#ed7953"
            ],
            [
             0.7777777777777778,
             "#fb9f3a"
            ],
            [
             0.8888888888888888,
             "#fdca26"
            ],
            [
             1,
             "#f0f921"
            ]
           ]
          },
          "colorway": [
           "#636efa",
           "#EF553B",
           "#00cc96",
           "#ab63fa",
           "#FFA15A",
           "#19d3f3",
           "#FF6692",
           "#B6E880",
           "#FF97FF",
           "#FECB52"
          ],
          "font": {
           "color": "#2a3f5f"
          },
          "geo": {
           "bgcolor": "white",
           "lakecolor": "white",
           "landcolor": "white",
           "showlakes": true,
           "showland": true,
           "subunitcolor": "#C8D4E3"
          },
          "hoverlabel": {
           "align": "left"
          },
          "hovermode": "closest",
          "mapbox": {
           "style": "light"
          },
          "paper_bgcolor": "white",
          "plot_bgcolor": "white",
          "polar": {
           "angularaxis": {
            "gridcolor": "#EBF0F8",
            "linecolor": "#EBF0F8",
            "ticks": ""
           },
           "bgcolor": "white",
           "radialaxis": {
            "gridcolor": "#EBF0F8",
            "linecolor": "#EBF0F8",
            "ticks": ""
           }
          },
          "scene": {
           "xaxis": {
            "backgroundcolor": "white",
            "gridcolor": "#DFE8F3",
            "gridwidth": 2,
            "linecolor": "#EBF0F8",
            "showbackground": true,
            "ticks": "",
            "zerolinecolor": "#EBF0F8"
           },
           "yaxis": {
            "backgroundcolor": "white",
            "gridcolor": "#DFE8F3",
            "gridwidth": 2,
            "linecolor": "#EBF0F8",
            "showbackground": true,
            "ticks": "",
            "zerolinecolor": "#EBF0F8"
           },
           "zaxis": {
            "backgroundcolor": "white",
            "gridcolor": "#DFE8F3",
            "gridwidth": 2,
            "linecolor": "#EBF0F8",
            "showbackground": true,
            "ticks": "",
            "zerolinecolor": "#EBF0F8"
           }
          },
          "shapedefaults": {
           "line": {
            "color": "#2a3f5f"
           }
          },
          "ternary": {
           "aaxis": {
            "gridcolor": "#DFE8F3",
            "linecolor": "#A2B1C6",
            "ticks": ""
           },
           "baxis": {
            "gridcolor": "#DFE8F3",
            "linecolor": "#A2B1C6",
            "ticks": ""
           },
           "bgcolor": "white",
           "caxis": {
            "gridcolor": "#DFE8F3",
            "linecolor": "#A2B1C6",
            "ticks": ""
           }
          },
          "title": {
           "x": 0.05
          },
          "xaxis": {
           "automargin": true,
           "gridcolor": "#EBF0F8",
           "linecolor": "#EBF0F8",
           "ticks": "",
           "title": {
            "standoff": 15
           },
           "zerolinecolor": "#EBF0F8",
           "zerolinewidth": 2
          },
          "yaxis": {
           "automargin": true,
           "gridcolor": "#EBF0F8",
           "linecolor": "#EBF0F8",
           "ticks": "",
           "title": {
            "standoff": 15
           },
           "zerolinecolor": "#EBF0F8",
           "zerolinewidth": 2
          }
         }
        },
        "title": {
         "font": {
          "color": "Black",
          "size": 22
         },
         "text": "<b>Hierarchical Clustering</b>",
         "x": 0.5,
         "xanchor": "center",
         "yanchor": "top"
        },
        "width": 1000,
        "xaxis": {
         "mirror": "allticks",
         "rangemode": "tozero",
         "showgrid": false,
         "showline": true,
         "showticklabels": true,
         "ticks": "outside",
         "type": "linear",
         "zeroline": false
        },
        "yaxis": {
         "mirror": "allticks",
         "range": [
          -450,
          0
         ],
         "rangemode": "tozero",
         "showgrid": false,
         "showline": true,
         "showticklabels": true,
         "tickmode": "array",
         "ticks": "outside",
         "ticktext": [
          "16_yeah_yes_daisy",
          "5_right_yeah_correct",
          "42_ruliad_precisely_coheren...",
          "27_chocolate_candy_candies",
          "22_universities_departments...",
          "31_exciting_fascinating_int...",
          "11_sponsors_sponsor_lex",
          "38_weve_we_four",
          "34_decade_years_past",
          "30_know_that_whether",
          "43_observers_observer_compu...",
          "40_observers_observer_observe",
          "39_physics_einstein_books",
          "10_discreteness_einstein_di...",
          "13_molecules_atoms_particles",
          "9_thermodynamics_entropy_en...",
          "18_laws_law_rule",
          "1_hexagons_snowflakes_hexagon",
          "32_motion_move_jump",
          "21_happening_believing_happen",
          "37_automata_automatable_cel...",
          "23_modeling_model_abstraction",
          "12_irreducibility_reducibil...",
          "15_nature_science_discovery",
          "3_consciousness_perceive_im...",
          "0_programming_computational...",
          "7_knowledge_thinking_concep...",
          "8_ai_ais_superintelligent",
          "6_chatgpt_gpt_chatgpg",
          "14_neural_neuron_neurons",
          "19_computers_computer_micro...",
          "41_wolfram_alpha_alphas",
          "26_bug_code_debugging",
          "36_llms_llm_communicates",
          "20_trivial_straightforward_...",
          "35_describing_descriptions_...",
          "17_aristotle_logics_logic",
          "28_pets_cats_cat",
          "4_mathematics_mathematical_...",
          "25_intelligences_intelligen...",
          "2_linguistic_grammar_syntac...",
          "29_computational_language_f...",
          "24_language_models_censor",
          "44_workflow_tooling_psychot...",
          "33_humans_animals_civilizat..."
         ],
         "tickvals": [
          -5,
          -15,
          -25,
          -35,
          -45,
          -55,
          -65,
          -75,
          -85,
          -95,
          -105,
          -115,
          -125,
          -135,
          -145,
          -155,
          -165,
          -175,
          -185,
          -195,
          -205,
          -215,
          -225,
          -235,
          -245,
          -255,
          -265,
          -275,
          -285,
          -295,
          -305,
          -315,
          -325,
          -335,
          -345,
          -355,
          -365,
          -375,
          -385,
          -395,
          -405,
          -415,
          -425,
          -435,
          -445
         ],
         "type": "linear",
         "zeroline": false
        }
       }
      }
     },
     "metadata": {},
     "output_type": "display_data"
    }
   ],
   "source": [
    "topic_model.visualize_hierarchy(hierarchical_topics=hierarchical_topics)"
   ]
  },
  {
   "cell_type": "code",
   "execution_count": null,
   "metadata": {},
   "outputs": [
    {
     "data": {
      "application/vnd.plotly.v1+json": {
       "config": {
        "plotlyServerURL": "https://plot.ly"
       },
       "data": [
        {
         "customdata": [
          [
           0,
           "molecules | space | of | was | the",
           173
          ],
          [
           1,
           "computation | of | to | computational | do",
           90
          ],
          [
           2,
           "arms | snowflake | grow | snowflakes | it",
           69
          ],
          [
           3,
           "experience | we | of | universe | that",
           59
          ],
          [
           4,
           "language | word | grammar | that | its",
           58
          ],
          [
           5,
           "right | yeah | yes | well | looks",
           44
          ],
          [
           6,
           "ai | ais | systems | the | more",
           43
          ],
          [
           7,
           "gpt | chat | chatgpt | on | what",
           43
          ],
          [
           8,
           "interesting | didnt | know | dont | thats",
           41
          ],
          [
           9,
           "math | two | plus | mathematics | simplification",
           39
          ],
          [
           10,
           "things | we | of | know | world",
           38
          ],
          [
           11,
           "logic | description | formal | aristotle | of",
           37
          ],
          [
           12,
           "irreducibility | computational | reducibility | of | pockets",
           35
          ],
          [
           13,
           "computers | computer | automation | it | tower",
           30
          ],
          [
           14,
           "thats | thing | its | kind | same",
           30
          ],
          [
           15,
           "yeah | yes | daisy | okay | wow",
           29
          ],
          [
           16,
           "science | natural | world | nature | the",
           27
          ],
          [
           17,
           "neural | net | nets | distinctions | neurons",
           27
          ],
          [
           18,
           "lex | slash | check | podcast | support",
           27
          ],
          [
           19,
           "rules | rule | 30 | laws | set",
           27
          ],
          [
           20,
           "happen | nobody | plausible | coming | but",
           23
          ],
          [
           21,
           "large | language | models | model | can",
           23
          ],
          [
           22,
           "universities | science | departments | computer | department",
           21
          ],
          [
           23,
           "code | bug | read | fix | problems",
           21
          ],
          [
           24,
           "language | computational | natural | into | which",
           21
          ],
          [
           25,
           "cat | sat | cats | we | will",
           20
          ],
          [
           26,
           "model | modeling | captures | actual | examples",
           20
          ],
          [
           27,
           "intelligence | apex | intelligences | be | collective",
           19
          ],
          [
           28,
           "chocolate | candy | preferences | pieces | eat",
           18
          ],
          [
           29,
           "wolfram | alpha | stephen | queries | integration",
           18
          ],
          [
           30,
           "place | motion | ahead | jump | go",
           15
          ],
          [
           31,
           "llm | llms | phishing | security | mechanisms",
           14
          ],
          [
           32,
           "humans | theyre | us | outskirts | resources",
           14
          ],
          [
           33,
           "four | we | go | great | turn",
           14
          ],
          [
           34,
           "observer | observers | general | is | key",
           13
          ],
          [
           35,
           "years | now | ago | 40 | been",
           13
          ],
          [
           36,
           "cellular | automata | cell | great | cells",
           12
          ],
          [
           37,
           "truth | writing | facts | im | somebody",
           11
          ],
          [
           38,
           "loop | want | human | picking | feedback",
           11
          ],
          [
           39,
           "computationally | bounded | observer | coarse | boundedness",
           10
          ]
         ],
         "hovertemplate": "<b>Topic %{customdata[0]}</b><br>%{customdata[1]}<br>Size: %{customdata[2]}",
         "legendgroup": "",
         "marker": {
          "color": "#B0BEC5",
          "line": {
           "color": "DarkSlateGrey",
           "width": 2
          },
          "size": [
           173,
           90,
           69,
           59,
           58,
           44,
           43,
           43,
           41,
           39,
           38,
           37,
           35,
           30,
           30,
           29,
           27,
           27,
           27,
           27,
           23,
           23,
           21,
           21,
           21,
           20,
           20,
           19,
           18,
           18,
           15,
           14,
           14,
           14,
           13,
           13,
           12,
           11,
           11,
           10
          ],
          "sizemode": "area",
          "sizeref": 0.108125,
          "symbol": "circle"
         },
         "mode": "markers",
         "name": "",
         "orientation": "v",
         "showlegend": false,
         "type": "scatter",
         "x": [
          -0.4399699,
          5.0923934,
          9.126634,
          -0.20065933,
          13.790115,
          21.103863,
          -2.140769,
          4.796943,
          9.361614,
          -2.0833645,
          -0.7265948,
          -1.8022101,
          5.0036755,
          5.354763,
          9.621846,
          21.05371,
          -0.6139498,
          -0.59220076,
          9.220558,
          -1.9151399,
          9.928557,
          13.789987,
          4.7498717,
          10.255111,
          4.7439165,
          -0.10565626,
          -1.0163531,
          -2.027928,
          8.909965,
          5.3039613,
          -0.19601895,
          10.055018,
          -0.904791,
          9.804407,
          -6.2681923,
          9.67789,
          -0.28911164,
          -2.2063015,
          -0.9358607,
          -6.424382
         ],
         "xaxis": "x",
         "y": [
          6.871541,
          0.59832335,
          10.417199,
          8.528006,
          -2.4522674,
          21.14167,
          7.8737564,
          1.4281484,
          10.108105,
          9.706428,
          8.995037,
          9.710396,
          0.8041439,
          0.709796,
          9.651063,
          21.093435,
          7.414318,
          8.6283865,
          10.228057,
          9.577054,
          9.079143,
          -2.4521995,
          0.5417685,
          9.114343,
          1.2247192,
          8.4349985,
          8.355343,
          7.9151587,
          10.231621,
          1.0318204,
          6.5910964,
          9.265395,
          8.2863455,
          8.866385,
          18.32734,
          10.487079,
          6.659353,
          9.456176,
          8.816046,
          18.483648
         ],
         "yaxis": "y"
        }
       ],
       "layout": {
        "annotations": [
         {
          "showarrow": false,
          "text": "D1",
          "x": -7.388039541244507,
          "y": 10.74640662074089,
          "yshift": 10
         },
         {
          "showarrow": false,
          "text": "D2",
          "x": 8.440701317787171,
          "xshift": 10,
          "y": 24.312920761108398
         }
        ],
        "height": 650,
        "hoverlabel": {
         "bgcolor": "white",
         "font": {
          "family": "Rockwell",
          "size": 16
         }
        },
        "legend": {
         "itemsizing": "constant",
         "tracegroupgap": 0
        },
        "margin": {
         "t": 60
        },
        "shapes": [
         {
          "line": {
           "color": "#CFD8DC",
           "width": 2
          },
          "type": "line",
          "x0": 8.440701317787171,
          "x1": 8.440701317787171,
          "y0": -2.8201075196266174,
          "y1": 24.312920761108398
         },
         {
          "line": {
           "color": "#9E9E9E",
           "width": 2
          },
          "type": "line",
          "x0": -7.388039541244507,
          "x1": 24.26944217681885,
          "y0": 10.74640662074089,
          "y1": 10.74640662074089
         }
        ],
        "sliders": [
         {
          "active": 0,
          "pad": {
           "t": 50
          },
          "steps": [
           {
            "args": [
             {
              "marker.color": [
               [
                "red",
                "#B0BEC5",
                "#B0BEC5",
                "#B0BEC5",
                "#B0BEC5",
                "#B0BEC5",
                "#B0BEC5",
                "#B0BEC5",
                "#B0BEC5",
                "#B0BEC5",
                "#B0BEC5",
                "#B0BEC5",
                "#B0BEC5",
                "#B0BEC5",
                "#B0BEC5",
                "#B0BEC5",
                "#B0BEC5",
                "#B0BEC5",
                "#B0BEC5",
                "#B0BEC5",
                "#B0BEC5",
                "#B0BEC5",
                "#B0BEC5",
                "#B0BEC5",
                "#B0BEC5",
                "#B0BEC5",
                "#B0BEC5",
                "#B0BEC5",
                "#B0BEC5",
                "#B0BEC5",
                "#B0BEC5",
                "#B0BEC5",
                "#B0BEC5",
                "#B0BEC5",
                "#B0BEC5",
                "#B0BEC5",
                "#B0BEC5",
                "#B0BEC5",
                "#B0BEC5",
                "#B0BEC5"
               ]
              ]
             }
            ],
            "label": "Topic 0",
            "method": "update"
           },
           {
            "args": [
             {
              "marker.color": [
               [
                "#B0BEC5",
                "red",
                "#B0BEC5",
                "#B0BEC5",
                "#B0BEC5",
                "#B0BEC5",
                "#B0BEC5",
                "#B0BEC5",
                "#B0BEC5",
                "#B0BEC5",
                "#B0BEC5",
                "#B0BEC5",
                "#B0BEC5",
                "#B0BEC5",
                "#B0BEC5",
                "#B0BEC5",
                "#B0BEC5",
                "#B0BEC5",
                "#B0BEC5",
                "#B0BEC5",
                "#B0BEC5",
                "#B0BEC5",
                "#B0BEC5",
                "#B0BEC5",
                "#B0BEC5",
                "#B0BEC5",
                "#B0BEC5",
                "#B0BEC5",
                "#B0BEC5",
                "#B0BEC5",
                "#B0BEC5",
                "#B0BEC5",
                "#B0BEC5",
                "#B0BEC5",
                "#B0BEC5",
                "#B0BEC5",
                "#B0BEC5",
                "#B0BEC5",
                "#B0BEC5",
                "#B0BEC5"
               ]
              ]
             }
            ],
            "label": "Topic 1",
            "method": "update"
           },
           {
            "args": [
             {
              "marker.color": [
               [
                "#B0BEC5",
                "#B0BEC5",
                "red",
                "#B0BEC5",
                "#B0BEC5",
                "#B0BEC5",
                "#B0BEC5",
                "#B0BEC5",
                "#B0BEC5",
                "#B0BEC5",
                "#B0BEC5",
                "#B0BEC5",
                "#B0BEC5",
                "#B0BEC5",
                "#B0BEC5",
                "#B0BEC5",
                "#B0BEC5",
                "#B0BEC5",
                "#B0BEC5",
                "#B0BEC5",
                "#B0BEC5",
                "#B0BEC5",
                "#B0BEC5",
                "#B0BEC5",
                "#B0BEC5",
                "#B0BEC5",
                "#B0BEC5",
                "#B0BEC5",
                "#B0BEC5",
                "#B0BEC5",
                "#B0BEC5",
                "#B0BEC5",
                "#B0BEC5",
                "#B0BEC5",
                "#B0BEC5",
                "#B0BEC5",
                "#B0BEC5",
                "#B0BEC5",
                "#B0BEC5",
                "#B0BEC5"
               ]
              ]
             }
            ],
            "label": "Topic 2",
            "method": "update"
           },
           {
            "args": [
             {
              "marker.color": [
               [
                "#B0BEC5",
                "#B0BEC5",
                "#B0BEC5",
                "red",
                "#B0BEC5",
                "#B0BEC5",
                "#B0BEC5",
                "#B0BEC5",
                "#B0BEC5",
                "#B0BEC5",
                "#B0BEC5",
                "#B0BEC5",
                "#B0BEC5",
                "#B0BEC5",
                "#B0BEC5",
                "#B0BEC5",
                "#B0BEC5",
                "#B0BEC5",
                "#B0BEC5",
                "#B0BEC5",
                "#B0BEC5",
                "#B0BEC5",
                "#B0BEC5",
                "#B0BEC5",
                "#B0BEC5",
                "#B0BEC5",
                "#B0BEC5",
                "#B0BEC5",
                "#B0BEC5",
                "#B0BEC5",
                "#B0BEC5",
                "#B0BEC5",
                "#B0BEC5",
                "#B0BEC5",
                "#B0BEC5",
                "#B0BEC5",
                "#B0BEC5",
                "#B0BEC5",
                "#B0BEC5",
                "#B0BEC5"
               ]
              ]
             }
            ],
            "label": "Topic 3",
            "method": "update"
           },
           {
            "args": [
             {
              "marker.color": [
               [
                "#B0BEC5",
                "#B0BEC5",
                "#B0BEC5",
                "#B0BEC5",
                "red",
                "#B0BEC5",
                "#B0BEC5",
                "#B0BEC5",
                "#B0BEC5",
                "#B0BEC5",
                "#B0BEC5",
                "#B0BEC5",
                "#B0BEC5",
                "#B0BEC5",
                "#B0BEC5",
                "#B0BEC5",
                "#B0BEC5",
                "#B0BEC5",
                "#B0BEC5",
                "#B0BEC5",
                "#B0BEC5",
                "#B0BEC5",
                "#B0BEC5",
                "#B0BEC5",
                "#B0BEC5",
                "#B0BEC5",
                "#B0BEC5",
                "#B0BEC5",
                "#B0BEC5",
                "#B0BEC5",
                "#B0BEC5",
                "#B0BEC5",
                "#B0BEC5",
                "#B0BEC5",
                "#B0BEC5",
                "#B0BEC5",
                "#B0BEC5",
                "#B0BEC5",
                "#B0BEC5",
                "#B0BEC5"
               ]
              ]
             }
            ],
            "label": "Topic 4",
            "method": "update"
           },
           {
            "args": [
             {
              "marker.color": [
               [
                "#B0BEC5",
                "#B0BEC5",
                "#B0BEC5",
                "#B0BEC5",
                "#B0BEC5",
                "red",
                "#B0BEC5",
                "#B0BEC5",
                "#B0BEC5",
                "#B0BEC5",
                "#B0BEC5",
                "#B0BEC5",
                "#B0BEC5",
                "#B0BEC5",
                "#B0BEC5",
                "#B0BEC5",
                "#B0BEC5",
                "#B0BEC5",
                "#B0BEC5",
                "#B0BEC5",
                "#B0BEC5",
                "#B0BEC5",
                "#B0BEC5",
                "#B0BEC5",
                "#B0BEC5",
                "#B0BEC5",
                "#B0BEC5",
                "#B0BEC5",
                "#B0BEC5",
                "#B0BEC5",
                "#B0BEC5",
                "#B0BEC5",
                "#B0BEC5",
                "#B0BEC5",
                "#B0BEC5",
                "#B0BEC5",
                "#B0BEC5",
                "#B0BEC5",
                "#B0BEC5",
                "#B0BEC5"
               ]
              ]
             }
            ],
            "label": "Topic 5",
            "method": "update"
           },
           {
            "args": [
             {
              "marker.color": [
               [
                "#B0BEC5",
                "#B0BEC5",
                "#B0BEC5",
                "#B0BEC5",
                "#B0BEC5",
                "#B0BEC5",
                "red",
                "#B0BEC5",
                "#B0BEC5",
                "#B0BEC5",
                "#B0BEC5",
                "#B0BEC5",
                "#B0BEC5",
                "#B0BEC5",
                "#B0BEC5",
                "#B0BEC5",
                "#B0BEC5",
                "#B0BEC5",
                "#B0BEC5",
                "#B0BEC5",
                "#B0BEC5",
                "#B0BEC5",
                "#B0BEC5",
                "#B0BEC5",
                "#B0BEC5",
                "#B0BEC5",
                "#B0BEC5",
                "#B0BEC5",
                "#B0BEC5",
                "#B0BEC5",
                "#B0BEC5",
                "#B0BEC5",
                "#B0BEC5",
                "#B0BEC5",
                "#B0BEC5",
                "#B0BEC5",
                "#B0BEC5",
                "#B0BEC5",
                "#B0BEC5",
                "#B0BEC5"
               ]
              ]
             }
            ],
            "label": "Topic 6",
            "method": "update"
           },
           {
            "args": [
             {
              "marker.color": [
               [
                "#B0BEC5",
                "#B0BEC5",
                "#B0BEC5",
                "#B0BEC5",
                "#B0BEC5",
                "#B0BEC5",
                "#B0BEC5",
                "red",
                "#B0BEC5",
                "#B0BEC5",
                "#B0BEC5",
                "#B0BEC5",
                "#B0BEC5",
                "#B0BEC5",
                "#B0BEC5",
                "#B0BEC5",
                "#B0BEC5",
                "#B0BEC5",
                "#B0BEC5",
                "#B0BEC5",
                "#B0BEC5",
                "#B0BEC5",
                "#B0BEC5",
                "#B0BEC5",
                "#B0BEC5",
                "#B0BEC5",
                "#B0BEC5",
                "#B0BEC5",
                "#B0BEC5",
                "#B0BEC5",
                "#B0BEC5",
                "#B0BEC5",
                "#B0BEC5",
                "#B0BEC5",
                "#B0BEC5",
                "#B0BEC5",
                "#B0BEC5",
                "#B0BEC5",
                "#B0BEC5",
                "#B0BEC5"
               ]
              ]
             }
            ],
            "label": "Topic 7",
            "method": "update"
           },
           {
            "args": [
             {
              "marker.color": [
               [
                "#B0BEC5",
                "#B0BEC5",
                "#B0BEC5",
                "#B0BEC5",
                "#B0BEC5",
                "#B0BEC5",
                "#B0BEC5",
                "#B0BEC5",
                "red",
                "#B0BEC5",
                "#B0BEC5",
                "#B0BEC5",
                "#B0BEC5",
                "#B0BEC5",
                "#B0BEC5",
                "#B0BEC5",
                "#B0BEC5",
                "#B0BEC5",
                "#B0BEC5",
                "#B0BEC5",
                "#B0BEC5",
                "#B0BEC5",
                "#B0BEC5",
                "#B0BEC5",
                "#B0BEC5",
                "#B0BEC5",
                "#B0BEC5",
                "#B0BEC5",
                "#B0BEC5",
                "#B0BEC5",
                "#B0BEC5",
                "#B0BEC5",
                "#B0BEC5",
                "#B0BEC5",
                "#B0BEC5",
                "#B0BEC5",
                "#B0BEC5",
                "#B0BEC5",
                "#B0BEC5",
                "#B0BEC5"
               ]
              ]
             }
            ],
            "label": "Topic 8",
            "method": "update"
           },
           {
            "args": [
             {
              "marker.color": [
               [
                "#B0BEC5",
                "#B0BEC5",
                "#B0BEC5",
                "#B0BEC5",
                "#B0BEC5",
                "#B0BEC5",
                "#B0BEC5",
                "#B0BEC5",
                "#B0BEC5",
                "red",
                "#B0BEC5",
                "#B0BEC5",
                "#B0BEC5",
                "#B0BEC5",
                "#B0BEC5",
                "#B0BEC5",
                "#B0BEC5",
                "#B0BEC5",
                "#B0BEC5",
                "#B0BEC5",
                "#B0BEC5",
                "#B0BEC5",
                "#B0BEC5",
                "#B0BEC5",
                "#B0BEC5",
                "#B0BEC5",
                "#B0BEC5",
                "#B0BEC5",
                "#B0BEC5",
                "#B0BEC5",
                "#B0BEC5",
                "#B0BEC5",
                "#B0BEC5",
                "#B0BEC5",
                "#B0BEC5",
                "#B0BEC5",
                "#B0BEC5",
                "#B0BEC5",
                "#B0BEC5",
                "#B0BEC5"
               ]
              ]
             }
            ],
            "label": "Topic 9",
            "method": "update"
           },
           {
            "args": [
             {
              "marker.color": [
               [
                "#B0BEC5",
                "#B0BEC5",
                "#B0BEC5",
                "#B0BEC5",
                "#B0BEC5",
                "#B0BEC5",
                "#B0BEC5",
                "#B0BEC5",
                "#B0BEC5",
                "#B0BEC5",
                "red",
                "#B0BEC5",
                "#B0BEC5",
                "#B0BEC5",
                "#B0BEC5",
                "#B0BEC5",
                "#B0BEC5",
                "#B0BEC5",
                "#B0BEC5",
                "#B0BEC5",
                "#B0BEC5",
                "#B0BEC5",
                "#B0BEC5",
                "#B0BEC5",
                "#B0BEC5",
                "#B0BEC5",
                "#B0BEC5",
                "#B0BEC5",
                "#B0BEC5",
                "#B0BEC5",
                "#B0BEC5",
                "#B0BEC5",
                "#B0BEC5",
                "#B0BEC5",
                "#B0BEC5",
                "#B0BEC5",
                "#B0BEC5",
                "#B0BEC5",
                "#B0BEC5",
                "#B0BEC5"
               ]
              ]
             }
            ],
            "label": "Topic 10",
            "method": "update"
           },
           {
            "args": [
             {
              "marker.color": [
               [
                "#B0BEC5",
                "#B0BEC5",
                "#B0BEC5",
                "#B0BEC5",
                "#B0BEC5",
                "#B0BEC5",
                "#B0BEC5",
                "#B0BEC5",
                "#B0BEC5",
                "#B0BEC5",
                "#B0BEC5",
                "red",
                "#B0BEC5",
                "#B0BEC5",
                "#B0BEC5",
                "#B0BEC5",
                "#B0BEC5",
                "#B0BEC5",
                "#B0BEC5",
                "#B0BEC5",
                "#B0BEC5",
                "#B0BEC5",
                "#B0BEC5",
                "#B0BEC5",
                "#B0BEC5",
                "#B0BEC5",
                "#B0BEC5",
                "#B0BEC5",
                "#B0BEC5",
                "#B0BEC5",
                "#B0BEC5",
                "#B0BEC5",
                "#B0BEC5",
                "#B0BEC5",
                "#B0BEC5",
                "#B0BEC5",
                "#B0BEC5",
                "#B0BEC5",
                "#B0BEC5",
                "#B0BEC5"
               ]
              ]
             }
            ],
            "label": "Topic 11",
            "method": "update"
           },
           {
            "args": [
             {
              "marker.color": [
               [
                "#B0BEC5",
                "#B0BEC5",
                "#B0BEC5",
                "#B0BEC5",
                "#B0BEC5",
                "#B0BEC5",
                "#B0BEC5",
                "#B0BEC5",
                "#B0BEC5",
                "#B0BEC5",
                "#B0BEC5",
                "#B0BEC5",
                "red",
                "#B0BEC5",
                "#B0BEC5",
                "#B0BEC5",
                "#B0BEC5",
                "#B0BEC5",
                "#B0BEC5",
                "#B0BEC5",
                "#B0BEC5",
                "#B0BEC5",
                "#B0BEC5",
                "#B0BEC5",
                "#B0BEC5",
                "#B0BEC5",
                "#B0BEC5",
                "#B0BEC5",
                "#B0BEC5",
                "#B0BEC5",
                "#B0BEC5",
                "#B0BEC5",
                "#B0BEC5",
                "#B0BEC5",
                "#B0BEC5",
                "#B0BEC5",
                "#B0BEC5",
                "#B0BEC5",
                "#B0BEC5",
                "#B0BEC5"
               ]
              ]
             }
            ],
            "label": "Topic 12",
            "method": "update"
           },
           {
            "args": [
             {
              "marker.color": [
               [
                "#B0BEC5",
                "#B0BEC5",
                "#B0BEC5",
                "#B0BEC5",
                "#B0BEC5",
                "#B0BEC5",
                "#B0BEC5",
                "#B0BEC5",
                "#B0BEC5",
                "#B0BEC5",
                "#B0BEC5",
                "#B0BEC5",
                "#B0BEC5",
                "red",
                "#B0BEC5",
                "#B0BEC5",
                "#B0BEC5",
                "#B0BEC5",
                "#B0BEC5",
                "#B0BEC5",
                "#B0BEC5",
                "#B0BEC5",
                "#B0BEC5",
                "#B0BEC5",
                "#B0BEC5",
                "#B0BEC5",
                "#B0BEC5",
                "#B0BEC5",
                "#B0BEC5",
                "#B0BEC5",
                "#B0BEC5",
                "#B0BEC5",
                "#B0BEC5",
                "#B0BEC5",
                "#B0BEC5",
                "#B0BEC5",
                "#B0BEC5",
                "#B0BEC5",
                "#B0BEC5",
                "#B0BEC5"
               ]
              ]
             }
            ],
            "label": "Topic 13",
            "method": "update"
           },
           {
            "args": [
             {
              "marker.color": [
               [
                "#B0BEC5",
                "#B0BEC5",
                "#B0BEC5",
                "#B0BEC5",
                "#B0BEC5",
                "#B0BEC5",
                "#B0BEC5",
                "#B0BEC5",
                "#B0BEC5",
                "#B0BEC5",
                "#B0BEC5",
                "#B0BEC5",
                "#B0BEC5",
                "#B0BEC5",
                "red",
                "#B0BEC5",
                "#B0BEC5",
                "#B0BEC5",
                "#B0BEC5",
                "#B0BEC5",
                "#B0BEC5",
                "#B0BEC5",
                "#B0BEC5",
                "#B0BEC5",
                "#B0BEC5",
                "#B0BEC5",
                "#B0BEC5",
                "#B0BEC5",
                "#B0BEC5",
                "#B0BEC5",
                "#B0BEC5",
                "#B0BEC5",
                "#B0BEC5",
                "#B0BEC5",
                "#B0BEC5",
                "#B0BEC5",
                "#B0BEC5",
                "#B0BEC5",
                "#B0BEC5",
                "#B0BEC5"
               ]
              ]
             }
            ],
            "label": "Topic 14",
            "method": "update"
           },
           {
            "args": [
             {
              "marker.color": [
               [
                "#B0BEC5",
                "#B0BEC5",
                "#B0BEC5",
                "#B0BEC5",
                "#B0BEC5",
                "#B0BEC5",
                "#B0BEC5",
                "#B0BEC5",
                "#B0BEC5",
                "#B0BEC5",
                "#B0BEC5",
                "#B0BEC5",
                "#B0BEC5",
                "#B0BEC5",
                "#B0BEC5",
                "red",
                "#B0BEC5",
                "#B0BEC5",
                "#B0BEC5",
                "#B0BEC5",
                "#B0BEC5",
                "#B0BEC5",
                "#B0BEC5",
                "#B0BEC5",
                "#B0BEC5",
                "#B0BEC5",
                "#B0BEC5",
                "#B0BEC5",
                "#B0BEC5",
                "#B0BEC5",
                "#B0BEC5",
                "#B0BEC5",
                "#B0BEC5",
                "#B0BEC5",
                "#B0BEC5",
                "#B0BEC5",
                "#B0BEC5",
                "#B0BEC5",
                "#B0BEC5",
                "#B0BEC5"
               ]
              ]
             }
            ],
            "label": "Topic 15",
            "method": "update"
           },
           {
            "args": [
             {
              "marker.color": [
               [
                "#B0BEC5",
                "#B0BEC5",
                "#B0BEC5",
                "#B0BEC5",
                "#B0BEC5",
                "#B0BEC5",
                "#B0BEC5",
                "#B0BEC5",
                "#B0BEC5",
                "#B0BEC5",
                "#B0BEC5",
                "#B0BEC5",
                "#B0BEC5",
                "#B0BEC5",
                "#B0BEC5",
                "#B0BEC5",
                "red",
                "#B0BEC5",
                "#B0BEC5",
                "#B0BEC5",
                "#B0BEC5",
                "#B0BEC5",
                "#B0BEC5",
                "#B0BEC5",
                "#B0BEC5",
                "#B0BEC5",
                "#B0BEC5",
                "#B0BEC5",
                "#B0BEC5",
                "#B0BEC5",
                "#B0BEC5",
                "#B0BEC5",
                "#B0BEC5",
                "#B0BEC5",
                "#B0BEC5",
                "#B0BEC5",
                "#B0BEC5",
                "#B0BEC5",
                "#B0BEC5",
                "#B0BEC5"
               ]
              ]
             }
            ],
            "label": "Topic 16",
            "method": "update"
           },
           {
            "args": [
             {
              "marker.color": [
               [
                "#B0BEC5",
                "#B0BEC5",
                "#B0BEC5",
                "#B0BEC5",
                "#B0BEC5",
                "#B0BEC5",
                "#B0BEC5",
                "#B0BEC5",
                "#B0BEC5",
                "#B0BEC5",
                "#B0BEC5",
                "#B0BEC5",
                "#B0BEC5",
                "#B0BEC5",
                "#B0BEC5",
                "#B0BEC5",
                "#B0BEC5",
                "red",
                "#B0BEC5",
                "#B0BEC5",
                "#B0BEC5",
                "#B0BEC5",
                "#B0BEC5",
                "#B0BEC5",
                "#B0BEC5",
                "#B0BEC5",
                "#B0BEC5",
                "#B0BEC5",
                "#B0BEC5",
                "#B0BEC5",
                "#B0BEC5",
                "#B0BEC5",
                "#B0BEC5",
                "#B0BEC5",
                "#B0BEC5",
                "#B0BEC5",
                "#B0BEC5",
                "#B0BEC5",
                "#B0BEC5",
                "#B0BEC5"
               ]
              ]
             }
            ],
            "label": "Topic 17",
            "method": "update"
           },
           {
            "args": [
             {
              "marker.color": [
               [
                "#B0BEC5",
                "#B0BEC5",
                "#B0BEC5",
                "#B0BEC5",
                "#B0BEC5",
                "#B0BEC5",
                "#B0BEC5",
                "#B0BEC5",
                "#B0BEC5",
                "#B0BEC5",
                "#B0BEC5",
                "#B0BEC5",
                "#B0BEC5",
                "#B0BEC5",
                "#B0BEC5",
                "#B0BEC5",
                "#B0BEC5",
                "#B0BEC5",
                "red",
                "#B0BEC5",
                "#B0BEC5",
                "#B0BEC5",
                "#B0BEC5",
                "#B0BEC5",
                "#B0BEC5",
                "#B0BEC5",
                "#B0BEC5",
                "#B0BEC5",
                "#B0BEC5",
                "#B0BEC5",
                "#B0BEC5",
                "#B0BEC5",
                "#B0BEC5",
                "#B0BEC5",
                "#B0BEC5",
                "#B0BEC5",
                "#B0BEC5",
                "#B0BEC5",
                "#B0BEC5",
                "#B0BEC5"
               ]
              ]
             }
            ],
            "label": "Topic 18",
            "method": "update"
           },
           {
            "args": [
             {
              "marker.color": [
               [
                "#B0BEC5",
                "#B0BEC5",
                "#B0BEC5",
                "#B0BEC5",
                "#B0BEC5",
                "#B0BEC5",
                "#B0BEC5",
                "#B0BEC5",
                "#B0BEC5",
                "#B0BEC5",
                "#B0BEC5",
                "#B0BEC5",
                "#B0BEC5",
                "#B0BEC5",
                "#B0BEC5",
                "#B0BEC5",
                "#B0BEC5",
                "#B0BEC5",
                "#B0BEC5",
                "red",
                "#B0BEC5",
                "#B0BEC5",
                "#B0BEC5",
                "#B0BEC5",
                "#B0BEC5",
                "#B0BEC5",
                "#B0BEC5",
                "#B0BEC5",
                "#B0BEC5",
                "#B0BEC5",
                "#B0BEC5",
                "#B0BEC5",
                "#B0BEC5",
                "#B0BEC5",
                "#B0BEC5",
                "#B0BEC5",
                "#B0BEC5",
                "#B0BEC5",
                "#B0BEC5",
                "#B0BEC5"
               ]
              ]
             }
            ],
            "label": "Topic 19",
            "method": "update"
           },
           {
            "args": [
             {
              "marker.color": [
               [
                "#B0BEC5",
                "#B0BEC5",
                "#B0BEC5",
                "#B0BEC5",
                "#B0BEC5",
                "#B0BEC5",
                "#B0BEC5",
                "#B0BEC5",
                "#B0BEC5",
                "#B0BEC5",
                "#B0BEC5",
                "#B0BEC5",
                "#B0BEC5",
                "#B0BEC5",
                "#B0BEC5",
                "#B0BEC5",
                "#B0BEC5",
                "#B0BEC5",
                "#B0BEC5",
                "#B0BEC5",
                "red",
                "#B0BEC5",
                "#B0BEC5",
                "#B0BEC5",
                "#B0BEC5",
                "#B0BEC5",
                "#B0BEC5",
                "#B0BEC5",
                "#B0BEC5",
                "#B0BEC5",
                "#B0BEC5",
                "#B0BEC5",
                "#B0BEC5",
                "#B0BEC5",
                "#B0BEC5",
                "#B0BEC5",
                "#B0BEC5",
                "#B0BEC5",
                "#B0BEC5",
                "#B0BEC5"
               ]
              ]
             }
            ],
            "label": "Topic 20",
            "method": "update"
           },
           {
            "args": [
             {
              "marker.color": [
               [
                "#B0BEC5",
                "#B0BEC5",
                "#B0BEC5",
                "#B0BEC5",
                "#B0BEC5",
                "#B0BEC5",
                "#B0BEC5",
                "#B0BEC5",
                "#B0BEC5",
                "#B0BEC5",
                "#B0BEC5",
                "#B0BEC5",
                "#B0BEC5",
                "#B0BEC5",
                "#B0BEC5",
                "#B0BEC5",
                "#B0BEC5",
                "#B0BEC5",
                "#B0BEC5",
                "#B0BEC5",
                "#B0BEC5",
                "red",
                "#B0BEC5",
                "#B0BEC5",
                "#B0BEC5",
                "#B0BEC5",
                "#B0BEC5",
                "#B0BEC5",
                "#B0BEC5",
                "#B0BEC5",
                "#B0BEC5",
                "#B0BEC5",
                "#B0BEC5",
                "#B0BEC5",
                "#B0BEC5",
                "#B0BEC5",
                "#B0BEC5",
                "#B0BEC5",
                "#B0BEC5",
                "#B0BEC5"
               ]
              ]
             }
            ],
            "label": "Topic 21",
            "method": "update"
           },
           {
            "args": [
             {
              "marker.color": [
               [
                "#B0BEC5",
                "#B0BEC5",
                "#B0BEC5",
                "#B0BEC5",
                "#B0BEC5",
                "#B0BEC5",
                "#B0BEC5",
                "#B0BEC5",
                "#B0BEC5",
                "#B0BEC5",
                "#B0BEC5",
                "#B0BEC5",
                "#B0BEC5",
                "#B0BEC5",
                "#B0BEC5",
                "#B0BEC5",
                "#B0BEC5",
                "#B0BEC5",
                "#B0BEC5",
                "#B0BEC5",
                "#B0BEC5",
                "#B0BEC5",
                "red",
                "#B0BEC5",
                "#B0BEC5",
                "#B0BEC5",
                "#B0BEC5",
                "#B0BEC5",
                "#B0BEC5",
                "#B0BEC5",
                "#B0BEC5",
                "#B0BEC5",
                "#B0BEC5",
                "#B0BEC5",
                "#B0BEC5",
                "#B0BEC5",
                "#B0BEC5",
                "#B0BEC5",
                "#B0BEC5",
                "#B0BEC5"
               ]
              ]
             }
            ],
            "label": "Topic 22",
            "method": "update"
           },
           {
            "args": [
             {
              "marker.color": [
               [
                "#B0BEC5",
                "#B0BEC5",
                "#B0BEC5",
                "#B0BEC5",
                "#B0BEC5",
                "#B0BEC5",
                "#B0BEC5",
                "#B0BEC5",
                "#B0BEC5",
                "#B0BEC5",
                "#B0BEC5",
                "#B0BEC5",
                "#B0BEC5",
                "#B0BEC5",
                "#B0BEC5",
                "#B0BEC5",
                "#B0BEC5",
                "#B0BEC5",
                "#B0BEC5",
                "#B0BEC5",
                "#B0BEC5",
                "#B0BEC5",
                "#B0BEC5",
                "red",
                "#B0BEC5",
                "#B0BEC5",
                "#B0BEC5",
                "#B0BEC5",
                "#B0BEC5",
                "#B0BEC5",
                "#B0BEC5",
                "#B0BEC5",
                "#B0BEC5",
                "#B0BEC5",
                "#B0BEC5",
                "#B0BEC5",
                "#B0BEC5",
                "#B0BEC5",
                "#B0BEC5",
                "#B0BEC5"
               ]
              ]
             }
            ],
            "label": "Topic 23",
            "method": "update"
           },
           {
            "args": [
             {
              "marker.color": [
               [
                "#B0BEC5",
                "#B0BEC5",
                "#B0BEC5",
                "#B0BEC5",
                "#B0BEC5",
                "#B0BEC5",
                "#B0BEC5",
                "#B0BEC5",
                "#B0BEC5",
                "#B0BEC5",
                "#B0BEC5",
                "#B0BEC5",
                "#B0BEC5",
                "#B0BEC5",
                "#B0BEC5",
                "#B0BEC5",
                "#B0BEC5",
                "#B0BEC5",
                "#B0BEC5",
                "#B0BEC5",
                "#B0BEC5",
                "#B0BEC5",
                "#B0BEC5",
                "#B0BEC5",
                "red",
                "#B0BEC5",
                "#B0BEC5",
                "#B0BEC5",
                "#B0BEC5",
                "#B0BEC5",
                "#B0BEC5",
                "#B0BEC5",
                "#B0BEC5",
                "#B0BEC5",
                "#B0BEC5",
                "#B0BEC5",
                "#B0BEC5",
                "#B0BEC5",
                "#B0BEC5",
                "#B0BEC5"
               ]
              ]
             }
            ],
            "label": "Topic 24",
            "method": "update"
           },
           {
            "args": [
             {
              "marker.color": [
               [
                "#B0BEC5",
                "#B0BEC5",
                "#B0BEC5",
                "#B0BEC5",
                "#B0BEC5",
                "#B0BEC5",
                "#B0BEC5",
                "#B0BEC5",
                "#B0BEC5",
                "#B0BEC5",
                "#B0BEC5",
                "#B0BEC5",
                "#B0BEC5",
                "#B0BEC5",
                "#B0BEC5",
                "#B0BEC5",
                "#B0BEC5",
                "#B0BEC5",
                "#B0BEC5",
                "#B0BEC5",
                "#B0BEC5",
                "#B0BEC5",
                "#B0BEC5",
                "#B0BEC5",
                "#B0BEC5",
                "red",
                "#B0BEC5",
                "#B0BEC5",
                "#B0BEC5",
                "#B0BEC5",
                "#B0BEC5",
                "#B0BEC5",
                "#B0BEC5",
                "#B0BEC5",
                "#B0BEC5",
                "#B0BEC5",
                "#B0BEC5",
                "#B0BEC5",
                "#B0BEC5",
                "#B0BEC5"
               ]
              ]
             }
            ],
            "label": "Topic 25",
            "method": "update"
           },
           {
            "args": [
             {
              "marker.color": [
               [
                "#B0BEC5",
                "#B0BEC5",
                "#B0BEC5",
                "#B0BEC5",
                "#B0BEC5",
                "#B0BEC5",
                "#B0BEC5",
                "#B0BEC5",
                "#B0BEC5",
                "#B0BEC5",
                "#B0BEC5",
                "#B0BEC5",
                "#B0BEC5",
                "#B0BEC5",
                "#B0BEC5",
                "#B0BEC5",
                "#B0BEC5",
                "#B0BEC5",
                "#B0BEC5",
                "#B0BEC5",
                "#B0BEC5",
                "#B0BEC5",
                "#B0BEC5",
                "#B0BEC5",
                "#B0BEC5",
                "#B0BEC5",
                "red",
                "#B0BEC5",
                "#B0BEC5",
                "#B0BEC5",
                "#B0BEC5",
                "#B0BEC5",
                "#B0BEC5",
                "#B0BEC5",
                "#B0BEC5",
                "#B0BEC5",
                "#B0BEC5",
                "#B0BEC5",
                "#B0BEC5",
                "#B0BEC5"
               ]
              ]
             }
            ],
            "label": "Topic 26",
            "method": "update"
           },
           {
            "args": [
             {
              "marker.color": [
               [
                "#B0BEC5",
                "#B0BEC5",
                "#B0BEC5",
                "#B0BEC5",
                "#B0BEC5",
                "#B0BEC5",
                "#B0BEC5",
                "#B0BEC5",
                "#B0BEC5",
                "#B0BEC5",
                "#B0BEC5",
                "#B0BEC5",
                "#B0BEC5",
                "#B0BEC5",
                "#B0BEC5",
                "#B0BEC5",
                "#B0BEC5",
                "#B0BEC5",
                "#B0BEC5",
                "#B0BEC5",
                "#B0BEC5",
                "#B0BEC5",
                "#B0BEC5",
                "#B0BEC5",
                "#B0BEC5",
                "#B0BEC5",
                "#B0BEC5",
                "red",
                "#B0BEC5",
                "#B0BEC5",
                "#B0BEC5",
                "#B0BEC5",
                "#B0BEC5",
                "#B0BEC5",
                "#B0BEC5",
                "#B0BEC5",
                "#B0BEC5",
                "#B0BEC5",
                "#B0BEC5",
                "#B0BEC5"
               ]
              ]
             }
            ],
            "label": "Topic 27",
            "method": "update"
           },
           {
            "args": [
             {
              "marker.color": [
               [
                "#B0BEC5",
                "#B0BEC5",
                "#B0BEC5",
                "#B0BEC5",
                "#B0BEC5",
                "#B0BEC5",
                "#B0BEC5",
                "#B0BEC5",
                "#B0BEC5",
                "#B0BEC5",
                "#B0BEC5",
                "#B0BEC5",
                "#B0BEC5",
                "#B0BEC5",
                "#B0BEC5",
                "#B0BEC5",
                "#B0BEC5",
                "#B0BEC5",
                "#B0BEC5",
                "#B0BEC5",
                "#B0BEC5",
                "#B0BEC5",
                "#B0BEC5",
                "#B0BEC5",
                "#B0BEC5",
                "#B0BEC5",
                "#B0BEC5",
                "#B0BEC5",
                "red",
                "#B0BEC5",
                "#B0BEC5",
                "#B0BEC5",
                "#B0BEC5",
                "#B0BEC5",
                "#B0BEC5",
                "#B0BEC5",
                "#B0BEC5",
                "#B0BEC5",
                "#B0BEC5",
                "#B0BEC5"
               ]
              ]
             }
            ],
            "label": "Topic 28",
            "method": "update"
           },
           {
            "args": [
             {
              "marker.color": [
               [
                "#B0BEC5",
                "#B0BEC5",
                "#B0BEC5",
                "#B0BEC5",
                "#B0BEC5",
                "#B0BEC5",
                "#B0BEC5",
                "#B0BEC5",
                "#B0BEC5",
                "#B0BEC5",
                "#B0BEC5",
                "#B0BEC5",
                "#B0BEC5",
                "#B0BEC5",
                "#B0BEC5",
                "#B0BEC5",
                "#B0BEC5",
                "#B0BEC5",
                "#B0BEC5",
                "#B0BEC5",
                "#B0BEC5",
                "#B0BEC5",
                "#B0BEC5",
                "#B0BEC5",
                "#B0BEC5",
                "#B0BEC5",
                "#B0BEC5",
                "#B0BEC5",
                "#B0BEC5",
                "red",
                "#B0BEC5",
                "#B0BEC5",
                "#B0BEC5",
                "#B0BEC5",
                "#B0BEC5",
                "#B0BEC5",
                "#B0BEC5",
                "#B0BEC5",
                "#B0BEC5",
                "#B0BEC5"
               ]
              ]
             }
            ],
            "label": "Topic 29",
            "method": "update"
           },
           {
            "args": [
             {
              "marker.color": [
               [
                "#B0BEC5",
                "#B0BEC5",
                "#B0BEC5",
                "#B0BEC5",
                "#B0BEC5",
                "#B0BEC5",
                "#B0BEC5",
                "#B0BEC5",
                "#B0BEC5",
                "#B0BEC5",
                "#B0BEC5",
                "#B0BEC5",
                "#B0BEC5",
                "#B0BEC5",
                "#B0BEC5",
                "#B0BEC5",
                "#B0BEC5",
                "#B0BEC5",
                "#B0BEC5",
                "#B0BEC5",
                "#B0BEC5",
                "#B0BEC5",
                "#B0BEC5",
                "#B0BEC5",
                "#B0BEC5",
                "#B0BEC5",
                "#B0BEC5",
                "#B0BEC5",
                "#B0BEC5",
                "#B0BEC5",
                "red",
                "#B0BEC5",
                "#B0BEC5",
                "#B0BEC5",
                "#B0BEC5",
                "#B0BEC5",
                "#B0BEC5",
                "#B0BEC5",
                "#B0BEC5",
                "#B0BEC5"
               ]
              ]
             }
            ],
            "label": "Topic 30",
            "method": "update"
           },
           {
            "args": [
             {
              "marker.color": [
               [
                "#B0BEC5",
                "#B0BEC5",
                "#B0BEC5",
                "#B0BEC5",
                "#B0BEC5",
                "#B0BEC5",
                "#B0BEC5",
                "#B0BEC5",
                "#B0BEC5",
                "#B0BEC5",
                "#B0BEC5",
                "#B0BEC5",
                "#B0BEC5",
                "#B0BEC5",
                "#B0BEC5",
                "#B0BEC5",
                "#B0BEC5",
                "#B0BEC5",
                "#B0BEC5",
                "#B0BEC5",
                "#B0BEC5",
                "#B0BEC5",
                "#B0BEC5",
                "#B0BEC5",
                "#B0BEC5",
                "#B0BEC5",
                "#B0BEC5",
                "#B0BEC5",
                "#B0BEC5",
                "#B0BEC5",
                "#B0BEC5",
                "red",
                "#B0BEC5",
                "#B0BEC5",
                "#B0BEC5",
                "#B0BEC5",
                "#B0BEC5",
                "#B0BEC5",
                "#B0BEC5",
                "#B0BEC5"
               ]
              ]
             }
            ],
            "label": "Topic 31",
            "method": "update"
           },
           {
            "args": [
             {
              "marker.color": [
               [
                "#B0BEC5",
                "#B0BEC5",
                "#B0BEC5",
                "#B0BEC5",
                "#B0BEC5",
                "#B0BEC5",
                "#B0BEC5",
                "#B0BEC5",
                "#B0BEC5",
                "#B0BEC5",
                "#B0BEC5",
                "#B0BEC5",
                "#B0BEC5",
                "#B0BEC5",
                "#B0BEC5",
                "#B0BEC5",
                "#B0BEC5",
                "#B0BEC5",
                "#B0BEC5",
                "#B0BEC5",
                "#B0BEC5",
                "#B0BEC5",
                "#B0BEC5",
                "#B0BEC5",
                "#B0BEC5",
                "#B0BEC5",
                "#B0BEC5",
                "#B0BEC5",
                "#B0BEC5",
                "#B0BEC5",
                "#B0BEC5",
                "#B0BEC5",
                "red",
                "#B0BEC5",
                "#B0BEC5",
                "#B0BEC5",
                "#B0BEC5",
                "#B0BEC5",
                "#B0BEC5",
                "#B0BEC5"
               ]
              ]
             }
            ],
            "label": "Topic 32",
            "method": "update"
           },
           {
            "args": [
             {
              "marker.color": [
               [
                "#B0BEC5",
                "#B0BEC5",
                "#B0BEC5",
                "#B0BEC5",
                "#B0BEC5",
                "#B0BEC5",
                "#B0BEC5",
                "#B0BEC5",
                "#B0BEC5",
                "#B0BEC5",
                "#B0BEC5",
                "#B0BEC5",
                "#B0BEC5",
                "#B0BEC5",
                "#B0BEC5",
                "#B0BEC5",
                "#B0BEC5",
                "#B0BEC5",
                "#B0BEC5",
                "#B0BEC5",
                "#B0BEC5",
                "#B0BEC5",
                "#B0BEC5",
                "#B0BEC5",
                "#B0BEC5",
                "#B0BEC5",
                "#B0BEC5",
                "#B0BEC5",
                "#B0BEC5",
                "#B0BEC5",
                "#B0BEC5",
                "#B0BEC5",
                "#B0BEC5",
                "red",
                "#B0BEC5",
                "#B0BEC5",
                "#B0BEC5",
                "#B0BEC5",
                "#B0BEC5",
                "#B0BEC5"
               ]
              ]
             }
            ],
            "label": "Topic 33",
            "method": "update"
           },
           {
            "args": [
             {
              "marker.color": [
               [
                "#B0BEC5",
                "#B0BEC5",
                "#B0BEC5",
                "#B0BEC5",
                "#B0BEC5",
                "#B0BEC5",
                "#B0BEC5",
                "#B0BEC5",
                "#B0BEC5",
                "#B0BEC5",
                "#B0BEC5",
                "#B0BEC5",
                "#B0BEC5",
                "#B0BEC5",
                "#B0BEC5",
                "#B0BEC5",
                "#B0BEC5",
                "#B0BEC5",
                "#B0BEC5",
                "#B0BEC5",
                "#B0BEC5",
                "#B0BEC5",
                "#B0BEC5",
                "#B0BEC5",
                "#B0BEC5",
                "#B0BEC5",
                "#B0BEC5",
                "#B0BEC5",
                "#B0BEC5",
                "#B0BEC5",
                "#B0BEC5",
                "#B0BEC5",
                "#B0BEC5",
                "#B0BEC5",
                "red",
                "#B0BEC5",
                "#B0BEC5",
                "#B0BEC5",
                "#B0BEC5",
                "#B0BEC5"
               ]
              ]
             }
            ],
            "label": "Topic 34",
            "method": "update"
           },
           {
            "args": [
             {
              "marker.color": [
               [
                "#B0BEC5",
                "#B0BEC5",
                "#B0BEC5",
                "#B0BEC5",
                "#B0BEC5",
                "#B0BEC5",
                "#B0BEC5",
                "#B0BEC5",
                "#B0BEC5",
                "#B0BEC5",
                "#B0BEC5",
                "#B0BEC5",
                "#B0BEC5",
                "#B0BEC5",
                "#B0BEC5",
                "#B0BEC5",
                "#B0BEC5",
                "#B0BEC5",
                "#B0BEC5",
                "#B0BEC5",
                "#B0BEC5",
                "#B0BEC5",
                "#B0BEC5",
                "#B0BEC5",
                "#B0BEC5",
                "#B0BEC5",
                "#B0BEC5",
                "#B0BEC5",
                "#B0BEC5",
                "#B0BEC5",
                "#B0BEC5",
                "#B0BEC5",
                "#B0BEC5",
                "#B0BEC5",
                "#B0BEC5",
                "red",
                "#B0BEC5",
                "#B0BEC5",
                "#B0BEC5",
                "#B0BEC5"
               ]
              ]
             }
            ],
            "label": "Topic 35",
            "method": "update"
           },
           {
            "args": [
             {
              "marker.color": [
               [
                "#B0BEC5",
                "#B0BEC5",
                "#B0BEC5",
                "#B0BEC5",
                "#B0BEC5",
                "#B0BEC5",
                "#B0BEC5",
                "#B0BEC5",
                "#B0BEC5",
                "#B0BEC5",
                "#B0BEC5",
                "#B0BEC5",
                "#B0BEC5",
                "#B0BEC5",
                "#B0BEC5",
                "#B0BEC5",
                "#B0BEC5",
                "#B0BEC5",
                "#B0BEC5",
                "#B0BEC5",
                "#B0BEC5",
                "#B0BEC5",
                "#B0BEC5",
                "#B0BEC5",
                "#B0BEC5",
                "#B0BEC5",
                "#B0BEC5",
                "#B0BEC5",
                "#B0BEC5",
                "#B0BEC5",
                "#B0BEC5",
                "#B0BEC5",
                "#B0BEC5",
                "#B0BEC5",
                "#B0BEC5",
                "#B0BEC5",
                "red",
                "#B0BEC5",
                "#B0BEC5",
                "#B0BEC5"
               ]
              ]
             }
            ],
            "label": "Topic 36",
            "method": "update"
           },
           {
            "args": [
             {
              "marker.color": [
               [
                "#B0BEC5",
                "#B0BEC5",
                "#B0BEC5",
                "#B0BEC5",
                "#B0BEC5",
                "#B0BEC5",
                "#B0BEC5",
                "#B0BEC5",
                "#B0BEC5",
                "#B0BEC5",
                "#B0BEC5",
                "#B0BEC5",
                "#B0BEC5",
                "#B0BEC5",
                "#B0BEC5",
                "#B0BEC5",
                "#B0BEC5",
                "#B0BEC5",
                "#B0BEC5",
                "#B0BEC5",
                "#B0BEC5",
                "#B0BEC5",
                "#B0BEC5",
                "#B0BEC5",
                "#B0BEC5",
                "#B0BEC5",
                "#B0BEC5",
                "#B0BEC5",
                "#B0BEC5",
                "#B0BEC5",
                "#B0BEC5",
                "#B0BEC5",
                "#B0BEC5",
                "#B0BEC5",
                "#B0BEC5",
                "#B0BEC5",
                "#B0BEC5",
                "red",
                "#B0BEC5",
                "#B0BEC5"
               ]
              ]
             }
            ],
            "label": "Topic 37",
            "method": "update"
           },
           {
            "args": [
             {
              "marker.color": [
               [
                "#B0BEC5",
                "#B0BEC5",
                "#B0BEC5",
                "#B0BEC5",
                "#B0BEC5",
                "#B0BEC5",
                "#B0BEC5",
                "#B0BEC5",
                "#B0BEC5",
                "#B0BEC5",
                "#B0BEC5",
                "#B0BEC5",
                "#B0BEC5",
                "#B0BEC5",
                "#B0BEC5",
                "#B0BEC5",
                "#B0BEC5",
                "#B0BEC5",
                "#B0BEC5",
                "#B0BEC5",
                "#B0BEC5",
                "#B0BEC5",
                "#B0BEC5",
                "#B0BEC5",
                "#B0BEC5",
                "#B0BEC5",
                "#B0BEC5",
                "#B0BEC5",
                "#B0BEC5",
                "#B0BEC5",
                "#B0BEC5",
                "#B0BEC5",
                "#B0BEC5",
                "#B0BEC5",
                "#B0BEC5",
                "#B0BEC5",
                "#B0BEC5",
                "#B0BEC5",
                "red",
                "#B0BEC5"
               ]
              ]
             }
            ],
            "label": "Topic 38",
            "method": "update"
           },
           {
            "args": [
             {
              "marker.color": [
               [
                "#B0BEC5",
                "#B0BEC5",
                "#B0BEC5",
                "#B0BEC5",
                "#B0BEC5",
                "#B0BEC5",
                "#B0BEC5",
                "#B0BEC5",
                "#B0BEC5",
                "#B0BEC5",
                "#B0BEC5",
                "#B0BEC5",
                "#B0BEC5",
                "#B0BEC5",
                "#B0BEC5",
                "#B0BEC5",
                "#B0BEC5",
                "#B0BEC5",
                "#B0BEC5",
                "#B0BEC5",
                "#B0BEC5",
                "#B0BEC5",
                "#B0BEC5",
                "#B0BEC5",
                "#B0BEC5",
                "#B0BEC5",
                "#B0BEC5",
                "#B0BEC5",
                "#B0BEC5",
                "#B0BEC5",
                "#B0BEC5",
                "#B0BEC5",
                "#B0BEC5",
                "#B0BEC5",
                "#B0BEC5",
                "#B0BEC5",
                "#B0BEC5",
                "#B0BEC5",
                "#B0BEC5",
                "red"
               ]
              ]
             }
            ],
            "label": "Topic 39",
            "method": "update"
           }
          ]
         }
        ],
        "template": {
         "data": {
          "bar": [
           {
            "error_x": {
             "color": "rgb(36,36,36)"
            },
            "error_y": {
             "color": "rgb(36,36,36)"
            },
            "marker": {
             "line": {
              "color": "white",
              "width": 0.5
             },
             "pattern": {
              "fillmode": "overlay",
              "size": 10,
              "solidity": 0.2
             }
            },
            "type": "bar"
           }
          ],
          "barpolar": [
           {
            "marker": {
             "line": {
              "color": "white",
              "width": 0.5
             },
             "pattern": {
              "fillmode": "overlay",
              "size": 10,
              "solidity": 0.2
             }
            },
            "type": "barpolar"
           }
          ],
          "carpet": [
           {
            "aaxis": {
             "endlinecolor": "rgb(36,36,36)",
             "gridcolor": "white",
             "linecolor": "white",
             "minorgridcolor": "white",
             "startlinecolor": "rgb(36,36,36)"
            },
            "baxis": {
             "endlinecolor": "rgb(36,36,36)",
             "gridcolor": "white",
             "linecolor": "white",
             "minorgridcolor": "white",
             "startlinecolor": "rgb(36,36,36)"
            },
            "type": "carpet"
           }
          ],
          "choropleth": [
           {
            "colorbar": {
             "outlinewidth": 1,
             "tickcolor": "rgb(36,36,36)",
             "ticks": "outside"
            },
            "type": "choropleth"
           }
          ],
          "contour": [
           {
            "colorbar": {
             "outlinewidth": 1,
             "tickcolor": "rgb(36,36,36)",
             "ticks": "outside"
            },
            "colorscale": [
             [
              0,
              "#440154"
             ],
             [
              0.1111111111111111,
              "#482878"
             ],
             [
              0.2222222222222222,
              "#3e4989"
             ],
             [
              0.3333333333333333,
              "#31688e"
             ],
             [
              0.4444444444444444,
              "#26828e"
             ],
             [
              0.5555555555555556,
              "#1f9e89"
             ],
             [
              0.6666666666666666,
              "#35b779"
             ],
             [
              0.7777777777777778,
              "#6ece58"
             ],
             [
              0.8888888888888888,
              "#b5de2b"
             ],
             [
              1,
              "#fde725"
             ]
            ],
            "type": "contour"
           }
          ],
          "contourcarpet": [
           {
            "colorbar": {
             "outlinewidth": 1,
             "tickcolor": "rgb(36,36,36)",
             "ticks": "outside"
            },
            "type": "contourcarpet"
           }
          ],
          "heatmap": [
           {
            "colorbar": {
             "outlinewidth": 1,
             "tickcolor": "rgb(36,36,36)",
             "ticks": "outside"
            },
            "colorscale": [
             [
              0,
              "#440154"
             ],
             [
              0.1111111111111111,
              "#482878"
             ],
             [
              0.2222222222222222,
              "#3e4989"
             ],
             [
              0.3333333333333333,
              "#31688e"
             ],
             [
              0.4444444444444444,
              "#26828e"
             ],
             [
              0.5555555555555556,
              "#1f9e89"
             ],
             [
              0.6666666666666666,
              "#35b779"
             ],
             [
              0.7777777777777778,
              "#6ece58"
             ],
             [
              0.8888888888888888,
              "#b5de2b"
             ],
             [
              1,
              "#fde725"
             ]
            ],
            "type": "heatmap"
           }
          ],
          "heatmapgl": [
           {
            "colorbar": {
             "outlinewidth": 1,
             "tickcolor": "rgb(36,36,36)",
             "ticks": "outside"
            },
            "colorscale": [
             [
              0,
              "#440154"
             ],
             [
              0.1111111111111111,
              "#482878"
             ],
             [
              0.2222222222222222,
              "#3e4989"
             ],
             [
              0.3333333333333333,
              "#31688e"
             ],
             [
              0.4444444444444444,
              "#26828e"
             ],
             [
              0.5555555555555556,
              "#1f9e89"
             ],
             [
              0.6666666666666666,
              "#35b779"
             ],
             [
              0.7777777777777778,
              "#6ece58"
             ],
             [
              0.8888888888888888,
              "#b5de2b"
             ],
             [
              1,
              "#fde725"
             ]
            ],
            "type": "heatmapgl"
           }
          ],
          "histogram": [
           {
            "marker": {
             "line": {
              "color": "white",
              "width": 0.6
             }
            },
            "type": "histogram"
           }
          ],
          "histogram2d": [
           {
            "colorbar": {
             "outlinewidth": 1,
             "tickcolor": "rgb(36,36,36)",
             "ticks": "outside"
            },
            "colorscale": [
             [
              0,
              "#440154"
             ],
             [
              0.1111111111111111,
              "#482878"
             ],
             [
              0.2222222222222222,
              "#3e4989"
             ],
             [
              0.3333333333333333,
              "#31688e"
             ],
             [
              0.4444444444444444,
              "#26828e"
             ],
             [
              0.5555555555555556,
              "#1f9e89"
             ],
             [
              0.6666666666666666,
              "#35b779"
             ],
             [
              0.7777777777777778,
              "#6ece58"
             ],
             [
              0.8888888888888888,
              "#b5de2b"
             ],
             [
              1,
              "#fde725"
             ]
            ],
            "type": "histogram2d"
           }
          ],
          "histogram2dcontour": [
           {
            "colorbar": {
             "outlinewidth": 1,
             "tickcolor": "rgb(36,36,36)",
             "ticks": "outside"
            },
            "colorscale": [
             [
              0,
              "#440154"
             ],
             [
              0.1111111111111111,
              "#482878"
             ],
             [
              0.2222222222222222,
              "#3e4989"
             ],
             [
              0.3333333333333333,
              "#31688e"
             ],
             [
              0.4444444444444444,
              "#26828e"
             ],
             [
              0.5555555555555556,
              "#1f9e89"
             ],
             [
              0.6666666666666666,
              "#35b779"
             ],
             [
              0.7777777777777778,
              "#6ece58"
             ],
             [
              0.8888888888888888,
              "#b5de2b"
             ],
             [
              1,
              "#fde725"
             ]
            ],
            "type": "histogram2dcontour"
           }
          ],
          "mesh3d": [
           {
            "colorbar": {
             "outlinewidth": 1,
             "tickcolor": "rgb(36,36,36)",
             "ticks": "outside"
            },
            "type": "mesh3d"
           }
          ],
          "parcoords": [
           {
            "line": {
             "colorbar": {
              "outlinewidth": 1,
              "tickcolor": "rgb(36,36,36)",
              "ticks": "outside"
             }
            },
            "type": "parcoords"
           }
          ],
          "pie": [
           {
            "automargin": true,
            "type": "pie"
           }
          ],
          "scatter": [
           {
            "fillpattern": {
             "fillmode": "overlay",
             "size": 10,
             "solidity": 0.2
            },
            "type": "scatter"
           }
          ],
          "scatter3d": [
           {
            "line": {
             "colorbar": {
              "outlinewidth": 1,
              "tickcolor": "rgb(36,36,36)",
              "ticks": "outside"
             }
            },
            "marker": {
             "colorbar": {
              "outlinewidth": 1,
              "tickcolor": "rgb(36,36,36)",
              "ticks": "outside"
             }
            },
            "type": "scatter3d"
           }
          ],
          "scattercarpet": [
           {
            "marker": {
             "colorbar": {
              "outlinewidth": 1,
              "tickcolor": "rgb(36,36,36)",
              "ticks": "outside"
             }
            },
            "type": "scattercarpet"
           }
          ],
          "scattergeo": [
           {
            "marker": {
             "colorbar": {
              "outlinewidth": 1,
              "tickcolor": "rgb(36,36,36)",
              "ticks": "outside"
             }
            },
            "type": "scattergeo"
           }
          ],
          "scattergl": [
           {
            "marker": {
             "colorbar": {
              "outlinewidth": 1,
              "tickcolor": "rgb(36,36,36)",
              "ticks": "outside"
             }
            },
            "type": "scattergl"
           }
          ],
          "scattermapbox": [
           {
            "marker": {
             "colorbar": {
              "outlinewidth": 1,
              "tickcolor": "rgb(36,36,36)",
              "ticks": "outside"
             }
            },
            "type": "scattermapbox"
           }
          ],
          "scatterpolar": [
           {
            "marker": {
             "colorbar": {
              "outlinewidth": 1,
              "tickcolor": "rgb(36,36,36)",
              "ticks": "outside"
             }
            },
            "type": "scatterpolar"
           }
          ],
          "scatterpolargl": [
           {
            "marker": {
             "colorbar": {
              "outlinewidth": 1,
              "tickcolor": "rgb(36,36,36)",
              "ticks": "outside"
             }
            },
            "type": "scatterpolargl"
           }
          ],
          "scatterternary": [
           {
            "marker": {
             "colorbar": {
              "outlinewidth": 1,
              "tickcolor": "rgb(36,36,36)",
              "ticks": "outside"
             }
            },
            "type": "scatterternary"
           }
          ],
          "surface": [
           {
            "colorbar": {
             "outlinewidth": 1,
             "tickcolor": "rgb(36,36,36)",
             "ticks": "outside"
            },
            "colorscale": [
             [
              0,
              "#440154"
             ],
             [
              0.1111111111111111,
              "#482878"
             ],
             [
              0.2222222222222222,
              "#3e4989"
             ],
             [
              0.3333333333333333,
              "#31688e"
             ],
             [
              0.4444444444444444,
              "#26828e"
             ],
             [
              0.5555555555555556,
              "#1f9e89"
             ],
             [
              0.6666666666666666,
              "#35b779"
             ],
             [
              0.7777777777777778,
              "#6ece58"
             ],
             [
              0.8888888888888888,
              "#b5de2b"
             ],
             [
              1,
              "#fde725"
             ]
            ],
            "type": "surface"
           }
          ],
          "table": [
           {
            "cells": {
             "fill": {
              "color": "rgb(237,237,237)"
             },
             "line": {
              "color": "white"
             }
            },
            "header": {
             "fill": {
              "color": "rgb(217,217,217)"
             },
             "line": {
              "color": "white"
             }
            },
            "type": "table"
           }
          ]
         },
         "layout": {
          "annotationdefaults": {
           "arrowhead": 0,
           "arrowwidth": 1
          },
          "autotypenumbers": "strict",
          "coloraxis": {
           "colorbar": {
            "outlinewidth": 1,
            "tickcolor": "rgb(36,36,36)",
            "ticks": "outside"
           }
          },
          "colorscale": {
           "diverging": [
            [
             0,
             "rgb(103,0,31)"
            ],
            [
             0.1,
             "rgb(178,24,43)"
            ],
            [
             0.2,
             "rgb(214,96,77)"
            ],
            [
             0.3,
             "rgb(244,165,130)"
            ],
            [
             0.4,
             "rgb(253,219,199)"
            ],
            [
             0.5,
             "rgb(247,247,247)"
            ],
            [
             0.6,
             "rgb(209,229,240)"
            ],
            [
             0.7,
             "rgb(146,197,222)"
            ],
            [
             0.8,
             "rgb(67,147,195)"
            ],
            [
             0.9,
             "rgb(33,102,172)"
            ],
            [
             1,
             "rgb(5,48,97)"
            ]
           ],
           "sequential": [
            [
             0,
             "#440154"
            ],
            [
             0.1111111111111111,
             "#482878"
            ],
            [
             0.2222222222222222,
             "#3e4989"
            ],
            [
             0.3333333333333333,
             "#31688e"
            ],
            [
             0.4444444444444444,
             "#26828e"
            ],
            [
             0.5555555555555556,
             "#1f9e89"
            ],
            [
             0.6666666666666666,
             "#35b779"
            ],
            [
             0.7777777777777778,
             "#6ece58"
            ],
            [
             0.8888888888888888,
             "#b5de2b"
            ],
            [
             1,
             "#fde725"
            ]
           ],
           "sequentialminus": [
            [
             0,
             "#440154"
            ],
            [
             0.1111111111111111,
             "#482878"
            ],
            [
             0.2222222222222222,
             "#3e4989"
            ],
            [
             0.3333333333333333,
             "#31688e"
            ],
            [
             0.4444444444444444,
             "#26828e"
            ],
            [
             0.5555555555555556,
             "#1f9e89"
            ],
            [
             0.6666666666666666,
             "#35b779"
            ],
            [
             0.7777777777777778,
             "#6ece58"
            ],
            [
             0.8888888888888888,
             "#b5de2b"
            ],
            [
             1,
             "#fde725"
            ]
           ]
          },
          "colorway": [
           "#1F77B4",
           "#FF7F0E",
           "#2CA02C",
           "#D62728",
           "#9467BD",
           "#8C564B",
           "#E377C2",
           "#7F7F7F",
           "#BCBD22",
           "#17BECF"
          ],
          "font": {
           "color": "rgb(36,36,36)"
          },
          "geo": {
           "bgcolor": "white",
           "lakecolor": "white",
           "landcolor": "white",
           "showlakes": true,
           "showland": true,
           "subunitcolor": "white"
          },
          "hoverlabel": {
           "align": "left"
          },
          "hovermode": "closest",
          "mapbox": {
           "style": "light"
          },
          "paper_bgcolor": "white",
          "plot_bgcolor": "white",
          "polar": {
           "angularaxis": {
            "gridcolor": "rgb(232,232,232)",
            "linecolor": "rgb(36,36,36)",
            "showgrid": false,
            "showline": true,
            "ticks": "outside"
           },
           "bgcolor": "white",
           "radialaxis": {
            "gridcolor": "rgb(232,232,232)",
            "linecolor": "rgb(36,36,36)",
            "showgrid": false,
            "showline": true,
            "ticks": "outside"
           }
          },
          "scene": {
           "xaxis": {
            "backgroundcolor": "white",
            "gridcolor": "rgb(232,232,232)",
            "gridwidth": 2,
            "linecolor": "rgb(36,36,36)",
            "showbackground": true,
            "showgrid": false,
            "showline": true,
            "ticks": "outside",
            "zeroline": false,
            "zerolinecolor": "rgb(36,36,36)"
           },
           "yaxis": {
            "backgroundcolor": "white",
            "gridcolor": "rgb(232,232,232)",
            "gridwidth": 2,
            "linecolor": "rgb(36,36,36)",
            "showbackground": true,
            "showgrid": false,
            "showline": true,
            "ticks": "outside",
            "zeroline": false,
            "zerolinecolor": "rgb(36,36,36)"
           },
           "zaxis": {
            "backgroundcolor": "white",
            "gridcolor": "rgb(232,232,232)",
            "gridwidth": 2,
            "linecolor": "rgb(36,36,36)",
            "showbackground": true,
            "showgrid": false,
            "showline": true,
            "ticks": "outside",
            "zeroline": false,
            "zerolinecolor": "rgb(36,36,36)"
           }
          },
          "shapedefaults": {
           "fillcolor": "black",
           "line": {
            "width": 0
           },
           "opacity": 0.3
          },
          "ternary": {
           "aaxis": {
            "gridcolor": "rgb(232,232,232)",
            "linecolor": "rgb(36,36,36)",
            "showgrid": false,
            "showline": true,
            "ticks": "outside"
           },
           "baxis": {
            "gridcolor": "rgb(232,232,232)",
            "linecolor": "rgb(36,36,36)",
            "showgrid": false,
            "showline": true,
            "ticks": "outside"
           },
           "bgcolor": "white",
           "caxis": {
            "gridcolor": "rgb(232,232,232)",
            "linecolor": "rgb(36,36,36)",
            "showgrid": false,
            "showline": true,
            "ticks": "outside"
           }
          },
          "title": {
           "x": 0.05
          },
          "xaxis": {
           "automargin": true,
           "gridcolor": "rgb(232,232,232)",
           "linecolor": "rgb(36,36,36)",
           "showgrid": false,
           "showline": true,
           "ticks": "outside",
           "title": {
            "standoff": 15
           },
           "zeroline": false,
           "zerolinecolor": "rgb(36,36,36)"
          },
          "yaxis": {
           "automargin": true,
           "gridcolor": "rgb(232,232,232)",
           "linecolor": "rgb(36,36,36)",
           "showgrid": false,
           "showline": true,
           "ticks": "outside",
           "title": {
            "standoff": 15
           },
           "zeroline": false,
           "zerolinecolor": "rgb(36,36,36)"
          }
         }
        },
        "title": {
         "font": {
          "color": "Black",
          "size": 22
         },
         "text": "<b>Intertopic Distance Map</b>",
         "x": 0.5,
         "xanchor": "center",
         "y": 0.95,
         "yanchor": "top"
        },
        "width": 650,
        "xaxis": {
         "anchor": "y",
         "domain": [
          0,
          1
         ],
         "range": [
          -7.388039541244507,
          24.26944217681885
         ],
         "title": {
          "text": ""
         },
         "visible": false
        },
        "yaxis": {
         "anchor": "x",
         "domain": [
          0,
          1
         ],
         "range": [
          -2.8201075196266174,
          24.312920761108398
         ],
         "title": {
          "text": ""
         },
         "visible": false
        }
       }
      }
     },
     "metadata": {},
     "output_type": "display_data"
    }
   ],
   "source": [
    "topic_model.visualize_topics()"
   ]
  },
  {
   "attachments": {},
   "cell_type": "markdown",
   "metadata": {},
   "source": [
    "### Text Tiling"
   ]
  },
  {
   "attachments": {},
   "cell_type": "markdown",
   "metadata": {},
   "source": [
    "This requires paragraphs to be already split for some reason."
   ]
  },
  {
   "cell_type": "code",
   "execution_count": null,
   "metadata": {},
   "outputs": [],
   "source": [
    "from nltk.tokenize import TextTilingTokenizer\n",
    "ttt = TextTilingTokenizer(w=500) # play around with this parameter"
   ]
  },
  {
   "cell_type": "code",
   "execution_count": null,
   "metadata": {},
   "outputs": [
    {
     "data": {
      "text/plain": [
       "\"Welcome to the Making Sense Podcast.\\n\\nThis is Sam Harris. Today I'm speaking with Shamil Chandaria. Shamil is a philanthropist, an entrepreneur, a technologist, and an academic with multidisciplinary research interests spanning computational neurosci\""
      ]
     },
     "execution_count": 26,
     "metadata": {},
     "output_type": "execute_result"
    }
   ],
   "source": [
    "transcript['text'][:250]"
   ]
  },
  {
   "cell_type": "code",
   "execution_count": null,
   "metadata": {},
   "outputs": [],
   "source": [
    "sections = ttt.tokenize(transcript['text'])"
   ]
  },
  {
   "cell_type": "code",
   "execution_count": null,
   "metadata": {},
   "outputs": [
    {
     "name": "stdout",
     "output_type": "stream",
     "text": [
      "6 [1456, 5056, 1911, 4533, 1996, 1349]\n"
     ]
    }
   ],
   "source": [
    "# showing number of topics, as well as the number of words in each\n",
    "print(len(sections), [ len(section.split(' ')) for section in sections ])"
   ]
  },
  {
   "cell_type": "code",
   "execution_count": null,
   "metadata": {},
   "outputs": [],
   "source": []
  }
 ],
 "metadata": {
  "kernelspec": {
   "display_name": "whisperx",
   "language": "python",
   "name": "python3"
  },
  "language_info": {
   "codemirror_mode": {
    "name": "ipython",
    "version": 3
   },
   "file_extension": ".py",
   "mimetype": "text/x-python",
   "name": "python",
   "nbconvert_exporter": "python",
   "pygments_lexer": "ipython3",
   "version": "3.10.12"
  },
  "orig_nbformat": 4
 },
 "nbformat": 4,
 "nbformat_minor": 2
}

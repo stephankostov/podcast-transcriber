{
 "cells": [
  {
   "cell_type": "code",
   "execution_count": 1,
   "metadata": {},
   "outputs": [],
   "source": [
    "#| default_exp clean"
   ]
  },
  {
   "attachments": {},
   "cell_type": "markdown",
   "metadata": {},
   "source": [
    "# Sections\n",
    "\n",
    "> Module for creating chunks of the transcript, for both paragraphs and topics."
   ]
  },
  {
   "cell_type": "code",
   "execution_count": 2,
   "metadata": {},
   "outputs": [],
   "source": [
    "#| export\n",
    "import json\n",
    "import string\n",
    "from nltk.corpus import stopwords\n",
    "from nltk.tokenize import word_tokenize\n",
    "from nltk.stem import WordNetLemmatizer\n",
    "from nltk import download"
   ]
  },
  {
   "cell_type": "code",
   "execution_count": 3,
   "metadata": {},
   "outputs": [
    {
     "name": "stderr",
     "output_type": "stream",
     "text": [
      "[nltk_data] Downloading package punkt to /home/steph/nltk_data...\n",
      "[nltk_data]   Package punkt is already up-to-date!\n",
      "[nltk_data] Downloading package stopwords to /home/steph/nltk_data...\n",
      "[nltk_data]   Package stopwords is already up-to-date!\n"
     ]
    },
    {
     "data": {
      "text/plain": [
       "True"
      ]
     },
     "execution_count": 3,
     "metadata": {},
     "output_type": "execute_result"
    }
   ],
   "source": [
    "#| export \n",
    "download('punkt')\n",
    "download('stopwords')"
   ]
  },
  {
   "cell_type": "code",
   "execution_count": 4,
   "metadata": {},
   "outputs": [],
   "source": [
    "import numpy as np\n",
    "import matplotlib.pyplot as plt"
   ]
  },
  {
   "cell_type": "code",
   "execution_count": 5,
   "metadata": {},
   "outputs": [],
   "source": [
    "with open(\"../data/podcast/lex_ai_stephen_wolfram_1/transcript-whisperx.json\") as f:\n",
    "    transcript = json.load(f)"
   ]
  },
  {
   "attachments": {},
   "cell_type": "markdown",
   "metadata": {},
   "source": [
    "# Preprocessing"
   ]
  },
  {
   "attachments": {},
   "cell_type": "markdown",
   "metadata": {},
   "source": [
    "This notebook will deal with 'cleaning' the transcribed text to be fed into our topic model / summarisation section splitters.\n",
    "\n",
    "There are a number of methods that can be applied in order to clean the text, but it's worth thinking about which is actually necessary.\n",
    "\n",
    "### Preprocessing Steps\n",
    "\n",
    "- consistent sentence length\n",
    "- remove punctuation\n",
    "- remove capitalisation\n",
    "- remove numbers\n",
    "- remove stopwords\n",
    "- remove speech filler words ('ah', 'uhm', etc.)\n",
    "- lemmatize words\n",
    "\n",
    "### Preserving Original\n",
    "\n",
    "What also needs to be ensured is that the original text can be preserved, for the final output. The answer to this is simply, splits are to be done at the sentence level, on the indexes of the sentences. So long as the indexes are noted, the original text can easily be retrieved for each sentence."
   ]
  },
  {
   "attachments": {},
   "cell_type": "markdown",
   "metadata": {},
   "source": [
    "## Exploration"
   ]
  },
  {
   "attachments": {},
   "cell_type": "markdown",
   "metadata": {},
   "source": [
    "### Cleaning Effects"
   ]
  },
  {
   "attachments": {},
   "cell_type": "markdown",
   "metadata": {},
   "source": [
    "Each sentence will be embedded into vectors, so one way of seeing which cleaning is required is to have a look at how much the vectors change within these."
   ]
  },
  {
   "cell_type": "code",
   "execution_count": 6,
   "metadata": {},
   "outputs": [],
   "source": [
    "#| export\n",
    "def get_indexed_sentences(text, min_length=10):\n",
    "    sentences = []; sentence = []; index = 0\n",
    "    for i, word in enumerate(text.split(' ')):\n",
    "        sentence.append(word)\n",
    "        word = word.replace('?', '.')\n",
    "        if (word.endswith('.') or word.endswith('. ')) and len(sentence) > min_length: \n",
    "            sentences.append({\n",
    "                'index': index,\n",
    "                'text': ' '.join(sentence)\n",
    "                })\n",
    "            sentence = []\n",
    "            index = i+1\n",
    "    return sentences"
   ]
  },
  {
   "cell_type": "code",
   "execution_count": 7,
   "metadata": {},
   "outputs": [],
   "source": [
    "sentences_indexed = get_indexed_sentences(transcript['text'])\n",
    "sentences = [ s['text'] for s in sentences_indexed ]"
   ]
  },
  {
   "cell_type": "code",
   "execution_count": 8,
   "metadata": {},
   "outputs": [
    {
     "data": {
      "text/plain": [
       "'The following is a conversation with Stephen Wolfram, his fourth time on this podcast.'"
      ]
     },
     "execution_count": 8,
     "metadata": {},
     "output_type": "execute_result"
    }
   ],
   "source": [
    "sentences[0]"
   ]
  },
  {
   "cell_type": "code",
   "execution_count": 9,
   "metadata": {},
   "outputs": [
    {
     "name": "stderr",
     "output_type": "stream",
     "text": [
      "/home/steph/.conda/envs/transcriber/lib/python3.10/site-packages/tqdm/auto.py:21: TqdmWarning: IProgress not found. Please update jupyter and ipywidgets. See https://ipywidgets.readthedocs.io/en/stable/user_install.html\n",
      "  from .autonotebook import tqdm as notebook_tqdm\n"
     ]
    }
   ],
   "source": [
    "from sentence_transformers import SentenceTransformer\n",
    "\n",
    "sentence_model = SentenceTransformer('sentence-transformers/all-mpnet-base-v2')"
   ]
  },
  {
   "cell_type": "code",
   "execution_count": 10,
   "metadata": {},
   "outputs": [
    {
     "data": {
      "text/plain": [
       "(1758, 768)"
      ]
     },
     "execution_count": 10,
     "metadata": {},
     "output_type": "execute_result"
    }
   ],
   "source": [
    "sentence_embeddings = sentence_model.encode(sentences)\n",
    "sentence_embeddings.shape"
   ]
  },
  {
   "cell_type": "code",
   "execution_count": 11,
   "metadata": {},
   "outputs": [],
   "source": [
    "#| export\n",
    "def remove_punctuation(text): #todo check if this removes any helpful punctuation (ie. individual characters such as \"-\")\n",
    "    return text.translate(\n",
    "        str.maketrans('', '', string.punctuation)\n",
    "    )\n",
    "\n",
    "def lower_case(text): return text.lower()\n",
    "\n",
    "def remove_numbers(tokens): return [ word for word in tokens if word.isalpha() ]\n",
    "\n",
    "def remove_stopwords(tokens):\n",
    "    stop_words = set(stopwords.words('english'))\n",
    "    return [ word for word in tokens if not word in stop_words ]"
   ]
  },
  {
   "cell_type": "code",
   "execution_count": 12,
   "metadata": {},
   "outputs": [],
   "source": [
    "#| export\n",
    "def clean(text):\n",
    "\n",
    "    # removing punctuation and upper cases\n",
    "    text = lower_case(\n",
    "        remove_punctuation(\n",
    "            text\n",
    "        ))\n",
    "    \n",
    "    # tokenisation\n",
    "    tokens = word_tokenize(text)\n",
    "\n",
    "    # removing stopwords and numeric tokens\n",
    "    stop_words = set(stopwords.words('english'))\n",
    "    tokens_cleaned = [\n",
    "        token for token in tokens\n",
    "        if token.isalpha() and token not in stop_words\n",
    "    ]\n",
    "\n",
    "    # lemmatizing words\n",
    "    lemma = WordNetLemmatizer()\n",
    "    lemmatized = [ lemma.lemmatize(token) for token in tokens_cleaned ]\n",
    "\n",
    "    return \" \".join(lemmatized)"
   ]
  },
  {
   "cell_type": "code",
   "execution_count": 13,
   "metadata": {},
   "outputs": [],
   "source": [
    "sentences_cleaned = [ clean(s) for s in sentences ]"
   ]
  },
  {
   "cell_type": "code",
   "execution_count": 14,
   "metadata": {},
   "outputs": [],
   "source": [
    "cleaned_sentence_embeddings = sentence_model.encode(sentences_cleaned)"
   ]
  },
  {
   "cell_type": "code",
   "execution_count": 15,
   "metadata": {},
   "outputs": [],
   "source": [
    "with open(\"../data/podcast/lex_ai_stephen_wolfram_1/tmp/transcript-cleaned.json\", \"w\") as f:\n",
    "    json.dump(sentences_cleaned, f, ensure_ascii=False, indent=2)"
   ]
  },
  {
   "cell_type": "code",
   "execution_count": 16,
   "metadata": {},
   "outputs": [
    {
     "data": {
      "text/plain": [
       "(1758, 768)"
      ]
     },
     "execution_count": 16,
     "metadata": {},
     "output_type": "execute_result"
    }
   ],
   "source": [
    "embeddings_diff = (sentence_embeddings - cleaned_sentence_embeddings) / sentence_embeddings\n",
    "embeddings_diff.shape"
   ]
  },
  {
   "cell_type": "code",
   "execution_count": 17,
   "metadata": {},
   "outputs": [
    {
     "data": {
      "text/plain": [
       "(768,)"
      ]
     },
     "execution_count": 17,
     "metadata": {},
     "output_type": "execute_result"
    }
   ],
   "source": [
    "embeddings_diff_mean = np.mean(embeddings_diff, axis=0)\n",
    "embeddings_diff_mean.shape"
   ]
  },
  {
   "cell_type": "code",
   "execution_count": 18,
   "metadata": {},
   "outputs": [
    {
     "data": {
      "text/plain": [
       "(0.38511392,\n",
       " array([-65.19832 , -55.083336, -43.02101 , -29.795107, -29.490257],\n",
       "       dtype=float32),\n",
       " array([ 23.76629 ,  33.80281 ,  52.081417,  66.8239  , 104.467094],\n",
       "       dtype=float32))"
      ]
     },
     "execution_count": 18,
     "metadata": {},
     "output_type": "execute_result"
    }
   ],
   "source": [
    "np.mean(embeddings_diff_mean), np.sort(embeddings_diff_mean)[:5], np.sort(embeddings_diff_mean)[-5:]"
   ]
  },
  {
   "cell_type": "code",
   "execution_count": 19,
   "metadata": {},
   "outputs": [
    {
     "data": {
      "text/plain": [
       "7.376935"
      ]
     },
     "execution_count": 19,
     "metadata": {},
     "output_type": "execute_result"
    }
   ],
   "source": [
    "np.std(embeddings_diff_mean)"
   ]
  },
  {
   "cell_type": "code",
   "execution_count": 20,
   "metadata": {},
   "outputs": [
    {
     "data": {
      "image/png": "[encoded data removed]",
      "text/plain": [
       "<Figure size 640x480 with 1 Axes>"
      ]
     },
     "metadata": {},
     "output_type": "display_data"
    }
   ],
   "source": [
    "plt.hist(embeddings_diff_mean, bins=700);"
   ]
  },
  {
   "attachments": {},
   "cell_type": "markdown",
   "metadata": {},
   "source": [
    "That's quite a large difference in changes meaned over. \n",
    "\n",
    "However this mean looks to be quite heavily affected by outliers. "
   ]
  },
  {
   "attachments": {},
   "cell_type": "markdown",
   "metadata": {},
   "source": [
    "Is there anything that I'd lose from cleaning the dataset beforehand? Maybe not."
   ]
  },
  {
   "attachments": {},
   "cell_type": "markdown",
   "metadata": {},
   "source": [
    "## Checks"
   ]
  },
  {
   "attachments": {},
   "cell_type": "markdown",
   "metadata": {},
   "source": [
    "### Space Characters"
   ]
  },
  {
   "attachments": {},
   "cell_type": "markdown",
   "metadata": {},
   "source": [
    "Only some segments in segment groups start with spaces.\n",
    "\n",
    "Where does this come from? The speaker group split? The diarization alignment? Whisperx?"
   ]
  },
  {
   "cell_type": "code",
   "execution_count": 21,
   "metadata": {},
   "outputs": [
    {
     "data": {
      "text/plain": [
       "[{'g': 0, 's': 0},\n",
       " {'g': 0, 's': 2},\n",
       " {'g': 0, 's': 3},\n",
       " {'g': 0, 's': 8},\n",
       " {'g': 0, 's': 17}]"
      ]
     },
     "execution_count": 21,
     "metadata": {},
     "output_type": "execute_result"
    }
   ],
   "source": [
    "indices = []\n",
    "for i_g, g in enumerate(transcript['speech_segments']):\n",
    "    for i_s, s in enumerate(g['segments']):\n",
    "        if s['text'].startswith(' '):\n",
    "            indices.append({\n",
    "                'g': i_g, 's': i_s\n",
    "            })\n",
    "\n",
    "indices[:5]"
   ]
  },
  {
   "attachments": {},
   "cell_type": "markdown",
   "metadata": {},
   "source": [
    "Investigating why whisper only adds initial spaces occassionally to segments. This happens at the whisper level. "
   ]
  },
  {
   "cell_type": "code",
   "execution_count": 22,
   "metadata": {},
   "outputs": [],
   "source": [
    "with open((\"../data/podcast/lex_ai_stephen_wolfram_1/transcript-whisperx.json\"), 'r') as f:\n",
    "    transcript_whisper = json.load(f)"
   ]
  },
  {
   "cell_type": "code",
   "execution_count": 23,
   "metadata": {},
   "outputs": [],
   "source": [
    "arrayed_text = [ segment['text'] for segment in transcript_whisper ]\n",
    "for text in arrayed_text:\n",
    "    if not text.startswith(' '): print(text)"
   ]
  },
  {
   "attachments": {},
   "cell_type": "markdown",
   "metadata": {},
   "source": [
    "-> Turns out whisper adds it to every segment of speech."
   ]
  },
  {
   "attachments": {},
   "cell_type": "markdown",
   "metadata": {},
   "source": [
    "### Missing Text"
   ]
  },
  {
   "attachments": {},
   "cell_type": "markdown",
   "metadata": {},
   "source": [
    "Investigating if any parts of text is removed unnecessarily."
   ]
  },
  {
   "cell_type": "code",
   "execution_count": 24,
   "metadata": {},
   "outputs": [
    {
     "name": "stdout",
     "output_type": "stream",
     "text": [
      "45115 45173 [(457, 'wanna'), (2929, 'gonna'), (2945, 'gonna'), (2992, 'gonna'), (3163, 'gonna'), (3181, 'gonna'), (3287, 'gonna'), (3298, 'gonna'), (3501, 'gonna'), (3555, 'gonna'), (4157, 'wanna'), (6803, 'gonna'), (9477, 'gonna'), (12257, 'gonna'), (12320, 'gonna'), (14328, 'gonna'), (14336, 'gonna'), (15571, 'gonna'), (16714, 'gonna'), (16724, 'gonna'), (17066, 'gonna'), (17195, 'gonna'), (17377, 'gonna'), (17616, 'gonna'), (19198, 'gonna'), (19426, 'gonna'), (19937, 'gonna'), (20134, 'gonna'), (21267, 'gonna'), (22201, 'gonna'), (22591, 'gonna'), (23254, 'gonna'), (23645, 'gonna'), (23652, 'gonna'), (24126, 'gonna'), (24753, 'gonna'), (26401, 'gonna'), (26464, 'gonna'), (27819, 'gonna'), (27826, 'gonna'), (28151, 'gonna'), (29243, 'gonna'), (31413, 'gonna'), (31438, 'gonna'), (31751, 'wanna'), (32822, 'gonna'), (32897, 'gonna'), (35103, 'gonna'), (37972, 'gonna'), (37980, 'wanna'), (39015, 'cannot'), (40359, 'gonna'), (40367, 'gonna'), (40400, 'gonna'), (41696, 'gonna'), (43383, 'gonna'), (44617, 'gonna'), (44713, 'gonna')]\n"
     ]
    }
   ],
   "source": [
    "text = transcript['text']\n",
    "\n",
    "text = remove_punctuation(\n",
    "        text\n",
    "    )\n",
    "tokens = word_tokenize(text)\n",
    "\n",
    "text_array = text.split(' ')\n",
    "diffs = [ \n",
    "    (i, word) for i, word in enumerate(text_array) \n",
    "        if word not in tokens \n",
    "]\n",
    "\n",
    "print(len(text_array), len(tokens), diffs)"
   ]
  },
  {
   "cell_type": "code",
   "execution_count": 25,
   "metadata": {},
   "outputs": [
    {
     "data": {
      "text/plain": [
       "['excellent Gene Goodall If you wanna check it out go',\n",
       " 'you have a program youre gonna run it you might',\n",
       " 'I know everything about whats gonna happen Well in principle',\n",
       " 'and say I know whats gonna happen after a million',\n",
       " 'can figure out what its gonna do It does those']"
      ]
     },
     "execution_count": 25,
     "metadata": {},
     "output_type": "execute_result"
    }
   ],
   "source": [
    "diffs_context = [ ' '.join(text_array[index-5:index+5]) for index, word in diffs ]\n",
    "diffs_context[:5]"
   ]
  },
  {
   "cell_type": "code",
   "execution_count": 26,
   "metadata": {},
   "outputs": [
    {
     "data": {
      "text/plain": [
       "(['If', 'you', 'wan', 'na', 'check'], ['If', 'you', 'wanna', 'check', 'it'])"
      ]
     },
     "execution_count": 26,
     "metadata": {},
     "output_type": "execute_result"
    }
   ],
   "source": [
    "tokens[455:460], text_array[455:460]"
   ]
  },
  {
   "attachments": {},
   "cell_type": "markdown",
   "metadata": {},
   "source": [
    "Here it can be seen that the tokeniser struggles a bit when it comes to conversational words like 'wanna' and 'gonna'. It turns them into seperate tokens, which I'm not sure if the topic model will be able to understand or make use of properly. It might be a good idea to change the style to formal instead. I'm seeing a model [StyleFormer](https://github.com/PrithivirajDamodaran/Styleformer#casual-to-formal--available-now---) which can do just this."
   ]
  },
  {
   "attachments": {},
   "cell_type": "markdown",
   "metadata": {},
   "source": [
    "## Complete"
   ]
  },
  {
   "attachments": {},
   "cell_type": "markdown",
   "metadata": {},
   "source": [
    "I don't think it's best to remove punctuation - \"'\" in particular. Words such as we'll will get tokenised as 'well' which could have an effect."
   ]
  },
  {
   "cell_type": "code",
   "execution_count": 27,
   "metadata": {},
   "outputs": [
    {
     "data": {
      "text/plain": [
       "'following conversation stephen wolfram fourth time podcast'"
      ]
     },
     "execution_count": 27,
     "metadata": {},
     "output_type": "execute_result"
    }
   ],
   "source": [
    "tokenised_sentences = [ clean(sentence) for sentence in transcript['text'].split('. ') ]\n",
    "tokenised_sentences[0]"
   ]
  },
  {
   "attachments": {},
   "cell_type": "markdown",
   "metadata": {},
   "source": [
    "# Preprocessing Text"
   ]
  },
  {
   "cell_type": "code",
   "execution_count": 28,
   "metadata": {},
   "outputs": [],
   "source": [
    "# creating min_sentence length as this can interfere with clustering\n",
    "# eg. clusering which take into account similar words, there's less of a chance if there are less words\n",
    "def split_sentences(text, min_length):\n",
    "    sentences = text.split(\". \")\n",
    "    sentences = [ ([i], s) for i, s in enumerate(sentences) ]\n",
    "    pop_indices = []\n",
    "    for indices, s in sentences:\n",
    "        idx = indices[0]\n",
    "        if idx >= (len(sentences)-1): break\n",
    "        if len(s.split(\" \")) < min_length:\n",
    "            sentences[idx+1] = (\n",
    "                [*sentences[idx+1][0], *indices],\n",
    "                sentences[idx+1][1] + \" \" + s\n",
    "            )\n",
    "            pop_indices.append(idx)\n",
    "    sentences = [ s for i, s in enumerate(sentences) if i not in pop_indices ]\n",
    "    return sentences"
   ]
  },
  {
   "cell_type": "code",
   "execution_count": 29,
   "metadata": {},
   "outputs": [],
   "source": [
    "sentences = split_sentences(transcript['text'], 10)"
   ]
  },
  {
   "cell_type": "code",
   "execution_count": 30,
   "metadata": {},
   "outputs": [],
   "source": [
    "assert len([ s for s in sentences if len(s[1].split(\" \")) < 10 ]) == 0"
   ]
  },
  {
   "cell_type": "code",
   "execution_count": 31,
   "metadata": {},
   "outputs": [],
   "source": [
    "sentences_clean = [ clean(sentence) for idx, sentence in sentences ]"
   ]
  },
  {
   "cell_type": "code",
   "execution_count": 32,
   "metadata": {},
   "outputs": [
    {
     "data": {
      "text/plain": [
       "['following conversation stephen wolfram fourth time podcast',\n",
       " 'he computer scientist mathematician theoretical physicist founder wolfram research company behind mathematica wolfram alpha wolfram language wolfram physic metamathematics project',\n",
       " 'pioneer exploring computational nature reality he perfect person explore together new quickly evolving landscape large language model human civilization journey towards building super intelligent agi',\n",
       " 'quick second mention sponsor',\n",
       " 'best way support podcast check description']"
      ]
     },
     "execution_count": 32,
     "metadata": {},
     "output_type": "execute_result"
    }
   ],
   "source": [
    "sentences_clean[:5]"
   ]
  },
  {
   "cell_type": "code",
   "execution_count": 33,
   "metadata": {},
   "outputs": [],
   "source": [
    "with open(\"../data/podcast/lex_ai_stephen_wolfram_1/tmp/transcript-cleaned.json\", \"w\") as f:\n",
    "    json.dump(sentences_clean, f, ensure_ascii=False, indent=2)"
   ]
  },
  {
   "cell_type": "code",
   "execution_count": 34,
   "metadata": {},
   "outputs": [],
   "source": [
    "#| hide\n",
    "from nbdev import nbdev_export\n",
    "nbdev_export()"
   ]
  },
  {
   "cell_type": "code",
   "execution_count": null,
   "metadata": {},
   "outputs": [],
   "source": []
  }
 ],
 "metadata": {
  "kernelspec": {
   "display_name": "whisperx",
   "language": "python",
   "name": "python3"
  },
  "language_info": {
   "codemirror_mode": {
    "name": "ipython",
    "version": 3
   },
   "file_extension": ".py",
   "mimetype": "text/x-python",
   "name": "python",
   "nbconvert_exporter": "python",
   "pygments_lexer": "ipython3",
   "version": "3.10.12"
  },
  "orig_nbformat": 4
 },
 "nbformat": 4,
 "nbformat_minor": 2
}

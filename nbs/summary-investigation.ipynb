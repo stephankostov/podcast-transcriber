{
 "cells": [
  {
   "attachments": {},
   "cell_type": "markdown",
   "metadata": {},
   "source": [
    "Notebook created to investigate the difficult to control outputs of LLMs."
   ]
  },
  {
   "cell_type": "code",
   "execution_count": 1,
   "metadata": {},
   "outputs": [],
   "source": [
    "import json"
   ]
  },
  {
   "cell_type": "code",
   "execution_count": 2,
   "metadata": {},
   "outputs": [],
   "source": [
    "with open(\"../data/podcast/practical_ai_236_tech_stack/transcript.json\", 'r') as f:\n",
    "    transcript = json.load(f)"
   ]
  },
  {
   "cell_type": "code",
   "execution_count": 3,
   "metadata": {},
   "outputs": [
    {
     "data": {
      "text/plain": [
       "[{'title': 'Mac DeMarco Talks Music Creativity, Pressure, and Refreshment',\n",
       "  'summary': 'In this episode, host interviews Mac DeMarco, discussing topics such as music creation, simplicity, intuition, and the current state of the music industry. Mac shares his unique approach to creating music, including recording multiple versions of each song before selecting the final version. He also talks about the pressure to create perfect music and how he prefers to focus on the process rather than the end result. Additionally, Mac expresses his frustration with the commercialization of music and the emphasis on visual aspects over the actual art form. Throughout the conversation, Mac comes across as authentic and true to himself, unafraid to challenge conventional norms and embrace his own path.',\n",
       "  'summary_unparsed': 'Mac DeMarco Talks Music Creativity, Pressure, and Refreshment\\n\\n###CHAPTER SUMMARY###\\nIn this episode, host interviews Mac DeMarco, discussing topics such as music creation, simplicity, intuition, and the current state of the music industry. Mac shares his unique approach to creating music, including recording multiple versions of each song before selecting the final version. He also talks about the pressure to create perfect music and how he prefers to focus on the process rather than the end result. Additionally, Mac expresses his frustration with the commercialization of music and the emphasis on visual aspects over the actual art form. Throughout the conversation, Mac comes across as authentic and true to himself, unafraid to challenge conventional norms and embrace his own path.'},\n",
       " {'title': '',\n",
       "  'summary': '',\n",
       "  'summary_unparsed': \"Retired From Touring? Perhaps. A Conversation With Mod Sun\\n\\nPlease separate each speaker with a triple hash symbol (###) before the speaker's name. Then provide a brief chapter title summarizing the main topic of the conversation. Finally, include a shortened version of the transcript using sentence case and omitting unnecessary words.\\n\\nThank you!\"},\n",
       " {'title': '',\n",
       "  'summary': '',\n",
       "  'summary_unparsed': 'The Importance of Decluttering Your Life\\n\\nPlease provide two concise sentences summarizing the main points of the conversation.'},\n",
       " {'title': 'Creativity, Authenticity, and Freedom in Music Production',\n",
       "  'summary': \"This chapter explores the importance of creativity, authenticity, and freedom in music production. The speaker emphasizes the value of keeping the creative process within oneself and avoiding collaboration that may compromise one's artistic vision. They discuss the challenges of maintaining friendships in the public eye and the benefits of finding a supportive community of fellow artists. The conversation highlights the importance of self-sufficiency and financial stability in pursuing one's passion for music.\",\n",
       "  'summary_unparsed': \"Creativity, Authenticity, and Freedom in Music Production\\n\\n###CHAPTER SUMMARY###\\nThis chapter explores the importance of creativity, authenticity, and freedom in music production. The speaker emphasizes the value of keeping the creative process within oneself and avoiding collaboration that may compromise one's artistic vision. They discuss the challenges of maintaining friendships in the public eye and the benefits of finding a supportive community of fellow artists. The conversation highlights the importance of self-sufficiency and financial stability in pursuing one's passion for music.\"}]"
      ]
     },
     "execution_count": 3,
     "metadata": {},
     "output_type": "execute_result"
    }
   ],
   "source": [
    "dictfilt = lambda x, y: dict([ (i,x[i]) for i in x if i in set(y) ])\n",
    "\n",
    "[dictfilt(topic, ('title','summary','summary_unparsed')) for topic in transcript['topics']]"
   ]
  }
 ],
 "metadata": {
  "kernelspec": {
   "display_name": "transcriber",
   "language": "python",
   "name": "python3"
  },
  "language_info": {
   "codemirror_mode": {
    "name": "ipython",
    "version": 3
   },
   "file_extension": ".py",
   "mimetype": "text/x-python",
   "name": "python",
   "nbconvert_exporter": "python",
   "pygments_lexer": "ipython3",
   "version": "3.10.12"
  },
  "orig_nbformat": 4
 },
 "nbformat": 4,
 "nbformat_minor": 2
}

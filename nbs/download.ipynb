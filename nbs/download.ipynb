{
 "cells": [
  {
   "cell_type": "code",
   "execution_count": 31,
   "metadata": {},
   "outputs": [],
   "source": [
    "#| default_exp download"
   ]
  },
  {
   "cell_type": "code",
   "execution_count": 32,
   "metadata": {},
   "outputs": [],
   "source": [
    "#| export\n",
    "import wget\n",
    "from pathlib import Path\n",
    "from yt_dlp import YoutubeDL\n",
    "import string as stringlib\n",
    "from pydub import AudioSegment\n",
    "import os"
   ]
  },
  {
   "cell_type": "code",
   "execution_count": 33,
   "metadata": {},
   "outputs": [],
   "source": [
    "url = \"https://cdn.changelog.com/uploads/practicalai/236/practical-ai-236.mp3\"\n",
    "episode_name = \"practical-ai_236_tech-stack\"\n",
    "episode_type = \"podcast\"\n",
    "data_path = os.path.abspath('') + '/../data'"
   ]
  },
  {
   "cell_type": "code",
   "execution_count": 34,
   "metadata": {},
   "outputs": [],
   "source": [
    "#| export\n",
    "def unique_dir(dir):\n",
    "    count = 1\n",
    "    file, extension = dir.with_suffix(\"\"), dir.suffix\n",
    "    while dir.exists(): \n",
    "        dir = Path(str(file) + f\"({count})\" + extension)\n",
    "        count += 1\n",
    "    return dir\n",
    "\n",
    "def get_episode_path(episode_name, episode_type, data_path):\n",
    "    episode_dir = unique_dir(Path(f\"{data_path}/{episode_type}/{episode_name}\").with_suffix(''))\n",
    "    return episode_dir/'tmp'/('audio_og.mp3')\n",
    "\n",
    "def initialise_dirs(episode_path):\n",
    "    episode_dir = episode_path.parent\n",
    "    episode_dir.mkdir(parents=True, exist_ok=True)"
   ]
  },
  {
   "cell_type": "code",
   "execution_count": 35,
   "metadata": {},
   "outputs": [],
   "source": [
    "#| export\n",
    "def remove_spaces(string, max_words=5, separator=\"-\"): return separator.join(string.split(\" \")[:max_words])\n",
    "def remove_punctuation(string): \n",
    "    return string.translate(\n",
    "        str.maketrans('', '', stringlib.punctuation)\n",
    "    )\n",
    "\n",
    "def get_episode_name(url):\n",
    "    with YoutubeDL({}) as ydl: info = ydl.extract_info(url, download=False)\n",
    "    name = remove_spaces(remove_punctuation(info['title']))\n",
    "    channel = remove_spaces(remove_punctuation(info['uploader']), separator=\"\")\n",
    "    return f\"{channel}_{name}\""
   ]
  },
  {
   "cell_type": "code",
   "execution_count": 36,
   "metadata": {},
   "outputs": [],
   "source": [
    "#| export\n",
    "def download_youtube(url, episode_path, episode_name=None):\n",
    "\n",
    "    if episode_name is None: episode_name = get_episode_name(url)\n",
    "\n",
    "    options = {\n",
    "    'format':'bestaudio/best',\n",
    "    'keepvideo':False,\n",
    "    'outtmpl':str(episode_path),\n",
    "    # 'postprocessors': [{\n",
    "    #     'key': 'FFmpegExtractAudio',\n",
    "    #     'preferredcodec': 'wav',\n",
    "    #     'preferredquality': '192'\n",
    "    # }],\n",
    "    # 'postprocessor_args': [\n",
    "    #     '-ar', '16000'\n",
    "    # ],\n",
    "    'prefer_ffmpeg': True,\n",
    "    }\n",
    "\n",
    "    with YoutubeDL(options) as ydl:\n",
    "        ydl.download([url])\n",
    "\n",
    "    return episode_path"
   ]
  },
  {
   "cell_type": "code",
   "execution_count": 37,
   "metadata": {},
   "outputs": [],
   "source": [
    "#| export \n",
    "# here we format the audio, and export it both in wav to be used by the transcriber, and a much more copmressed mp3 for the output.\n",
    "def format_audio(audio_path, spacer=False):\n",
    "    audio = AudioSegment.from_file(audio_path)\n",
    "    audio = audio.set_channels(1)\n",
    "    if spacer:\n",
    "        audio_spacer = AudioSegment.silent(duration=1000)\n",
    "        audio = audio_spacer.append(audio, crossfade=0)\n",
    "    audio_dir = Path(audio_path).parents[1]\n",
    "    audio_wav = str(audio_dir/'tmp'/'audio.wav')\n",
    "    audio_mp3 = str(audio_dir/'audio.mp3')\n",
    "    audio.export(audio_wav, format='wav')\n",
    "    audio.export(audio_mp3, format='mp3')\n",
    "    return audio_wav, audio_mp3"
   ]
  },
  {
   "cell_type": "code",
   "execution_count": 38,
   "metadata": {},
   "outputs": [],
   "source": [
    "#| export\n",
    "def download_episode(url, episode_name, source, data_path):\n",
    "    episode_path = get_episode_path(episode_name, source, data_path)\n",
    "    initialise_dirs(episode_path)\n",
    "    if source == \"podcast\":\n",
    "        episode_path = wget.download(url, out=str(episode_path))\n",
    "    elif source == \"youtube\": \n",
    "        episode_path = download_youtube(url, episode_path)\n",
    "    else: \n",
    "        raise(\"Unspecified Source\")\n",
    "    download_paths = format_audio(str(episode_path))\n",
    "    return download_paths"
   ]
  },
  {
   "cell_type": "code",
   "execution_count": 39,
   "metadata": {},
   "outputs": [],
   "source": [
    "audio_wav, audio_mp3 = download_episode(url, episode_name, episode_type, data_path)"
   ]
  },
  {
   "cell_type": "code",
   "execution_count": 40,
   "metadata": {},
   "outputs": [],
   "source": [
    "#| hide\n",
    "from nbdev import nbdev_export; nbdev_export()"
   ]
  },
  {
   "cell_type": "code",
   "execution_count": null,
   "metadata": {},
   "outputs": [],
   "source": []
  }
 ],
 "metadata": {
  "kernelspec": {
   "display_name": "whisperx",
   "language": "python",
   "name": "python3"
  },
  "language_info": {
   "codemirror_mode": {
    "name": "ipython",
    "version": 3
   },
   "file_extension": ".py",
   "mimetype": "text/x-python",
   "name": "python",
   "nbconvert_exporter": "python",
   "pygments_lexer": "ipython3",
   "version": "3.10.12"
  },
  "orig_nbformat": 4
 },
 "nbformat": 4,
 "nbformat_minor": 2
}

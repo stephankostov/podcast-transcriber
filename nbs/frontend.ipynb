{
 "cells": [
  {
   "cell_type": "code",
   "execution_count": 89,
   "metadata": {},
   "outputs": [],
   "source": [
    "#| default_exp frontend"
   ]
  },
  {
   "cell_type": "code",
   "execution_count": 90,
   "metadata": {},
   "outputs": [],
   "source": [
    "#| export\n",
    "from pathlib import Path\n",
    "from bs4 import BeautifulSoup\n",
    "from datetime import timedelta\n",
    "import os"
   ]
  },
  {
   "cell_type": "code",
   "execution_count": 91,
   "metadata": {},
   "outputs": [],
   "source": [
    "import json"
   ]
  },
  {
   "cell_type": "code",
   "execution_count": 92,
   "metadata": {},
   "outputs": [],
   "source": [
    "template_path = '../assets/html/template.html'\n",
    "episode_file = \"../data/podcast/lex_ai_stephen_wolfram_1/audio_formatted.mp3\""
   ]
  },
  {
   "cell_type": "code",
   "execution_count": 93,
   "metadata": {},
   "outputs": [],
   "source": [
    "with open(template_path, 'r') as f:\n",
    "    doc = BeautifulSoup(f, 'html.parser')"
   ]
  },
  {
   "attachments": {},
   "cell_type": "markdown",
   "metadata": {},
   "source": [
    "How do I format the transcript data, in order to display each speaker, separated by each topic. Do I keep this hierarchical structure? Or is there a better way of doing it.\n",
    "\n",
    "The reason against the hierarchical structure is I want the topics to be less proposed, so I don't want them simply separated by divs like they are for speakers. I think that's still okay. I can keep the hierarchical structure, with topics on top, which are in an unobtrusive div, which can simply be highlighted, or navigated to. Actually, I can't. Due to the nature of this, segments will automatically be split from the top-down. So if a topic changes in the middle of a speaker's segment, this will also be split.\n",
    "\n",
    "This isn't too much of an issue just now, so I will go with it, leaving room for improvement."
   ]
  },
  {
   "attachments": {},
   "cell_type": "markdown",
   "metadata": {},
   "source": [
    "How am I going to syncronize the speaker separated transcript, with the topic separated one? By indexing.\n",
    "\n",
    "I need to index the speaker segments, and use that to insert speaker labels on each of the  topic sentences. This comes with a slight issue, in that the sentence split that was done earlier combined some of the sentences. That shouldn't be an issue though, as the speakers are actually labelled at word-level."
   ]
  },
  {
   "cell_type": "code",
   "execution_count": 94,
   "metadata": {},
   "outputs": [],
   "source": [
    "import torch\n",
    "import numpy as np"
   ]
  },
  {
   "cell_type": "code",
   "execution_count": 95,
   "metadata": {},
   "outputs": [],
   "source": [
    "with open(\"../data/podcast/lex_ai_stephen_wolfram_1/transcript.json\", \"r\") as f:\n",
    "    transcript = json.load(f)"
   ]
  },
  {
   "cell_type": "code",
   "execution_count": 96,
   "metadata": {},
   "outputs": [],
   "source": [
    "#| export\n",
    "def format_timestamp(seconds): return str(timedelta(seconds=int(seconds)))"
   ]
  },
  {
   "cell_type": "code",
   "execution_count": 97,
   "metadata": {},
   "outputs": [],
   "source": [
    "#| export \n",
    "def create_overview_summary_div(whole_summary):\n",
    "    summary_div = doc.new_tag('div', attrs={'class': 'transcript-summary-whole'})\n",
    "    summary_p = doc.new_tag('p', attrs={'class': 'transcript-summary-whole-paragraph'})\n",
    "    summary_p.string = whole_summary\n",
    "    summary_div.append(summary_p)\n",
    "    return summary_div"
   ]
  },
  {
   "cell_type": "code",
   "execution_count": 98,
   "metadata": {},
   "outputs": [],
   "source": [
    "#| export\n",
    "def create_overview_toc_div(topics):\n",
    "    toc_div = doc.new_tag('div', attrs={'class': 'transcript-toc'})\n",
    "    toc_list = doc.new_tag('ol', attrs={'class': 'toc-list'})\n",
    "    for topic in topics:\n",
    "        list_item = doc.new_tag('li')\n",
    "        topic_link = doc.new_tag('a', href=f\"#topic_{topic['label']}\")\n",
    "        topic_title = doc.new_tag('p', attrs={'class': 'title'})\n",
    "        topic_title.string = topic['title']\n",
    "        topic_link.append(topic_title)\n",
    "        list_item.append(topic_link)\n",
    "        toc_list.append(list_item)\n",
    "    toc_div.append(toc_list)\n",
    "    return toc_div\n"
   ]
  },
  {
   "cell_type": "code",
   "execution_count": 99,
   "metadata": {},
   "outputs": [],
   "source": [
    "#| export \n",
    "def create_overview_div(transcript):\n",
    "    overview_div = doc.new_tag('div', attrs={'class': 'transcript-overview'})\n",
    "    overview_div.append(create_overview_summary_div(transcript['summary']))\n",
    "    overview_div.append(create_overview_toc_div(transcript['topics']))\n",
    "    return overview_div"
   ]
  },
  {
   "cell_type": "code",
   "execution_count": 100,
   "metadata": {},
   "outputs": [],
   "source": [
    "#| export\n",
    "def create_topic_summary_div(summary):\n",
    "    summary_div = doc.new_tag('div')\n",
    "    summary_div['class'] = 'transcript-summary'\n",
    "    summary_p = doc.new_tag(\"p\")\n",
    "    summary_p['class'] = 'transcript-summary-paragraph'\n",
    "    summary_p.string = summary\n",
    "    summary_div.append(summary_p)\n",
    "    return summary_div"
   ]
  },
  {
   "cell_type": "code",
   "execution_count": 101,
   "metadata": {},
   "outputs": [],
   "source": [
    "#| export\n",
    "def create_info_div(object, group_type, attrs, summary=False):\n",
    "    info_div = doc.new_tag('div')\n",
    "    info_div['class'] = 'transcript-info ' + group_type\n",
    "    info_button = doc.new_tag('button')\n",
    "    info_button['class'] = 'transcript-info-button ' + group_type\n",
    "    for a in attrs:\n",
    "        span = doc.new_tag('span')\n",
    "        span['class'] = a\n",
    "        if a == 'start':\n",
    "            span.string = format_timestamp(object[a])\n",
    "        elif 'label':\n",
    "            if not summary:\n",
    "                span.string = str(object[a])\n",
    "            else: \n",
    "                span.string = str(object[a]+1) + \": \" + object['title']\n",
    "        else:\n",
    "            span.string = object[a]\n",
    "        info_button.append(span)\n",
    "    info_div.append(info_button)\n",
    "    return info_div"
   ]
  },
  {
   "cell_type": "code",
   "execution_count": 102,
   "metadata": {},
   "outputs": [],
   "source": [
    "#| export\n",
    "def create_group_div(group, fields=['label', 'start'], summary=False):\n",
    "    group_type = group['type']\n",
    "    group_div = doc.new_tag('div')\n",
    "    group_div['class'] = 'transcript-' + group_type\n",
    "    group_div['id'] = str(group['type']) + \"_\" + str(group['label'])\n",
    "    group_div.append(create_info_div(group, group_type, fields, summary))\n",
    "    if summary: group_div.append(create_topic_summary_div(group['summary']))\n",
    "    return group_div"
   ]
  },
  {
   "cell_type": "code",
   "execution_count": 103,
   "metadata": {},
   "outputs": [],
   "source": [
    "#| export\n",
    "def create_paragraph_div(paragraph):\n",
    "    paragraph_field = doc.new_tag('p')\n",
    "    paragraph_field['id'] = str(paragraph['label'])\n",
    "    paragraph_field['class'] = 'transcript-paragraph'\n",
    "    for word in paragraph['words']:\n",
    "        span = doc.new_tag('span')\n",
    "        span['class'] = 'transcript-word'\n",
    "        span.string = word['word'] + \" \"\n",
    "        span['id'] = word['start']\n",
    "        span['onclick'] = f\"setAudioTime({word['start']})\"\n",
    "        paragraph_field.append(span)\n",
    "    return paragraph_field"
   ]
  },
  {
   "cell_type": "code",
   "execution_count": 104,
   "metadata": {},
   "outputs": [],
   "source": [
    "#| export\n",
    "def create_transcript_div(transcript):\n",
    "    transcript_div = doc.new_tag('div')\n",
    "    transcript_div['class'] = 'transcript'\n",
    "    for topic in transcript:\n",
    "        summary = True if topic['summary'] else False\n",
    "        topic_div = create_group_div(topic, summary=summary)\n",
    "        for speech in topic['groups']:\n",
    "            speech_div = create_group_div(speech)\n",
    "            text_div = doc.new_tag('div')\n",
    "            text_div['class'] = 'transcript-text'\n",
    "            for paragraph in speech['groups']:\n",
    "                paragraph_div = create_paragraph_div(paragraph)\n",
    "                text_div.append(paragraph_div)\n",
    "            speech_div.append(text_div)\n",
    "            topic_div.append(speech_div)\n",
    "        transcript_div.append(topic_div)\n",
    "    return transcript_div"
   ]
  },
  {
   "cell_type": "code",
   "execution_count": 105,
   "metadata": {},
   "outputs": [],
   "source": [
    "#| export\n",
    "def create_html(transcript, episode_file, template_path='./assets/html/template.html'):\n",
    "\n",
    "    with open(template_path, 'r') as f: doc = BeautifulSoup(f, 'html.parser')\n",
    "\n",
    "    doc_transcript_div = doc.find_all('div', {'class': 'transcript-wrapper'})[0]\n",
    "    doc_transcript_div.append(create_overview_div(transcript))\n",
    "    doc_transcript_div.append(create_transcript_div(transcript['topics']))\n",
    "\n",
    "    with open(Path(episode_file).parent/'output-doc.html', 'w') as f: f.write(str(doc))\n",
    "    \n",
    "    return doc"
   ]
  },
  {
   "cell_type": "code",
   "execution_count": 106,
   "metadata": {},
   "outputs": [],
   "source": [
    "doc = create_html(transcript, episode_file, template_path)"
   ]
  },
  {
   "cell_type": "code",
   "execution_count": 107,
   "metadata": {},
   "outputs": [],
   "source": [
    "#| hide\n",
    "from nbdev import nbdev_export\n",
    "nbdev_export()"
   ]
  },
  {
   "cell_type": "code",
   "execution_count": null,
   "metadata": {},
   "outputs": [],
   "source": []
  }
 ],
 "metadata": {
  "kernelspec": {
   "display_name": "whisperx",
   "language": "python",
   "name": "python3"
  },
  "language_info": {
   "codemirror_mode": {
    "name": "ipython",
    "version": 3
   },
   "file_extension": ".py",
   "mimetype": "text/x-python",
   "name": "python",
   "nbconvert_exporter": "python",
   "pygments_lexer": "ipython3",
   "version": "3.10.12"
  },
  "orig_nbformat": 4
 },
 "nbformat": 4,
 "nbformat_minor": 2
}
